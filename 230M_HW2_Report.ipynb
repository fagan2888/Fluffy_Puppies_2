{
 "cells": [
  {
   "cell_type": "code",
   "execution_count": 134,
   "metadata": {
    "collapsed": false
   },
   "outputs": [],
   "source": [
    "import pandas as pd\n",
    "import numpy as np\n",
    "import scipy as sp\n",
    "import math\n",
    "import Hull_White as hw\n",
    "import mortgage_np as m\n",
    "import Discount_Functions as disc_func\n",
    "import itertools\n",
    "import matplotlib.pyplot as plt\n",
    "\n",
    "import MFE230M_HW2_main as hw2_module\n",
    "\n",
    "%matplotlib inline"
   ]
  },
  {
   "cell_type": "markdown",
   "metadata": {},
   "source": [
    "# Question a, b, c: \n",
    "### Using non-time-varying hazard model\n",
    "### The parameters estimated from MATLAB are:\n",
    "\n",
    "gamma = 0.0568\n",
    "\n",
    "p = 2.9025\n",
    "\n",
    "beta_1 = -12.6051\n",
    "\n",
    "beta_2 = -2.0992"
   ]
  },
  {
   "cell_type": "markdown",
   "metadata": {},
   "source": [
    "## Get V, V+, V- "
   ]
  },
  {
   "cell_type": "code",
   "execution_count": 135,
   "metadata": {
    "collapsed": false
   },
   "outputs": [
    {
     "name": "stdout",
     "output_type": "stream",
     "text": [
      "......"
     ]
    }
   ],
   "source": [
    "r0 = 0.01816\n",
    "dr = 10e-5\n",
    "num_sims = hw2_module.num_sims\n",
    "(bond_prices, standard_errors, summary_CF, summary_CF_anti, \n",
    " r_matrix, r_anti_matrix, cum_df_matrix, cum_df_anti_matrix,\n",
    " pricing_arr, pricing_arr_anti, r_matrix_original, r_anti_matrix_original) = hw2_module.get_V(r0)\n",
    "\n",
    "(bond_prices_p, standard_errors_p, summary_CF_p, summary_CF_anti_p,\n",
    " r_matrix_p, r_anti_matrix_p, cum_df_matrix_p, cum_df_anti_matrix_p,\n",
    " pricing_arr_p, pricing_arr_anti_p, r_matrix_original_p, r_anti_matrix_original_p)= hw2_module.get_V(r0+dr)\n",
    "\n",
    "(bond_prices_m, standard_errors_m, summary_CF_m, summary_CF_anti_m,\n",
    " r_matrix_m, r_anti_matrix_m, cum_df_matrix_m, cum_df_anti_matrix_m,\n",
    " pricing_arr_m, pricing_arr_anti_m, r_matrix_original_m, r_anti_matrix_original_m) = hw2_module.get_V(r0-dr)"
   ]
  },
  {
   "cell_type": "code",
   "execution_count": 136,
   "metadata": {
    "collapsed": true
   },
   "outputs": [],
   "source": [
    "#saving data for plotting later\n",
    "r_matrix_original_part_abc = r_matrix_original\n",
    "r_anti_matrix_original_part_abc = r_anti_matrix_original"
   ]
  },
  {
   "cell_type": "markdown",
   "metadata": {},
   "source": [
    "# Residual Class"
   ]
  },
  {
   "cell_type": "code",
   "execution_count": 137,
   "metadata": {
    "collapsed": false
   },
   "outputs": [],
   "source": [
    "residual_arr = hw2_module.get_residual_V(r0,summary_CF, summary_CF_anti, r_matrix, r_anti_matrix, cum_df_matrix, cum_df_anti_matrix)\n",
    "res_V0 = np.mean(residual_arr)\n",
    "res_std = np.std(residual_arr) / math.sqrt(num_sims)\n",
    "\n",
    "residual_arr_p = hw2_module.get_residual_V(r0+dr,summary_CF_p, summary_CF_anti_p, r_matrix_p, r_anti_matrix_p, cum_df_matrix_p, cum_df_anti_matrix_p)\n",
    "res_V_plus = np.mean(residual_arr_p)\n",
    "\n",
    "residual_arr_m = hw2_module.get_residual_V(r0-dr,summary_CF_m, summary_CF_anti_m, r_matrix_m, r_anti_matrix_m, cum_df_matrix_m, cum_df_anti_matrix_m)\n",
    "res_V_minus = np.mean(residual_arr_m)"
   ]
  },
  {
   "cell_type": "markdown",
   "metadata": {},
   "source": [
    "# Duration"
   ]
  },
  {
   "cell_type": "code",
   "execution_count": 138,
   "metadata": {
    "collapsed": false
   },
   "outputs": [],
   "source": [
    "HW = hw.Hull_White()\n",
    "bond_prices_p = [float('%.3f' % x) for x in bond_prices_p]\n",
    "bond_prices_m = [float('%.3f' % x) for x in bond_prices_m]\n",
    "\n",
    "# Calculate effective duration\n",
    "eff_durs = HW.Effective_Duration(bond_prices, bond_prices_p, bond_prices_m, dr)\n",
    "eff_durs = [float('%.3f' % x) for x in eff_durs]\n",
    "\n",
    "res_dur = HW.Effective_Duration(res_V0, res_V_plus, res_V_minus, dr)"
   ]
  },
  {
   "cell_type": "markdown",
   "metadata": {},
   "source": [
    "# Convexity"
   ]
  },
  {
   "cell_type": "code",
   "execution_count": 139,
   "metadata": {
    "collapsed": true
   },
   "outputs": [],
   "source": [
    "# Calculate effective convexity\n",
    "eff_conv = HW.Effective_Convexity(bond_prices, bond_prices_p, bond_prices_m, dr)\n",
    "eff_conv = [float('%.3f' % x) for x in eff_conv]\n",
    "res_conv = HW.Effective_Convexity(res_V0, res_V_plus, res_V_minus, dr)"
   ]
  },
  {
   "cell_type": "markdown",
   "metadata": {},
   "source": [
    "# OAS"
   ]
  },
  {
   "cell_type": "code",
   "execution_count": 140,
   "metadata": {
    "collapsed": false
   },
   "outputs": [],
   "source": [
    "final_oas_arr = hw2_module.get_OAS(pricing_arr, pricing_arr_anti, r_matrix, r_anti_matrix)"
   ]
  },
  {
   "cell_type": "markdown",
   "metadata": {},
   "source": [
    "# Build results dataframe"
   ]
  },
  {
   "cell_type": "code",
   "execution_count": 141,
   "metadata": {
    "collapsed": false
   },
   "outputs": [
    {
     "data": {
      "text/html": [
       "<div>\n",
       "<table border=\"1\" class=\"dataframe\">\n",
       "  <thead>\n",
       "    <tr style=\"text-align: right;\">\n",
       "      <th></th>\n",
       "      <th>CG</th>\n",
       "      <th>VE</th>\n",
       "      <th>CM</th>\n",
       "      <th>GZ</th>\n",
       "      <th>TC</th>\n",
       "      <th>CZ</th>\n",
       "      <th>CA</th>\n",
       "      <th>CY</th>\n",
       "      <th>R</th>\n",
       "    </tr>\n",
       "  </thead>\n",
       "  <tbody>\n",
       "    <tr>\n",
       "      <th>Bond Prices</th>\n",
       "      <td>5440586.275</td>\n",
       "      <td>15364.030</td>\n",
       "      <td>15062604.596</td>\n",
       "      <td>24050406.680</td>\n",
       "      <td>14361120.076</td>\n",
       "      <td>21124751.338</td>\n",
       "      <td>79425051.325</td>\n",
       "      <td>23691161.002</td>\n",
       "      <td>462242.353</td>\n",
       "    </tr>\n",
       "    <tr>\n",
       "      <th>Standard Errors</th>\n",
       "      <td>14803.036</td>\n",
       "      <td>237.701</td>\n",
       "      <td>270181.838</td>\n",
       "      <td>1296110.639</td>\n",
       "      <td>460720.153</td>\n",
       "      <td>729378.671</td>\n",
       "      <td>739257.298</td>\n",
       "      <td>990946.217</td>\n",
       "      <td>6464.237</td>\n",
       "    </tr>\n",
       "    <tr>\n",
       "      <th>Effective Duration</th>\n",
       "      <td>1.681</td>\n",
       "      <td>5.072</td>\n",
       "      <td>3.503</td>\n",
       "      <td>5.481</td>\n",
       "      <td>4.415</td>\n",
       "      <td>4.189</td>\n",
       "      <td>2.423</td>\n",
       "      <td>4.597</td>\n",
       "      <td>-4.568</td>\n",
       "    </tr>\n",
       "    <tr>\n",
       "      <th>Effective Convexity</th>\n",
       "      <td>2.224</td>\n",
       "      <td>24.082</td>\n",
       "      <td>13.419</td>\n",
       "      <td>32.523</td>\n",
       "      <td>22.715</td>\n",
       "      <td>20.141</td>\n",
       "      <td>4.856</td>\n",
       "      <td>22.224</td>\n",
       "      <td>-27.984</td>\n",
       "    </tr>\n",
       "    <tr>\n",
       "      <th>OAS</th>\n",
       "      <td>0.016</td>\n",
       "      <td>0.010</td>\n",
       "      <td>0.011</td>\n",
       "      <td>0.007</td>\n",
       "      <td>0.006</td>\n",
       "      <td>0.000</td>\n",
       "      <td>0.011</td>\n",
       "      <td>0.003</td>\n",
       "      <td>nan</td>\n",
       "    </tr>\n",
       "  </tbody>\n",
       "</table>\n",
       "</div>"
      ],
      "text/plain": [
       "                             CG        VE           CM           GZ  \\\n",
       "Bond Prices         5440586.275 15364.030 15062604.596 24050406.680   \n",
       "Standard Errors       14803.036   237.701   270181.838  1296110.639   \n",
       "Effective Duration        1.681     5.072        3.503        5.481   \n",
       "Effective Convexity       2.224    24.082       13.419       32.523   \n",
       "OAS                       0.016     0.010        0.011        0.007   \n",
       "\n",
       "                              TC           CZ           CA           CY  \\\n",
       "Bond Prices         14361120.076 21124751.338 79425051.325 23691161.002   \n",
       "Standard Errors       460720.153   729378.671   739257.298   990946.217   \n",
       "Effective Duration         4.415        4.189        2.423        4.597   \n",
       "Effective Convexity       22.715       20.141        4.856       22.224   \n",
       "OAS                        0.006        0.000        0.011        0.003   \n",
       "\n",
       "                             R  \n",
       "Bond Prices         462242.353  \n",
       "Standard Errors       6464.237  \n",
       "Effective Duration      -4.568  \n",
       "Effective Convexity    -27.984  \n",
       "OAS                        nan  "
      ]
     },
     "execution_count": 141,
     "metadata": {},
     "output_type": "execute_result"
    }
   ],
   "source": [
    "# merge results into dataframe\n",
    "cols = (pricing_arr[0]).columns\n",
    "cols = cols[:len(cols)-1]\n",
    "df = pd.DataFrame([bond_prices, standard_errors, eff_durs, eff_conv, final_oas_arr], columns = cols,\n",
    "                  index=['Bond Prices', 'Standard Errors', 'Effective Duration', 'Effective Convexity','OAS'])\n",
    "df['R'] = [res_V0, res_std, res_dur, res_conv, np.nan]\n",
    "pd.set_option('display.float_format', lambda x: '%.3f' % x)\n",
    "df"
   ]
  },
  {
   "cell_type": "markdown",
   "metadata": {},
   "source": [
    "# Question d, e, f: \n",
    "### Using time-varying hazard model\n",
    "### The parameters estimated from MATLAB are:\n",
    "\n",
    "gamma_non = 0.0048375\n",
    "\n",
    "p_non = 1.31377\n",
    "\n",
    "beta_1_non = 69.75265\n",
    "\n",
    "beta_2_non = -0.4082"
   ]
  },
  {
   "cell_type": "markdown",
   "metadata": {},
   "source": [
    "# Changing Parameters"
   ]
  },
  {
   "cell_type": "code",
   "execution_count": 142,
   "metadata": {
    "collapsed": false
   },
   "outputs": [],
   "source": [
    "hw2_module.gamma = 0.0048375\n",
    "hw2_module.p = 1.31377\n",
    "hw2_module.beta_1 = 69.75265\n",
    "hw2_module.beta_2 = -0.4082\n",
    "hw2_module.beta = np.array([hw2_module.beta_1, hw2_module.beta_2])"
   ]
  },
  {
   "cell_type": "markdown",
   "metadata": {},
   "source": [
    "# Get V, V+, V-"
   ]
  },
  {
   "cell_type": "code",
   "execution_count": 143,
   "metadata": {
    "collapsed": false
   },
   "outputs": [
    {
     "name": "stdout",
     "output_type": "stream",
     "text": [
      "......"
     ]
    }
   ],
   "source": [
    "(bond_prices, standard_errors, summary_CF, summary_CF_anti, \n",
    " r_matrix, r_anti_matrix, cum_df_matrix, cum_df_anti_matrix,\n",
    " pricing_arr, pricing_arr_anti, r_matrix_original, r_anti_matrix_original) = hw2_module.get_V(r0)\n",
    "\n",
    "(bond_prices_p, standard_errors_p, summary_CF_p, summary_CF_anti_p,\n",
    " r_matrix_p, r_anti_matrix_p, cum_df_matrix_p, cum_df_anti_matrix_p,\n",
    " pricing_arr_p, pricing_arr_anti_p, r_matrix_original_p, r_anti_matrix_original_p)= hw2_module.get_V(r0+dr)\n",
    "\n",
    "(bond_prices_m, standard_errors_m, summary_CF_m, summary_CF_anti_m,\n",
    " r_matrix_m, r_anti_matrix_m, cum_df_matrix_m, cum_df_anti_matrix_m,\n",
    " pricing_arr_m, pricing_arr_anti_m, r_matrix_original_m, r_anti_matrix_original_m) = hw2_module.get_V(r0-dr)"
   ]
  },
  {
   "cell_type": "markdown",
   "metadata": {},
   "source": [
    "# Residual Class"
   ]
  },
  {
   "cell_type": "code",
   "execution_count": 144,
   "metadata": {
    "collapsed": true
   },
   "outputs": [],
   "source": [
    "residual_arr = hw2_module.get_residual_V(r0,summary_CF, summary_CF_anti, r_matrix, r_anti_matrix, cum_df_matrix, cum_df_anti_matrix)\n",
    "res_V0 = np.mean(residual_arr)\n",
    "res_std = np.std(residual_arr) / math.sqrt(num_sims)\n",
    "\n",
    "residual_arr_p = hw2_module.get_residual_V(r0+dr,summary_CF_p, summary_CF_anti_p, r_matrix_p, r_anti_matrix_p, cum_df_matrix_p, cum_df_anti_matrix_p)\n",
    "res_V_plus = np.mean(residual_arr_p)\n",
    "\n",
    "residual_arr_m = hw2_module.get_residual_V(r0-dr,summary_CF_m, summary_CF_anti_m, r_matrix_m, r_anti_matrix_m, cum_df_matrix_m, cum_df_anti_matrix_m)\n",
    "res_V_minus = np.mean(residual_arr_m)"
   ]
  },
  {
   "cell_type": "markdown",
   "metadata": {},
   "source": [
    "# Duration"
   ]
  },
  {
   "cell_type": "code",
   "execution_count": 145,
   "metadata": {
    "collapsed": true
   },
   "outputs": [],
   "source": [
    "bond_prices_p = [float('%.3f' % x) for x in bond_prices_p]\n",
    "bond_prices_m = [float('%.3f' % x) for x in bond_prices_m]\n",
    "\n",
    "# Calculate effective duration\n",
    "eff_durs = HW.Effective_Duration(bond_prices, bond_prices_p, bond_prices_m, dr)\n",
    "eff_durs = [float('%.3f' % x) for x in eff_durs]\n",
    "\n",
    "res_dur = HW.Effective_Duration(res_V0, res_V_plus, res_V_minus, dr)"
   ]
  },
  {
   "cell_type": "markdown",
   "metadata": {},
   "source": [
    "# Convexity"
   ]
  },
  {
   "cell_type": "code",
   "execution_count": 146,
   "metadata": {
    "collapsed": true
   },
   "outputs": [],
   "source": [
    "# Calculate effective convexity\n",
    "eff_conv = HW.Effective_Convexity(bond_prices, bond_prices_p, bond_prices_m, dr)\n",
    "eff_conv = [float('%.3f' % x) for x in eff_conv]\n",
    "res_conv = HW.Effective_Convexity(res_V0, res_V_plus, res_V_minus, dr)"
   ]
  },
  {
   "cell_type": "markdown",
   "metadata": {},
   "source": [
    "# OAS"
   ]
  },
  {
   "cell_type": "code",
   "execution_count": 147,
   "metadata": {
    "collapsed": true
   },
   "outputs": [],
   "source": [
    "final_oas_arr = hw2_module.get_OAS(pricing_arr, pricing_arr_anti, r_matrix, r_anti_matrix)"
   ]
  },
  {
   "cell_type": "markdown",
   "metadata": {},
   "source": [
    "# Build results dataframe"
   ]
  },
  {
   "cell_type": "code",
   "execution_count": 148,
   "metadata": {
    "collapsed": false
   },
   "outputs": [
    {
     "data": {
      "text/html": [
       "<div>\n",
       "<table border=\"1\" class=\"dataframe\">\n",
       "  <thead>\n",
       "    <tr style=\"text-align: right;\">\n",
       "      <th></th>\n",
       "      <th>CG</th>\n",
       "      <th>VE</th>\n",
       "      <th>CM</th>\n",
       "      <th>GZ</th>\n",
       "      <th>TC</th>\n",
       "      <th>CZ</th>\n",
       "      <th>CA</th>\n",
       "      <th>CY</th>\n",
       "      <th>R</th>\n",
       "    </tr>\n",
       "  </thead>\n",
       "  <tbody>\n",
       "    <tr>\n",
       "      <th>Bond Prices</th>\n",
       "      <td>5440586.275</td>\n",
       "      <td>15364.030</td>\n",
       "      <td>15062604.596</td>\n",
       "      <td>24050406.680</td>\n",
       "      <td>14361120.076</td>\n",
       "      <td>21124751.338</td>\n",
       "      <td>79425051.325</td>\n",
       "      <td>23691161.002</td>\n",
       "      <td>462242.353</td>\n",
       "    </tr>\n",
       "    <tr>\n",
       "      <th>Standard Errors</th>\n",
       "      <td>14803.036</td>\n",
       "      <td>237.701</td>\n",
       "      <td>270181.838</td>\n",
       "      <td>1296110.639</td>\n",
       "      <td>460720.153</td>\n",
       "      <td>729378.671</td>\n",
       "      <td>739257.298</td>\n",
       "      <td>990946.217</td>\n",
       "      <td>6464.237</td>\n",
       "    </tr>\n",
       "    <tr>\n",
       "      <th>Effective Duration</th>\n",
       "      <td>1.681</td>\n",
       "      <td>5.072</td>\n",
       "      <td>3.503</td>\n",
       "      <td>5.481</td>\n",
       "      <td>4.415</td>\n",
       "      <td>4.189</td>\n",
       "      <td>2.423</td>\n",
       "      <td>4.597</td>\n",
       "      <td>-4.568</td>\n",
       "    </tr>\n",
       "    <tr>\n",
       "      <th>Effective Convexity</th>\n",
       "      <td>2.224</td>\n",
       "      <td>24.082</td>\n",
       "      <td>13.419</td>\n",
       "      <td>32.523</td>\n",
       "      <td>22.715</td>\n",
       "      <td>20.141</td>\n",
       "      <td>4.856</td>\n",
       "      <td>22.224</td>\n",
       "      <td>-27.984</td>\n",
       "    </tr>\n",
       "    <tr>\n",
       "      <th>OAS</th>\n",
       "      <td>0.016</td>\n",
       "      <td>0.010</td>\n",
       "      <td>0.011</td>\n",
       "      <td>0.007</td>\n",
       "      <td>0.006</td>\n",
       "      <td>0.000</td>\n",
       "      <td>0.011</td>\n",
       "      <td>0.003</td>\n",
       "      <td>nan</td>\n",
       "    </tr>\n",
       "  </tbody>\n",
       "</table>\n",
       "</div>"
      ],
      "text/plain": [
       "                             CG        VE           CM           GZ  \\\n",
       "Bond Prices         5440586.275 15364.030 15062604.596 24050406.680   \n",
       "Standard Errors       14803.036   237.701   270181.838  1296110.639   \n",
       "Effective Duration        1.681     5.072        3.503        5.481   \n",
       "Effective Convexity       2.224    24.082       13.419       32.523   \n",
       "OAS                       0.016     0.010        0.011        0.007   \n",
       "\n",
       "                              TC           CZ           CA           CY  \\\n",
       "Bond Prices         14361120.076 21124751.338 79425051.325 23691161.002   \n",
       "Standard Errors       460720.153   729378.671   739257.298   990946.217   \n",
       "Effective Duration         4.415        4.189        2.423        4.597   \n",
       "Effective Convexity       22.715       20.141        4.856       22.224   \n",
       "OAS                        0.006        0.000        0.011        0.003   \n",
       "\n",
       "                             R  \n",
       "Bond Prices         462242.353  \n",
       "Standard Errors       6464.237  \n",
       "Effective Duration      -4.568  \n",
       "Effective Convexity    -27.984  \n",
       "OAS                        nan  "
      ]
     },
     "execution_count": 148,
     "metadata": {},
     "output_type": "execute_result"
    }
   ],
   "source": [
    "# merge results into dataframe\n",
    "cols = (pricing_arr[0]).columns\n",
    "cols = cols[:len(cols)-1]\n",
    "df = pd.DataFrame([bond_prices, standard_errors, eff_durs, eff_conv, final_oas_arr], columns = cols,\n",
    "                  index=['Bond Prices', 'Standard Errors', 'Effective Duration', 'Effective Convexity','OAS'])\n",
    "df['R'] = [res_V0, res_std, res_dur, res_conv, np.nan]\n",
    "pd.set_option('display.float_format', lambda x: '%.3f' % x)\n",
    "df"
   ]
  },
  {
   "cell_type": "markdown",
   "metadata": {},
   "source": [
    "# Question g"
   ]
  },
  {
   "cell_type": "markdown",
   "metadata": {},
   "source": [
    "The OAS value is the option adjusted spread for the bond defined as an average spread to the riskless rate measured across all simulated cash flow trials. To get the present value of the discounted cash flows to equal the observed current market price, a constant spread is added. We are simulating future rates, but they are uncertain. Therefore, the MBS spread will be less because the homeowner’s option to prepay is valuable. The OAS reflects the spread after adjusting for this option. The option adjusted spread then equals:\n",
    "            \n",
    "            Option cost = static spread – option adjusted spread\n",
    "\n",
    "The OAS for our results was positive, indicating there is an uncertainty about future interest rates. However, it is small indicating the uncertainty is not so high as to drive up costs significantly for the option of the homeowner to prepay."
   ]
  },
  {
   "cell_type": "markdown",
   "metadata": {},
   "source": [
    "# Question h"
   ]
  },
  {
   "cell_type": "markdown",
   "metadata": {},
   "source": [
    "When calculating the hazard function for the non-time varying valuation, the covariates are assumed to be static over the life of the “individual” mortgage (contract). However, the hazard function for the time-varying valuation assumed the observed covariates vary over time. In terms of the non-time varying hazard function, the covariate is only evaluated at the termination period. For the time-varying covariate the covariate is evaluated at the beginning of every month.\n",
    "Thus the risk period for the non-time varying mortgage is only the termination date, but there are multiple risk periods for the time-varying case. Therefore, for the time-varying hazard model is no longer a proportional model because the covariates vary differently for different mortgages.\n",
    "For example, the non-time varying covariate appears like this:\n",
    "\n",
    "\n",
    "\n",
    "\n",
    "| Loan ID | Summer Month | Coupon Gap|\n",
    "| -- |:-:| ---:|\n",
    "| 1  | 0 | 123 |\n",
    "\n",
    "\n",
    " \n",
    "The time-varying covariate appears like this though:\n",
    "\n",
    "| Loan ID | Summer Month | Coupon Gap|\n",
    "| -- |:-:| ---:|\n",
    "| 1  | 0 | 134 |\n",
    "| 1  | 0 | 153 |\n",
    "| 1  | 0 | 122 |\n",
    "| 1  | 0 | 191 |\n",
    "\n",
    "The “prop hatz.m” function uses MLE estimation to get the parameters for the hazard function for time varying and non-time varying inputs. For the non-time varying hazard function, the likelihood of payment in period t is not affected by past values of the covariates, but in the time varying case the likelihood of payment depends on the entire history of covariates. The solution to the time-varying case is to estimate the condition of survivability at the beginning of each month. So there will be one episode per loan, per month. Thus, as explained before as well there are much more inputs influencing the value of the parameters given by the MLE estimation. These parameters determine the hazard function and therefore result in different hazard functions for time varying and non-time varying inputs. "
   ]
  },
  {
   "cell_type": "markdown",
   "metadata": {},
   "source": [
    "# Non-Time-Varying Avg Hazard Rate Plots"
   ]
  },
  {
   "cell_type": "code",
   "execution_count": 149,
   "metadata": {
    "collapsed": false
   },
   "outputs": [],
   "source": [
    "hw2_module.gamma = 0.0568\n",
    "hw2_module.p = 2.9025\n",
    "hw2_module.beta_1 = -12.6051\n",
    "hw2_module.beta_2 = -2.0992\n",
    "hw2_module.beta = np.array([hw2_module.beta_1, hw2_module.beta_2])"
   ]
  },
  {
   "cell_type": "code",
   "execution_count": 150,
   "metadata": {
    "collapsed": false,
    "scrolled": false
   },
   "outputs": [
    {
     "data": {
      "text/plain": [
       "<matplotlib.legend.Legend at 0x11614a898>"
      ]
     },
     "execution_count": 150,
     "metadata": {},
     "output_type": "execute_result"
    },
    {
     "data": {
      "image/png": "[encoded data removed]",
      "text/plain": [
       "<matplotlib.figure.Figure at 0x116d6ce48>"
      ]
     },
     "metadata": {},
     "output_type": "display_data"
    }
   ],
   "source": [
    "avg_hazard_rate_arr_pool1 = hw2_module.avg_hazard_rate(0, r_matrix_original_part_abc, r_anti_matrix_original_part_abc, num_sims)\n",
    "avg_hazard_rate_arr_pool2 = hw2_module.avg_hazard_rate(1, r_matrix_original_part_abc, r_anti_matrix_original_part_abc, num_sims)\n",
    "plt.plot(avg_hazard_rate_arr_pool1[0],label='Pool 1')\n",
    "plt.plot(avg_hazard_rate_arr_pool2[0],label='Pool 2')\n",
    "plt.legend()"
   ]
  },
  {
   "cell_type": "markdown",
   "metadata": {},
   "source": [
    "# Time-Varying Avg Hazard Rate Plots"
   ]
  },
  {
   "cell_type": "code",
   "execution_count": 151,
   "metadata": {
    "collapsed": false
   },
   "outputs": [],
   "source": [
    "hw2_module.gamma = 0.0048375\n",
    "hw2_module.p = 1.31377\n",
    "hw2_module.beta_1 = 69.75265\n",
    "hw2_module.beta_2 = -0.4082\n",
    "hw2_module.beta = np.array([hw2_module.beta_1, hw2_module.beta_2])"
   ]
  },
  {
   "cell_type": "code",
   "execution_count": 152,
   "metadata": {
    "collapsed": false
   },
   "outputs": [
    {
     "data": {
      "text/plain": [
       "<matplotlib.legend.Legend at 0x11c22def0>"
      ]
     },
     "execution_count": 152,
     "metadata": {},
     "output_type": "execute_result"
    },
    {
     "data": {
      "image/png": "[encoded data removed]",
      "text/plain": [
       "<matplotlib.figure.Figure at 0x116d734a8>"
      ]
     },
     "metadata": {},
     "output_type": "display_data"
    }
   ],
   "source": [
    "avg_hazard_rate_arr_pool1 = hw2_module.avg_hazard_rate(0, r_matrix_original, r_anti_matrix_original, num_sims)\n",
    "avg_hazard_rate_arr_pool2 = hw2_module.avg_hazard_rate(1, r_matrix_original, r_anti_matrix_original, num_sims)\n",
    "plt.plot(avg_hazard_rate_arr_pool1[0],label='Pool 1')\n",
    "plt.plot(avg_hazard_rate_arr_pool2[0],label='Pool 2')\n",
    "plt.legend()"
   ]
  },
  {
   "cell_type": "code",
   "execution_count": null,
   "metadata": {
    "collapsed": true
   },
   "outputs": [],
   "source": []
  }
 ],
 "metadata": {
  "anaconda-cloud": {},
  "kernelspec": {
   "display_name": "Python [Root]",
   "language": "python",
   "name": "Python [Root]"
  },
  "language_info": {
   "codemirror_mode": {
    "name": "ipython",
    "version": 3
   },
   "file_extension": ".py",
   "mimetype": "text/x-python",
   "name": "python",
   "nbconvert_exporter": "python",
   "pygments_lexer": "ipython3",
   "version": "3.5.1"
  }
 },
 "nbformat": 4,
 "nbformat_minor": 0
}
