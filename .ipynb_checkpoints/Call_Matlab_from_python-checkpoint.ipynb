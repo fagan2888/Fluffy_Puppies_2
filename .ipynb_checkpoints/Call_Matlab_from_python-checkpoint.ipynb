{
 "cells": [
  {
   "cell_type": "code",
   "execution_count": 39,
   "metadata": {
    "collapsed": false
   },
   "outputs": [
    {
     "name": "stdout",
     "output_type": "stream",
     "text": [
      "[[0.0568237067543],[2.90254313798],[-12.6051326697],[-2.09924064092]]\n",
      "[[0.00182053598234],[0.0749653577461],[1.9997620191],[0.0494761934928]]\n"
     ]
    }
   ],
   "source": [
    "import matlab.engine\n",
    "eng = matlab.engine.start_matlab()\n",
    "para= eng.get_log_para(narout = 1)\n",
    "para_se = eng.get_log_se(narout = 1)\n",
    "print(para)\n",
    "print(para_se)"
   ]
  },
  {
   "cell_type": "markdown",
   "metadata": {
    "collapsed": true
   },
   "source": [
    "### Question(a)\n",
    "Given the matlab code (prop_haz.m) we can know that estimating hazard function follows the following formula:\n",
    "$$\\\\$$\n",
    "$$\n",
    "\\begin{align*}\n",
    "\\lambda(t) &= Pr(\\tau = t|\\tau>t-1,v)\\\\\n",
    "           &= \\frac{\\gamma p(\\gamma t)^{p-1}}{1+(\\gamma t)^p} e^{\\beta v}\\\\\n",
    "\\end{align*}\n",
    "$$\n",
    "where the covariates v are:\n",
    "1. Indicator for summer months.\n",
    "2. Difference between \"contract mortgage rate\" and \"the 3 month lag of the 10 year LIBOR rate\".\n",
    "\n",
    "From the formula, we know $\\gamma$ is the magnitude of the baseline hazard, and $p$ is the shape parameter for the baseline hazard. The last two parameters are coefficients for covariates, which are $\\beta_1$ and $\\beta_2$. \n",
    "$\\beta_1$ measures how borrowers react to coupoon gaps and $\\beta_2$ measures the sensitivity to the summer months."
   ]
  },
  {
   "cell_type": "code",
   "execution_count": 43,
   "metadata": {
    "collapsed": false
   },
   "outputs": [
    {
     "name": "stdout",
     "output_type": "stream",
     "text": [
      "[[0.0048375447524],[1.31377206773],[69.752653213],[-0.408218169874]]\n",
      "[[0.000447252684004],[0.0293563569075],[3.00396507062],[0.045844247549]]\n"
     ]
    }
   ],
   "source": [
    "para_non= eng.get_log_para_non(narout = 1)\n",
    "para_se_non = eng.get_log_se_non(narout = 1)\n",
    "print(para_non)\n",
    "print(para_se_non)"
   ]
  },
  {
   "cell_type": "markdown",
   "metadata": {},
   "source": [
    "### Question(d)\n",
    "The economics ideas are quite similar after considering the time-varying feature of the hazard model.\n",
    "\n",
    "From the formula, we know $\\gamma$ is the magnitude of the baseline hazard, and $p$ is the shape parameter for the baseline hazard. The last two parameters are coefficients for covariates, which are $\\beta_1$ and $\\beta_2$.\n",
    "\n",
    "$\\beta_1$ measures how borrowers react to coupoon gaps and $\\beta_2$ measures the sensitivity to the summer months.\n",
    "\n",
    "Now, we use time-varying data to estimate the time-varying hazard model using log-logistic baseline hazard method. Compared to the result in question a, the magnitude of hazard function is 0.0048 which is slightly smaller than the non-varying model. The shape parameter $(p)$ is 1.31 which is much smaller than the shape coefficient in question a. \n",
    "\n",
    "The $\\beta$ parameters behave quite different from question a, within time-varying model, the reaction to coupon gaps $(\\beta_1)$ is strongly positive while in non-time varying model, there is a negative relation. For $\\beta_2$, summer indicator used to have a negative impact on hazard rate, however, the effect diminish to zero when we use time-varying model."
   ]
  }
 ],
 "metadata": {
  "anaconda-cloud": {},
  "kernelspec": {
   "display_name": "Python 3",
   "language": "python",
   "name": "python3"
  },
  "language_info": {
   "codemirror_mode": {
    "name": "ipython",
    "version": 3
   },
   "file_extension": ".py",
   "mimetype": "text/x-python",
   "name": "python",
   "nbconvert_exporter": "python",
   "pygments_lexer": "ipython3",
   "version": "3.5.1"
  }
 },
 "nbformat": 4,
 "nbformat_minor": 0
}
