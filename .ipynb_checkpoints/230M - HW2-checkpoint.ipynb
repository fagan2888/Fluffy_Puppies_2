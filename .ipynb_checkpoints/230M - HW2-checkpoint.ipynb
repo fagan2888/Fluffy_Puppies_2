{
 "cells": [
  {
   "cell_type": "code",
   "execution_count": 1,
   "metadata": {
    "collapsed": false
   },
   "outputs": [],
   "source": [
    "import pandas as pd\n",
    "import numpy as np\n",
    "import scipy as sp\n",
    "import math\n",
    "import Hull_White as hw\n",
    "import mortgage as m\n",
    "import Discount_Functions as disc_func\n",
    "import itertools\n",
    "import matplotlib.pyplot as plt\n",
    "from __future__ import absolute_import, division, print_function\n",
    "%matplotlib inline"
   ]
  },
  {
   "cell_type": "code",
   "execution_count": 2,
   "metadata": {
    "collapsed": false
   },
   "outputs": [],
   "source": [
    "cap_rate = 0.0475      # given in HW2_Data file\n",
    "short_rate = 0.01816   # given in HW2_Data file\n",
    "dt = 0.25\n",
    "\n",
    "HW = hw.Hull_White()   #our Hull White class\n",
    "K = 1/(1+cap_rate*dt)  #strike in put model\n",
    "\n",
    "# from HW1 problem set\n",
    "kappa = 0.153\n",
    "sigma = 0.0153\n",
    "\n",
    "# from HW1 REMIC data file\n",
    "WACs = [0.05402, 0.05419]   # WAC values for two pools"
   ]
  },
  {
   "cell_type": "code",
   "execution_count": 3,
   "metadata": {
    "collapsed": true
   },
   "outputs": [],
   "source": [
    "df_stmat = pd.read_csv('stmat.csv') \n",
    "df_tvmat = pd.read_csv('tvmat.csv')\n",
    "df_disc_factors = pd.read_csv('discount factors.csv')\n",
    "df_caplet_vols = pd.read_csv('caplet vols.csv')\n",
    "df_mthly_10_yr_LIBOR_04 = pd.read_csv('monthly 10 year LIBOR spot rates for 2004.csv')\n",
    "\n",
    "df_stmat['Coupon Gap'] = df_stmat['Coupon Gap'] * 0.0001 # convert from basis points to decimal\n",
    "df_tvmat['Coupon Gap'] = df_tvmat['Coupon Gap'] * 0.0001 # convert from basis points to decimal"
   ]
  },
  {
   "cell_type": "markdown",
   "metadata": {},
   "source": [
    "#### Forward rates from dicsount functions"
   ]
  },
  {
   "cell_type": "code",
   "execution_count": 4,
   "metadata": {
    "collapsed": false
   },
   "outputs": [
    {
     "name": "stdout",
     "output_type": "stream",
     "text": [
      "my estimation of coefficients are:\n",
      "[ -2.32447481e-02  -3.81606103e-03   1.62964402e-04  -3.02679751e-06\n",
      "   2.09422571e-08]\n"
     ]
    }
   ],
   "source": [
    "## import and clean data\n",
    "data_z = pd.read_csv(\"discount factors.csv\", header = 0)\n",
    "\n",
    "## fit Z curve using OLS\n",
    "data_z[\"poly\"] = np.log(data_z[\"Price\"])\n",
    "z_OLS = disc_func.OLS(disc_func.power_5(data_z[\"Maturity\"]), data_z[\"poly\"])\n",
    "print(\"my estimation of coefficients are:\")\n",
    "print(z_OLS.beta)\n",
    "\n",
    "(a,b,c,d,e) = z_OLS.beta\n",
    "coeff = [a,b,c,d,e]"
   ]
  },
  {
   "cell_type": "markdown",
   "metadata": {
    "collapsed": false
   },
   "source": []
  },
  {
   "cell_type": "code",
   "execution_count": 5,
   "metadata": {
    "collapsed": false
   },
   "outputs": [
    {
     "data": {
      "text/plain": [
       "\"libor_rate_arr = [df_mthly_10_yr_LIBOR_04['Rate'][i] for i in range(5,8)]\\nZ_arr = []\\nr_arr = []\\n\\n\\nfor t in t_range:\\n    Z_10 = HW.Z(0, t+10, r0, kappa, sigma, coeff)\\n    Z_1 = HW.Z(0, t, r0, kappa, sigma, coeff)\\n    \\n    r_10 = HW.r_t(0, t+10, r0, kappa, sigma, coeff)\\n    r_1 = HW.r_t(0, t, r0, kappa, sigma, coeff)\\n    r_arr.append(HW.r_t(0, t+10, r0, kappa, sigma, coeff))\\n   \\n    # r(t1, t2) = (1/(t2 - t1)) * ( ln(DF(0,t1)) - ln(DF(0,t2)) )\\n    #libor_rate_arr.append((np.log(Z_1) - np.log(Z_10)) / (t+10 - t))\\n    libor_rate_arr.append((r_10*(t+10) - r_1*(t)) / (t+10 - t))\\n    \\n#plt.plot(libor_rate_arr[3:])\\n#plt.plot(r_arr)\\nplt.plot(libor_rate_arr)\\nprint(libor_rate_arr[:8])\\nprint(len(libor_rate_arr))\\n\""
      ]
     },
     "execution_count": 5,
     "metadata": {},
     "output_type": "execute_result"
    }
   ],
   "source": [
    "# Comment by Kunming: Ignore this for now\n",
    "\n",
    "#t_range = np.arange(1,241-3)/12\n",
    "r0 = short_rate\n",
    "#r0 = df_mthly_10_yr_LIBOR_04['Rate'][8]\n",
    "'''libor_rate_arr = [df_mthly_10_yr_LIBOR_04['Rate'][i] for i in range(5,8)]\n",
    "Z_arr = []\n",
    "r_arr = []\n",
    "\n",
    "\n",
    "for t in t_range:\n",
    "    Z_10 = HW.Z(0, t+10, r0, kappa, sigma, coeff)\n",
    "    Z_1 = HW.Z(0, t, r0, kappa, sigma, coeff)\n",
    "    \n",
    "    r_10 = HW.r_t(0, t+10, r0, kappa, sigma, coeff)\n",
    "    r_1 = HW.r_t(0, t, r0, kappa, sigma, coeff)\n",
    "    r_arr.append(HW.r_t(0, t+10, r0, kappa, sigma, coeff))\n",
    "   \n",
    "    # r(t1, t2) = (1/(t2 - t1)) * ( ln(DF(0,t1)) - ln(DF(0,t2)) )\n",
    "    #libor_rate_arr.append((np.log(Z_1) - np.log(Z_10)) / (t+10 - t))\n",
    "    libor_rate_arr.append((r_10*(t+10) - r_1*(t)) / (t+10 - t))\n",
    "    \n",
    "#plt.plot(libor_rate_arr[3:])\n",
    "#plt.plot(r_arr)\n",
    "plt.plot(libor_rate_arr)\n",
    "print(libor_rate_arr[:8])\n",
    "print(len(libor_rate_arr))\n",
    "'''\n"
   ]
  },
  {
   "cell_type": "markdown",
   "metadata": {
    "collapsed": true
   },
   "source": [
    "#### Ouput results from matlab functions"
   ]
  },
  {
   "cell_type": "code",
   "execution_count": 6,
   "metadata": {
    "collapsed": true
   },
   "outputs": [],
   "source": [
    "gamma = 0.0568\n",
    "p = 2.9025\n",
    "beta_1 = -12.6051\n",
    "beta_2 = -2.0992"
   ]
  },
  {
   "cell_type": "markdown",
   "metadata": {},
   "source": [
    "#### Standard error results from matlab code"
   ]
  },
  {
   "cell_type": "code",
   "execution_count": 7,
   "metadata": {
    "collapsed": true
   },
   "outputs": [],
   "source": [
    "gamma_se = 0.0018\n",
    "p_se = 0.0750\n",
    "beta_1_se = 1.9998\n",
    "beta_2_se = 0.0495"
   ]
  },
  {
   "cell_type": "markdown",
   "metadata": {},
   "source": [
    "# Q(a)"
   ]
  },
  {
   "cell_type": "markdown",
   "metadata": {},
   "source": [
    "#### hazard function"
   ]
  },
  {
   "cell_type": "code",
   "execution_count": 8,
   "metadata": {
    "collapsed": false
   },
   "outputs": [],
   "source": [
    "beta = np.array([beta_1, beta_2])\n",
    "\n",
    "def libor_rate_10yr_lag3(t):\n",
    "    #here the time input t should be integer month\n",
    "    if t==1:\n",
    "        return 0.0539\n",
    "    elif t==2:\n",
    "        return 0.0522\n",
    "    elif t==3:\n",
    "        return 0.0510\n",
    "    else:\n",
    "        t = (t-3)/12\n",
    "        r_10 = HW.r_t(0, t+10, r0, kappa, sigma, coeff)\n",
    "        r_1 = HW.r_t(0, t, r0, kappa, sigma, coeff)\n",
    "        return((r_10*(t+10) - r_1*(t)) / (t+10 - t))\n",
    "\n",
    "def summer_index_func(t):\n",
    "    # starting from Sept. plus 8\n",
    "    t = t + 8\n",
    "    return 1 if t%12 in [5,6,7,8] else 0\n",
    "\n",
    "def hazard_func(t, gamma, p, beta, pool):\n",
    "    #here the time input t should be integer month\n",
    "    t = int(t)\n",
    "    v = np.array([WACs[pool] - libor_rate_10yr_lag3(t), summer_index_func(t)])\n",
    "    exp_val = np.dot(v, beta)\n",
    "    return ((gamma*p * (gamma * t)**(p-1)) / (1 + (gamma * t)**p)) * np.exp(exp_val)\n",
    "\n",
    "def SMM_func(tminus, tplus, gamma, p, beta, pool):\n",
    "    int_res = sp.integrate.quad(lambda s: hazard_func(s, gamma, p, beta, pool), tminus, tplus)[0]\n",
    "    return(1-np.exp(-int_res))\n"
   ]
  },
  {
   "cell_type": "code",
   "execution_count": 9,
   "metadata": {
    "collapsed": false
   },
   "outputs": [
    {
     "data": {
      "text/plain": [
       "[<matplotlib.lines.Line2D at 0x1199e4d68>]"
      ]
     },
     "execution_count": 9,
     "metadata": {},
     "output_type": "execute_result"
    },
    {
     "data": {
      "image/png": "[encoded data removed]",
      "text/plain": [
       "<matplotlib.figure.Figure at 0x114d7dc18>"
      ]
     },
     "metadata": {},
     "output_type": "display_data"
    }
   ],
   "source": [
    "## calculating the libor 10yr rate (lag 3 month)\n",
    "libor_rate_10yr_lag3_arr = []\n",
    "t_range = np.arange(1,241)\n",
    "for t in t_range:\n",
    "    libor_rate_10yr_lag3_arr.append(libor_rate_10yr_lag3(t))\n",
    "plt.plot(libor_rate_10yr_lag3_arr)"
   ]
  },
  {
   "cell_type": "code",
   "execution_count": 10,
   "metadata": {
    "collapsed": false
   },
   "outputs": [],
   "source": [
    "hazard_arr_1 = []\n",
    "hazard_arr_2 = []\n",
    "SMM_arr_1 = []\n",
    "SMM_arr_2 = []\n",
    "\n",
    "for t in range(1,241):\n",
    "    hazard_arr_1.append(hazard_func(t, gamma, p, beta, 0))\n",
    "    hazard_arr_2.append(hazard_func(t, gamma, p, beta, 1))\n",
    "    SMM_arr_1.append(SMM_func(t-1, t, gamma, p, beta, 0))\n",
    "    SMM_arr_2.append(SMM_func(t-1, t, gamma, p, beta, 1))\n",
    "    \n",
    "SMM_arr_1 = pd.Series(SMM_arr_1)\n",
    "SMM_arr_2 = pd.Series(SMM_arr_2)"
   ]
  },
  {
   "cell_type": "code",
   "execution_count": 11,
   "metadata": {
    "collapsed": false
   },
   "outputs": [
    {
     "name": "stdout",
     "output_type": "stream",
     "text": [
      "240\n",
      "240\n"
     ]
    },
    {
     "data": {
      "image/png": "[encoded data removed]",
      "text/plain": [
       "<matplotlib.figure.Figure at 0x119a4d748>"
      ]
     },
     "metadata": {},
     "output_type": "display_data"
    },
    {
     "data": {
      "image/png": "[encoded data removed]",
      "text/plain": [
       "<matplotlib.figure.Figure at 0x119a4df98>"
      ]
     },
     "metadata": {},
     "output_type": "display_data"
    }
   ],
   "source": [
    "plt.plot(SMM_arr_1)\n",
    "plt.figure()\n",
    "plt.plot(SMM_arr_2)\n",
    "a = len(SMM_arr_1)\n",
    "print(a)\n",
    "print(len(SMM_arr_1))"
   ]
  },
  {
   "cell_type": "code",
   "execution_count": 12,
   "metadata": {
    "collapsed": false
   },
   "outputs": [
    {
     "data": {
      "text/plain": [
       "[<matplotlib.lines.Line2D at 0x11893c0f0>]"
      ]
     },
     "execution_count": 12,
     "metadata": {},
     "output_type": "execute_result"
    },
    {
     "data": {
      "image/png": "[encoded data removed]",
      "text/plain": [
       "<matplotlib.figure.Figure at 0x114321320>"
      ]
     },
     "metadata": {},
     "output_type": "display_data"
    },
    {
     "data": {
      "image/png": "[encoded data removed]",
      "text/plain": [
       "<matplotlib.figure.Figure at 0x114c9eb70>"
      ]
     },
     "metadata": {},
     "output_type": "display_data"
    }
   ],
   "source": [
    "## for question h\n",
    "ave_hazard_arr_1 = np.cumsum(hazard_arr_1) / (t_range + 10)\n",
    "ave_hazard_arr_2 = np.cumsum(hazard_arr_2) / (t_range + 10)\n",
    "plt.plot(ave_hazard_arr_1)\n",
    "plt.figure()\n",
    "plt.plot(ave_hazard_arr_2)"
   ]
  },
  {
   "cell_type": "markdown",
   "metadata": {},
   "source": [
    "# Qb"
   ]
  },
  {
   "cell_type": "code",
   "execution_count": 13,
   "metadata": {
    "collapsed": true
   },
   "outputs": [],
   "source": [
    "# basic information of two mortgage, for mortgage package\n",
    "principal_1 = 77657656.75\n",
    "monthly_interest_1 = 5.402/1200\n",
    "payment_number_1 = 236\n",
    "PSA_1 = 1.5\n",
    "maturity_1 = 20\n",
    "age_1 = 3\n",
    "\n",
    "principal_2 = 128842343.35\n",
    "monthly_interest_2 = 5.419/1200\n",
    "payment_number_2 = 237\n",
    "PSA_2 = 1.5\n",
    "maturity_2 = 20\n",
    "age_2 = 3\n",
    "\n",
    "CG = 74800000\n",
    "VE = 5200000\n",
    "CM = 14000000\n",
    "GZ = 22000000\n",
    "TC = 20000000\n",
    "CZ = 24000000\n",
    "CA = 32550000\n",
    "CY = 13950000\n",
    "tranche_coupon = 5/(12*100)"
   ]
  },
  {
   "cell_type": "code",
   "execution_count": 14,
   "metadata": {
    "collapsed": false
   },
   "outputs": [],
   "source": [
    "pool_CF_1 = m.pool_CF(principal_1, monthly_interest_1, payment_number_1, PSA_1, maturity_1, age_1, SMM_arr_1)\n",
    "pool_CF_2 = m.pool_CF(principal_2, monthly_interest_2, payment_number_2, PSA_2, maturity_2, age_2, SMM_arr_2)\n",
    "summary_CF = m.summary_CF(pool_CF_1, pool_CF_2)\n",
    "principal_CF_Alloc = m.Principal_CF_Alloc(summary_CF,tranche_coupon,CG,VE,CM,GZ,TC,CZ,CA,CY)\n",
    "principal = m.Principal(principal_CF_Alloc)\n",
    "balance = m.Balance(summary_CF,principal_CF_Alloc)\n",
    "interest = m.Interest(balance,principal_CF_Alloc,summary_CF,tranche_coupon)\n",
    "pricing = m.Pricing(principal,interest)\n"
   ]
  },
  {
   "cell_type": "code",
   "execution_count": 15,
   "metadata": {
    "collapsed": false
   },
   "outputs": [
    {
     "data": {
      "text/html": [
       "<div>\n",
       "<table border=\"1\" class=\"dataframe\">\n",
       "  <thead>\n",
       "    <tr style=\"text-align: right;\">\n",
       "      <th></th>\n",
       "      <th>Period</th>\n",
       "      <th>CG</th>\n",
       "      <th>VE</th>\n",
       "      <th>CM</th>\n",
       "      <th>GZ</th>\n",
       "      <th>TC</th>\n",
       "      <th>CZ</th>\n",
       "      <th>CA</th>\n",
       "      <th>CY</th>\n",
       "    </tr>\n",
       "  </thead>\n",
       "  <tbody>\n",
       "    <tr>\n",
       "      <th>1</th>\n",
       "      <td>1.0</td>\n",
       "      <td>7.913959e+05</td>\n",
       "      <td>113333.333333</td>\n",
       "      <td>58333.333333</td>\n",
       "      <td>0.0</td>\n",
       "      <td>83333.333333</td>\n",
       "      <td>0.0</td>\n",
       "      <td>245983.816439</td>\n",
       "      <td>58125.0</td>\n",
       "    </tr>\n",
       "    <tr>\n",
       "      <th>2</th>\n",
       "      <td>2.0</td>\n",
       "      <td>9.031671e+05</td>\n",
       "      <td>113333.333333</td>\n",
       "      <td>58333.333333</td>\n",
       "      <td>0.0</td>\n",
       "      <td>83333.333333</td>\n",
       "      <td>0.0</td>\n",
       "      <td>278467.323250</td>\n",
       "      <td>58125.0</td>\n",
       "    </tr>\n",
       "    <tr>\n",
       "      <th>3</th>\n",
       "      <td>3.0</td>\n",
       "      <td>1.197170e+06</td>\n",
       "      <td>113333.333333</td>\n",
       "      <td>58333.333333</td>\n",
       "      <td>0.0</td>\n",
       "      <td>83333.333333</td>\n",
       "      <td>0.0</td>\n",
       "      <td>363911.987852</td>\n",
       "      <td>58125.0</td>\n",
       "    </tr>\n",
       "    <tr>\n",
       "      <th>4</th>\n",
       "      <td>4.0</td>\n",
       "      <td>1.644794e+06</td>\n",
       "      <td>113333.333333</td>\n",
       "      <td>58333.333333</td>\n",
       "      <td>0.0</td>\n",
       "      <td>83333.333333</td>\n",
       "      <td>0.0</td>\n",
       "      <td>494002.518384</td>\n",
       "      <td>58125.0</td>\n",
       "    </tr>\n",
       "    <tr>\n",
       "      <th>5</th>\n",
       "      <td>5.0</td>\n",
       "      <td>2.143640e+06</td>\n",
       "      <td>113333.333333</td>\n",
       "      <td>58333.333333</td>\n",
       "      <td>0.0</td>\n",
       "      <td>83333.333333</td>\n",
       "      <td>0.0</td>\n",
       "      <td>638979.629427</td>\n",
       "      <td>58125.0</td>\n",
       "    </tr>\n",
       "  </tbody>\n",
       "</table>\n",
       "</div>"
      ],
      "text/plain": [
       "   Period            CG             VE            CM   GZ            TC   CZ  \\\n",
       "1     1.0  7.913959e+05  113333.333333  58333.333333  0.0  83333.333333  0.0   \n",
       "2     2.0  9.031671e+05  113333.333333  58333.333333  0.0  83333.333333  0.0   \n",
       "3     3.0  1.197170e+06  113333.333333  58333.333333  0.0  83333.333333  0.0   \n",
       "4     4.0  1.644794e+06  113333.333333  58333.333333  0.0  83333.333333  0.0   \n",
       "5     5.0  2.143640e+06  113333.333333  58333.333333  0.0  83333.333333  0.0   \n",
       "\n",
       "              CA       CY  \n",
       "1  245983.816439  58125.0  \n",
       "2  278467.323250  58125.0  \n",
       "3  363911.987852  58125.0  \n",
       "4  494002.518384  58125.0  \n",
       "5  638979.629427  58125.0  "
      ]
     },
     "execution_count": 15,
     "metadata": {},
     "output_type": "execute_result"
    }
   ],
   "source": [
    "# Adjsut the order of column \n",
    "cols = pricing.columns.tolist()\n",
    "cols = cols[6:7] + cols[1:2] + cols[8:9] + cols[2:3] + cols[5:6] + cols[7:8] + cols[4:5] + cols[0:1] + cols[3:4]\n",
    "data_cashflow = pricing[cols]\n",
    "data_cashflow.head()"
   ]
  },
  {
   "cell_type": "code",
   "execution_count": 16,
   "metadata": {
    "collapsed": true
   },
   "outputs": [],
   "source": [
    "# 5,000 simulation, so that the total number of paths is 10,000\n",
    "num_sims = 1000\n",
    "T = 20\n",
    "dt = 1.0/12.0\n",
    "dr = 10e-5  # dr taken to be arbitrarily small\n",
    "## Simlation:\n",
    "## cum_df_matrix = cumulative discount factor matrix\n",
    "## cum_df_anti_matrix = cumulative discount factor matrix with antithetic path\n",
    "(cum_df_matrix, cum_df_anti_matrix, r_matrix, r_anti_matrix) = HW.Monte_Carlo_2(kappa, sigma, r0, K, T, dt, coeff, num_sims)\n",
    "\n",
    "\n",
    "# Price bonds\n",
    "bonds = data_cashflow.iloc[:,1:]\n",
    "bond_price_matrix = 0.5 * ((cum_df_matrix * np.matrix(bonds)) + (cum_df_anti_matrix * np.matrix(bonds)))\n",
    "bond_prices = bond_price_matrix.mean(0).tolist()[0]\n",
    "bond_prices = [float('%.3f' % x) for x in bond_prices]\n",
    "\n",
    "# Get standard errors of bonds\n",
    "standard_errors = HW.Std_Err(bond_price_matrix, num_sims)"
   ]
  },
  {
   "cell_type": "markdown",
   "metadata": {},
   "source": [
    "# Residual"
   ]
  },
  {
   "cell_type": "markdown",
   "metadata": {},
   "source": [
    "### V0"
   ]
  },
  {
   "cell_type": "code",
   "execution_count": 17,
   "metadata": {
    "collapsed": true
   },
   "outputs": [],
   "source": [
    "resid_tranche = summary_CF['Total_Interest'] + summary_CF['Total_Principal']\n",
    "\n",
    "residual_cashflow = []\n",
    "for r in r_matrix:\n",
    "    residual_cashflow.append(r * resid_tranche/24)\n",
    "residual_cashflow = np.matrix(residual_cashflow)\n",
    "\n",
    "residual_arr = []\n",
    "for d in cum_df_matrix:\n",
    "    residual_arr.append(np.dot(residual_cashflow,np.matrix(d).T))\n",
    "res_V0 = np.mean(residual_arr)\n",
    "res_std = np.std(residual_arr) / math.sqrt(num_sims)"
   ]
  },
  {
   "cell_type": "markdown",
   "metadata": {},
   "source": [
    "### V+ and V-"
   ]
  },
  {
   "cell_type": "code",
   "execution_count": 18,
   "metadata": {
    "collapsed": true
   },
   "outputs": [],
   "source": [
    "# Calculate V+ and V-\n",
    "(cum_df_matrix_p, cum_df_anti_matrix_p, r_matrix_p, r_anti_matrix_p) = HW.Monte_Carlo_2(kappa, sigma, r0+dr, K, T, dt, coeff, num_sims)\n",
    "(cum_df_matrix_m, cum_df_anti_matrix_m, r_matrix_m, r_anti_matrix_m) = HW.Monte_Carlo_2(kappa, sigma, r0-dr, K, T, dt, coeff, num_sims)\n",
    "\n",
    "# V+\n",
    "residual_cashflow = []\n",
    "for r in r_matrix_p:\n",
    "    residual_cashflow.append(r * resid_tranche/24)\n",
    "residual_cashflow = np.matrix(residual_cashflow)\n",
    "\n",
    "residual_arr = []\n",
    "for d in cum_df_matrix_p:\n",
    "    residual_arr.append(np.dot(residual_cashflow,np.matrix(d).T))\n",
    "res_V_plus = np.mean(residual_arr)\n",
    "\n",
    "# V-\n",
    "residual_cashflow = []\n",
    "for r in r_matrix_m:\n",
    "    residual_cashflow.append(r * resid_tranche/24)\n",
    "residual_cashflow = np.matrix(residual_cashflow)\n",
    "\n",
    "residual_arr = []\n",
    "for d in cum_df_matrix_m:\n",
    "    residual_arr.append(np.dot(residual_cashflow,np.matrix(d).T))\n",
    "res_V_minus = np.mean(residual_arr)"
   ]
  },
  {
   "cell_type": "markdown",
   "metadata": {},
   "source": [
    "# Residual Duration"
   ]
  },
  {
   "cell_type": "code",
   "execution_count": 19,
   "metadata": {
    "collapsed": true
   },
   "outputs": [],
   "source": [
    "res_dur = HW.Effective_Duration(res_V0, res_V_plus, res_V_minus, dr)"
   ]
  },
  {
   "cell_type": "markdown",
   "metadata": {},
   "source": [
    "# Residual Convexity"
   ]
  },
  {
   "cell_type": "code",
   "execution_count": 20,
   "metadata": {
    "collapsed": true
   },
   "outputs": [],
   "source": [
    "res_conv = HW.Effective_Convexity(res_V0, res_V_plus, res_V_minus, dr)"
   ]
  },
  {
   "cell_type": "markdown",
   "metadata": {},
   "source": [
    "# Cash Flows for all 8 bonds"
   ]
  },
  {
   "cell_type": "code",
   "execution_count": 21,
   "metadata": {
    "collapsed": false
   },
   "outputs": [
    {
     "data": {
      "text/html": [
       "<div>\n",
       "<table border=\"1\" class=\"dataframe\">\n",
       "  <thead>\n",
       "    <tr style=\"text-align: right;\">\n",
       "      <th></th>\n",
       "      <th>Period</th>\n",
       "      <th>CG</th>\n",
       "      <th>VE</th>\n",
       "      <th>CM</th>\n",
       "      <th>GZ</th>\n",
       "      <th>TC</th>\n",
       "      <th>CZ</th>\n",
       "      <th>CA</th>\n",
       "      <th>CY</th>\n",
       "    </tr>\n",
       "  </thead>\n",
       "  <tbody>\n",
       "    <tr>\n",
       "      <th>1</th>\n",
       "      <td>1.0</td>\n",
       "      <td>7.913959e+05</td>\n",
       "      <td>113333.333333</td>\n",
       "      <td>58333.333333</td>\n",
       "      <td>0.0</td>\n",
       "      <td>83333.333333</td>\n",
       "      <td>0.0</td>\n",
       "      <td>245983.816439</td>\n",
       "      <td>58125.0</td>\n",
       "    </tr>\n",
       "    <tr>\n",
       "      <th>2</th>\n",
       "      <td>2.0</td>\n",
       "      <td>9.031671e+05</td>\n",
       "      <td>113333.333333</td>\n",
       "      <td>58333.333333</td>\n",
       "      <td>0.0</td>\n",
       "      <td>83333.333333</td>\n",
       "      <td>0.0</td>\n",
       "      <td>278467.323250</td>\n",
       "      <td>58125.0</td>\n",
       "    </tr>\n",
       "    <tr>\n",
       "      <th>3</th>\n",
       "      <td>3.0</td>\n",
       "      <td>1.197170e+06</td>\n",
       "      <td>113333.333333</td>\n",
       "      <td>58333.333333</td>\n",
       "      <td>0.0</td>\n",
       "      <td>83333.333333</td>\n",
       "      <td>0.0</td>\n",
       "      <td>363911.987852</td>\n",
       "      <td>58125.0</td>\n",
       "    </tr>\n",
       "    <tr>\n",
       "      <th>4</th>\n",
       "      <td>4.0</td>\n",
       "      <td>1.644794e+06</td>\n",
       "      <td>113333.333333</td>\n",
       "      <td>58333.333333</td>\n",
       "      <td>0.0</td>\n",
       "      <td>83333.333333</td>\n",
       "      <td>0.0</td>\n",
       "      <td>494002.518384</td>\n",
       "      <td>58125.0</td>\n",
       "    </tr>\n",
       "    <tr>\n",
       "      <th>5</th>\n",
       "      <td>5.0</td>\n",
       "      <td>2.143640e+06</td>\n",
       "      <td>113333.333333</td>\n",
       "      <td>58333.333333</td>\n",
       "      <td>0.0</td>\n",
       "      <td>83333.333333</td>\n",
       "      <td>0.0</td>\n",
       "      <td>638979.629427</td>\n",
       "      <td>58125.0</td>\n",
       "    </tr>\n",
       "  </tbody>\n",
       "</table>\n",
       "</div>"
      ],
      "text/plain": [
       "   Period            CG             VE            CM   GZ            TC   CZ  \\\n",
       "1     1.0  7.913959e+05  113333.333333  58333.333333  0.0  83333.333333  0.0   \n",
       "2     2.0  9.031671e+05  113333.333333  58333.333333  0.0  83333.333333  0.0   \n",
       "3     3.0  1.197170e+06  113333.333333  58333.333333  0.0  83333.333333  0.0   \n",
       "4     4.0  1.644794e+06  113333.333333  58333.333333  0.0  83333.333333  0.0   \n",
       "5     5.0  2.143640e+06  113333.333333  58333.333333  0.0  83333.333333  0.0   \n",
       "\n",
       "              CA       CY  \n",
       "1  245983.816439  58125.0  \n",
       "2  278467.323250  58125.0  \n",
       "3  363911.987852  58125.0  \n",
       "4  494002.518384  58125.0  \n",
       "5  638979.629427  58125.0  "
      ]
     },
     "execution_count": 21,
     "metadata": {},
     "output_type": "execute_result"
    }
   ],
   "source": [
    "data_cashflow.head()"
   ]
  },
  {
   "cell_type": "markdown",
   "metadata": {},
   "source": [
    "# Price of Bonds, Duration and Convexity"
   ]
  },
  {
   "cell_type": "code",
   "execution_count": 22,
   "metadata": {
    "collapsed": true
   },
   "outputs": [],
   "source": [
    "# Calculate V+ and V-\n",
    "(cum_df_matrix_p, cum_df_anti_matrix_p, r_matrix_p, r_anti_matrix_p) = HW.Monte_Carlo_2(kappa, sigma, r0+dr, K, T, dt, coeff, num_sims)\n",
    "(cum_df_matrix_m, cum_df_anti_matrix_m, r_matrix_m, r_anti_matrix_m) = HW.Monte_Carlo_2(kappa, sigma, r0-dr, K, T, dt, coeff, num_sims)\n",
    "\n",
    "bond_price_matrix_p = 0.5 * ((cum_df_matrix_p * np.matrix(bonds)) + (cum_df_anti_matrix_p * np.matrix(bonds)))\n",
    "bond_prices_p = bond_price_matrix_p.mean(0).tolist()[0]\n",
    "bond_prices_p = [float('%.3f' % x) for x in bond_prices_p]\n",
    "\n",
    "bond_price_matrix_m = 0.5 * ((cum_df_matrix_m * np.matrix(bonds)) + (cum_df_anti_matrix_m * np.matrix(bonds)))\n",
    "bond_prices_m = bond_price_matrix_m.mean(0).tolist()[0]\n",
    "bond_prices_m = [float('%.3f' % x) for x in bond_prices_m]\n",
    "\n",
    "# Calculate effective duration\n",
    "eff_durs = HW.Effective_Duration(bond_prices, bond_prices_p, bond_prices_m, dr)\n",
    "eff_durs = [float('%.3f' % x) for x in eff_durs]\n",
    "\n",
    "# Calculate effective convexity\n",
    "eff_conv = HW.Effective_Convexity(bond_prices, bond_prices_p, bond_prices_m, dr)\n",
    "eff_conv = [float('%.3f' % x) for x in eff_conv]\n",
    "\n",
    "par_price = np.array((CG,VE,CM,GZ,TC,CZ,CA,CY))\n",
    "\n",
    "def oas_obj_func(oas,bond,i):\n",
    "    dt = 1/12\n",
    "    iterations = 240\n",
    "    r_matrix_new = r_matrix + oas\n",
    "    df_matrix_new = np.exp(-r_matrix_new*dt)\n",
    "    cum_df_matrix_new = np.zeros((num_sims, iterations))\n",
    "    for j in range(num_sims):\n",
    "        cum_df_matrix_new[j,:] = df_matrix_new[j,:].cumprod()\n",
    "    #return (cum_df_matrix_new * (np.matrix(bond).T)).mean()\n",
    "    return (((cum_df_matrix_new * (np.matrix(bond).T)).mean() - par_price[i])/1e7)**2 \n",
    "\n",
    "oas_arr = []\n",
    "for i in range(8):\n",
    "    oas_res = sp.optimize.minimize(lambda oas: oas_obj_func(oas, bonds.iloc[:,i],i),0.01)\n",
    "    oas_arr.append(oas_res.x[0])\n",
    "\n",
    "# merge results into dataframe\n",
    "df = pd.DataFrame([bond_prices, standard_errors, eff_durs, eff_conv, oas_arr],\n",
    "columns=data_cashflow.columns[1:], \n",
    "index=['Bond Prices', 'Standard Errors', 'Effective Duration', 'Effective Convexity','OAS'])"
   ]
  },
  {
   "cell_type": "markdown",
   "metadata": {},
   "source": [
    "### Add residual to final results"
   ]
  },
  {
   "cell_type": "code",
   "execution_count": 23,
   "metadata": {
    "collapsed": false
   },
   "outputs": [],
   "source": [
    "df['R'] = [res_V0, res_std, res_dur, res_conv, np.nan]"
   ]
  },
  {
   "cell_type": "markdown",
   "metadata": {},
   "source": [
    "## Part B) and Part C) and Part G) result below"
   ]
  },
  {
   "cell_type": "markdown",
   "metadata": {},
   "source": [
    "### The bond price"
   ]
  },
  {
   "cell_type": "code",
   "execution_count": 24,
   "metadata": {
    "collapsed": false
   },
   "outputs": [
    {
     "data": {
      "text/html": [
       "<div>\n",
       "<table border=\"1\" class=\"dataframe\">\n",
       "  <thead>\n",
       "    <tr style=\"text-align: right;\">\n",
       "      <th></th>\n",
       "      <th>CG</th>\n",
       "      <th>VE</th>\n",
       "      <th>CM</th>\n",
       "      <th>GZ</th>\n",
       "      <th>TC</th>\n",
       "      <th>CZ</th>\n",
       "      <th>CA</th>\n",
       "      <th>CY</th>\n",
       "      <th>R</th>\n",
       "    </tr>\n",
       "  </thead>\n",
       "  <tbody>\n",
       "    <tr>\n",
       "      <th>Bond Prices</th>\n",
       "      <td>7.700455e+07</td>\n",
       "      <td>5.379362e+06</td>\n",
       "      <td>1.459937e+07</td>\n",
       "      <td>2.317594e+07</td>\n",
       "      <td>2.115393e+07</td>\n",
       "      <td>2.562852e+07</td>\n",
       "      <td>3.371635e+07</td>\n",
       "      <td>1.480108e+07</td>\n",
       "      <td>308145.284308</td>\n",
       "    </tr>\n",
       "    <tr>\n",
       "      <th>Standard Errors</th>\n",
       "      <td>2.241570e+02</td>\n",
       "      <td>2.693700e+01</td>\n",
       "      <td>1.180980e+02</td>\n",
       "      <td>3.981780e+02</td>\n",
       "      <td>5.872720e+02</td>\n",
       "      <td>3.728435e+03</td>\n",
       "      <td>2.070600e+02</td>\n",
       "      <td>1.214866e+03</td>\n",
       "      <td>4008.844020</td>\n",
       "    </tr>\n",
       "    <tr>\n",
       "      <th>Effective Duration</th>\n",
       "      <td>9.950000e-01</td>\n",
       "      <td>1.185000e+00</td>\n",
       "      <td>1.488000e+00</td>\n",
       "      <td>1.925000e+00</td>\n",
       "      <td>2.165000e+00</td>\n",
       "      <td>3.410000e+00</td>\n",
       "      <td>1.241000e+00</td>\n",
       "      <td>2.720000e+00</td>\n",
       "      <td>-19.730591</td>\n",
       "    </tr>\n",
       "    <tr>\n",
       "      <th>Effective Convexity</th>\n",
       "      <td>1.113000e+00</td>\n",
       "      <td>1.580000e+00</td>\n",
       "      <td>2.281000e+00</td>\n",
       "      <td>3.711000e+00</td>\n",
       "      <td>4.893000e+00</td>\n",
       "      <td>1.219300e+01</td>\n",
       "      <td>1.762000e+00</td>\n",
       "      <td>8.330000e+00</td>\n",
       "      <td>-60.079658</td>\n",
       "    </tr>\n",
       "    <tr>\n",
       "      <th>OAS</th>\n",
       "      <td>2.589756e-02</td>\n",
       "      <td>2.478836e-02</td>\n",
       "      <td>2.385000e-02</td>\n",
       "      <td>2.183395e-02</td>\n",
       "      <td>2.006246e-02</td>\n",
       "      <td>1.199153e-02</td>\n",
       "      <td>2.433215e-02</td>\n",
       "      <td>1.476169e-02</td>\n",
       "      <td>NaN</td>\n",
       "    </tr>\n",
       "  </tbody>\n",
       "</table>\n",
       "</div>"
      ],
      "text/plain": [
       "                               CG            VE            CM            GZ  \\\n",
       "Bond Prices          7.700455e+07  5.379362e+06  1.459937e+07  2.317594e+07   \n",
       "Standard Errors      2.241570e+02  2.693700e+01  1.180980e+02  3.981780e+02   \n",
       "Effective Duration   9.950000e-01  1.185000e+00  1.488000e+00  1.925000e+00   \n",
       "Effective Convexity  1.113000e+00  1.580000e+00  2.281000e+00  3.711000e+00   \n",
       "OAS                  2.589756e-02  2.478836e-02  2.385000e-02  2.183395e-02   \n",
       "\n",
       "                               TC            CZ            CA            CY  \\\n",
       "Bond Prices          2.115393e+07  2.562852e+07  3.371635e+07  1.480108e+07   \n",
       "Standard Errors      5.872720e+02  3.728435e+03  2.070600e+02  1.214866e+03   \n",
       "Effective Duration   2.165000e+00  3.410000e+00  1.241000e+00  2.720000e+00   \n",
       "Effective Convexity  4.893000e+00  1.219300e+01  1.762000e+00  8.330000e+00   \n",
       "OAS                  2.006246e-02  1.199153e-02  2.433215e-02  1.476169e-02   \n",
       "\n",
       "                                 R  \n",
       "Bond Prices          308145.284308  \n",
       "Standard Errors        4008.844020  \n",
       "Effective Duration      -19.730591  \n",
       "Effective Convexity     -60.079658  \n",
       "OAS                            NaN  "
      ]
     },
     "execution_count": 24,
     "metadata": {},
     "output_type": "execute_result"
    }
   ],
   "source": [
    "df"
   ]
  },
  {
   "cell_type": "markdown",
   "metadata": {},
   "source": [
    "# Q(d)"
   ]
  },
  {
   "cell_type": "markdown",
   "metadata": {},
   "source": [
    "### Ouput results from matlab functions"
   ]
  },
  {
   "cell_type": "code",
   "execution_count": 25,
   "metadata": {
    "collapsed": true
   },
   "outputs": [],
   "source": [
    "gamma_non = 0.0048375\n",
    "p_non = 1.31377\n",
    "beta_1_non = 69.75265\n",
    "beta_2_non = -0.4082"
   ]
  },
  {
   "cell_type": "code",
   "execution_count": 26,
   "metadata": {
    "collapsed": false
   },
   "outputs": [],
   "source": [
    "beta_non = np.array([beta_1_non, beta_2_non])\n",
    "hazard_arr_1_non = []\n",
    "hazard_arr_2_non = []\n",
    "SMM_arr_1_non = []\n",
    "SMM_arr_2_non = []\n",
    "\n",
    "for t in range(1,241):\n",
    "    hazard_arr_1_non.append(hazard_func(t, gamma_non, p_non, beta_non, 0))\n",
    "    hazard_arr_2.append(hazard_func(t, gamma_non, p_non, beta_non, 1))\n",
    "    SMM_arr_1_non.append(SMM_func(t-1, t, gamma_non, p_non, beta_non, 0))\n",
    "    SMM_arr_2_non.append(SMM_func(t-1, t, gamma_non, p_non, beta_non, 1))\n",
    "    \n",
    "SMM_arr_1_non = pd.Series(SMM_arr_1_non)\n",
    "SMM_arr_2_non = pd.Series(SMM_arr_2_non)"
   ]
  },
  {
   "cell_type": "code",
   "execution_count": 27,
   "metadata": {
    "collapsed": false
   },
   "outputs": [
    {
     "name": "stdout",
     "output_type": "stream",
     "text": [
      "240\n",
      "240\n"
     ]
    },
    {
     "data": {
      "image/png": "[encoded data removed]",
      "text/plain": [
       "<matplotlib.figure.Figure at 0x118949c88>"
      ]
     },
     "metadata": {},
     "output_type": "display_data"
    },
    {
     "data": {
      "image/png": "[encoded data removed]",
      "text/plain": [
       "<matplotlib.figure.Figure at 0x118949860>"
      ]
     },
     "metadata": {},
     "output_type": "display_data"
    }
   ],
   "source": [
    "plt.plot(SMM_arr_1_non)\n",
    "plt.figure()\n",
    "plt.plot(SMM_arr_2_non)\n",
    "a_non = len(SMM_arr_1_non)\n",
    "print(a_non)\n",
    "print(len(SMM_arr_1_non))"
   ]
  },
  {
   "cell_type": "code",
   "execution_count": 28,
   "metadata": {
    "collapsed": true
   },
   "outputs": [],
   "source": [
    "pool_CF_1 = m.pool_CF(principal_1, monthly_interest_1, payment_number_1, PSA_1, maturity_1, age_1, SMM_arr_1_non)\n",
    "pool_CF_2 = m.pool_CF(principal_2, monthly_interest_2, payment_number_2, PSA_2, maturity_2, age_2, SMM_arr_2_non)\n",
    "summary_CF = m.summary_CF(pool_CF_1, pool_CF_2)\n",
    "principal_CF_Alloc = m.Principal_CF_Alloc(summary_CF,tranche_coupon,CG,VE,CM,GZ,TC,CZ,CA,CY)\n",
    "principal = m.Principal(principal_CF_Alloc)\n",
    "balance = m.Balance(summary_CF,principal_CF_Alloc)\n",
    "interest = m.Interest(balance,principal_CF_Alloc,summary_CF,tranche_coupon)\n",
    "pricing = m.Pricing(principal,interest)\n"
   ]
  },
  {
   "cell_type": "code",
   "execution_count": 29,
   "metadata": {
    "collapsed": false
   },
   "outputs": [
    {
     "data": {
      "text/html": [
       "<div>\n",
       "<table border=\"1\" class=\"dataframe\">\n",
       "  <thead>\n",
       "    <tr style=\"text-align: right;\">\n",
       "      <th></th>\n",
       "      <th>Period</th>\n",
       "      <th>CG</th>\n",
       "      <th>VE</th>\n",
       "      <th>CM</th>\n",
       "      <th>GZ</th>\n",
       "      <th>TC</th>\n",
       "      <th>CZ</th>\n",
       "      <th>CA</th>\n",
       "      <th>CY</th>\n",
       "    </tr>\n",
       "  </thead>\n",
       "  <tbody>\n",
       "    <tr>\n",
       "      <th>1</th>\n",
       "      <td>1.0</td>\n",
       "      <td>7.913959e+05</td>\n",
       "      <td>113333.333333</td>\n",
       "      <td>58333.333333</td>\n",
       "      <td>0.0</td>\n",
       "      <td>83333.333333</td>\n",
       "      <td>0.0</td>\n",
       "      <td>245983.816439</td>\n",
       "      <td>58125.0</td>\n",
       "    </tr>\n",
       "    <tr>\n",
       "      <th>2</th>\n",
       "      <td>2.0</td>\n",
       "      <td>9.842307e+05</td>\n",
       "      <td>113333.333333</td>\n",
       "      <td>58333.333333</td>\n",
       "      <td>0.0</td>\n",
       "      <td>83333.333333</td>\n",
       "      <td>0.0</td>\n",
       "      <td>302026.426037</td>\n",
       "      <td>58125.0</td>\n",
       "    </tr>\n",
       "    <tr>\n",
       "      <th>3</th>\n",
       "      <td>3.0</td>\n",
       "      <td>1.058667e+06</td>\n",
       "      <td>113333.333333</td>\n",
       "      <td>58333.333333</td>\n",
       "      <td>0.0</td>\n",
       "      <td>83333.333333</td>\n",
       "      <td>0.0</td>\n",
       "      <td>323659.531635</td>\n",
       "      <td>58125.0</td>\n",
       "    </tr>\n",
       "    <tr>\n",
       "      <th>4</th>\n",
       "      <td>4.0</td>\n",
       "      <td>1.118080e+06</td>\n",
       "      <td>113333.333333</td>\n",
       "      <td>58333.333333</td>\n",
       "      <td>0.0</td>\n",
       "      <td>83333.333333</td>\n",
       "      <td>0.0</td>\n",
       "      <td>340926.265698</td>\n",
       "      <td>58125.0</td>\n",
       "    </tr>\n",
       "    <tr>\n",
       "      <th>5</th>\n",
       "      <td>5.0</td>\n",
       "      <td>1.305717e+06</td>\n",
       "      <td>113333.333333</td>\n",
       "      <td>58333.333333</td>\n",
       "      <td>0.0</td>\n",
       "      <td>83333.333333</td>\n",
       "      <td>0.0</td>\n",
       "      <td>395458.304205</td>\n",
       "      <td>58125.0</td>\n",
       "    </tr>\n",
       "  </tbody>\n",
       "</table>\n",
       "</div>"
      ],
      "text/plain": [
       "   Period            CG             VE            CM   GZ            TC   CZ  \\\n",
       "1     1.0  7.913959e+05  113333.333333  58333.333333  0.0  83333.333333  0.0   \n",
       "2     2.0  9.842307e+05  113333.333333  58333.333333  0.0  83333.333333  0.0   \n",
       "3     3.0  1.058667e+06  113333.333333  58333.333333  0.0  83333.333333  0.0   \n",
       "4     4.0  1.118080e+06  113333.333333  58333.333333  0.0  83333.333333  0.0   \n",
       "5     5.0  1.305717e+06  113333.333333  58333.333333  0.0  83333.333333  0.0   \n",
       "\n",
       "              CA       CY  \n",
       "1  245983.816439  58125.0  \n",
       "2  302026.426037  58125.0  \n",
       "3  323659.531635  58125.0  \n",
       "4  340926.265698  58125.0  \n",
       "5  395458.304205  58125.0  "
      ]
     },
     "execution_count": 29,
     "metadata": {},
     "output_type": "execute_result"
    }
   ],
   "source": [
    "# Adjsut the order of column \n",
    "cols = pricing.columns.tolist()\n",
    "cols = cols[6:7] + cols[1:2] + cols[8:9] + cols[2:3] + cols[5:6] + cols[7:8] + cols[4:5] + cols[0:1] + cols[3:4]\n",
    "data_cashflow = pricing[cols]\n",
    "data_cashflow.head()"
   ]
  },
  {
   "cell_type": "code",
   "execution_count": 30,
   "metadata": {
    "collapsed": true
   },
   "outputs": [],
   "source": [
    "# 5,000 simulation, so that the total number of paths is 10,000\n",
    "num_sims = 1000\n",
    "T = 20\n",
    "dt = 1.0/12.0\n",
    "dr = 10e-5  # dr taken to be arbitrarily small\n",
    "## Simlation:\n",
    "## cum_df_matrix = cumulative discount factor matrix\n",
    "## cum_df_anti_matrix = cumulative discount factor matrix with antithetic path\n",
    "(cum_df_matrix, cum_df_anti_matrix, r_matrix, r_anti_matrix) = HW.Monte_Carlo_2(kappa, sigma, r0, K, T, dt, coeff, num_sims)\n",
    "\n",
    "\n",
    "# Price bonds\n",
    "bonds = data_cashflow.iloc[:,1:]\n",
    "bond_price_matrix = 0.5 * ((cum_df_matrix * np.matrix(bonds)) + (cum_df_anti_matrix * np.matrix(bonds)))\n",
    "bond_prices = bond_price_matrix.mean(0).tolist()[0]\n",
    "bond_prices = [float('%.3f' % x) for x in bond_prices]\n",
    "\n",
    "# Get standard errors of bonds\n",
    "standard_errors = HW.Std_Err(bond_price_matrix, num_sims)"
   ]
  },
  {
   "cell_type": "markdown",
   "metadata": {},
   "source": [
    "### V+ and V-"
   ]
  },
  {
   "cell_type": "code",
   "execution_count": 31,
   "metadata": {
    "collapsed": true
   },
   "outputs": [],
   "source": [
    "# Calculate V+ and V-\n",
    "(cum_df_matrix_p, cum_df_anti_matrix_p, r_matrix_p, r_anti_matrix_p) = HW.Monte_Carlo_2(kappa, sigma, r0+dr, K, T, dt, coeff, num_sims)\n",
    "(cum_df_matrix_m, cum_df_anti_matrix_m, r_matrix_m, r_anti_matrix_m) = HW.Monte_Carlo_2(kappa, sigma, r0-dr, K, T, dt, coeff, num_sims)\n",
    "\n",
    "# V+\n",
    "residual_cashflow = []\n",
    "for r in r_matrix_p:\n",
    "    residual_cashflow.append(r * resid_tranche/24)\n",
    "residual_cashflow = np.matrix(residual_cashflow)\n",
    "\n",
    "residual_arr = []\n",
    "for d in cum_df_matrix_p:\n",
    "    residual_arr.append(np.dot(residual_cashflow,np.matrix(d).T))\n",
    "res_V_plus = np.mean(residual_arr)\n",
    "\n",
    "# V-\n",
    "residual_cashflow = []\n",
    "for r in r_matrix_m:\n",
    "    residual_cashflow.append(r * resid_tranche/24)\n",
    "residual_cashflow = np.matrix(residual_cashflow)\n",
    "\n",
    "residual_arr = []\n",
    "for d in cum_df_matrix_m:\n",
    "    residual_arr.append(np.dot(residual_cashflow,np.matrix(d).T))\n",
    "res_V_minus = np.mean(residual_arr)"
   ]
  },
  {
   "cell_type": "markdown",
   "metadata": {},
   "source": [
    "### Residual Duration and Convexity"
   ]
  },
  {
   "cell_type": "code",
   "execution_count": 32,
   "metadata": {
    "collapsed": false
   },
   "outputs": [
    {
     "data": {
      "text/html": [
       "<div>\n",
       "<table border=\"1\" class=\"dataframe\">\n",
       "  <thead>\n",
       "    <tr style=\"text-align: right;\">\n",
       "      <th></th>\n",
       "      <th>Period</th>\n",
       "      <th>CG</th>\n",
       "      <th>VE</th>\n",
       "      <th>CM</th>\n",
       "      <th>GZ</th>\n",
       "      <th>TC</th>\n",
       "      <th>CZ</th>\n",
       "      <th>CA</th>\n",
       "      <th>CY</th>\n",
       "    </tr>\n",
       "  </thead>\n",
       "  <tbody>\n",
       "    <tr>\n",
       "      <th>1</th>\n",
       "      <td>1.0</td>\n",
       "      <td>7.913959e+05</td>\n",
       "      <td>113333.333333</td>\n",
       "      <td>58333.333333</td>\n",
       "      <td>0.0</td>\n",
       "      <td>83333.333333</td>\n",
       "      <td>0.0</td>\n",
       "      <td>245983.816439</td>\n",
       "      <td>58125.0</td>\n",
       "    </tr>\n",
       "    <tr>\n",
       "      <th>2</th>\n",
       "      <td>2.0</td>\n",
       "      <td>9.842307e+05</td>\n",
       "      <td>113333.333333</td>\n",
       "      <td>58333.333333</td>\n",
       "      <td>0.0</td>\n",
       "      <td>83333.333333</td>\n",
       "      <td>0.0</td>\n",
       "      <td>302026.426037</td>\n",
       "      <td>58125.0</td>\n",
       "    </tr>\n",
       "    <tr>\n",
       "      <th>3</th>\n",
       "      <td>3.0</td>\n",
       "      <td>1.058667e+06</td>\n",
       "      <td>113333.333333</td>\n",
       "      <td>58333.333333</td>\n",
       "      <td>0.0</td>\n",
       "      <td>83333.333333</td>\n",
       "      <td>0.0</td>\n",
       "      <td>323659.531635</td>\n",
       "      <td>58125.0</td>\n",
       "    </tr>\n",
       "    <tr>\n",
       "      <th>4</th>\n",
       "      <td>4.0</td>\n",
       "      <td>1.118080e+06</td>\n",
       "      <td>113333.333333</td>\n",
       "      <td>58333.333333</td>\n",
       "      <td>0.0</td>\n",
       "      <td>83333.333333</td>\n",
       "      <td>0.0</td>\n",
       "      <td>340926.265698</td>\n",
       "      <td>58125.0</td>\n",
       "    </tr>\n",
       "    <tr>\n",
       "      <th>5</th>\n",
       "      <td>5.0</td>\n",
       "      <td>1.305717e+06</td>\n",
       "      <td>113333.333333</td>\n",
       "      <td>58333.333333</td>\n",
       "      <td>0.0</td>\n",
       "      <td>83333.333333</td>\n",
       "      <td>0.0</td>\n",
       "      <td>395458.304205</td>\n",
       "      <td>58125.0</td>\n",
       "    </tr>\n",
       "  </tbody>\n",
       "</table>\n",
       "</div>"
      ],
      "text/plain": [
       "   Period            CG             VE            CM   GZ            TC   CZ  \\\n",
       "1     1.0  7.913959e+05  113333.333333  58333.333333  0.0  83333.333333  0.0   \n",
       "2     2.0  9.842307e+05  113333.333333  58333.333333  0.0  83333.333333  0.0   \n",
       "3     3.0  1.058667e+06  113333.333333  58333.333333  0.0  83333.333333  0.0   \n",
       "4     4.0  1.118080e+06  113333.333333  58333.333333  0.0  83333.333333  0.0   \n",
       "5     5.0  1.305717e+06  113333.333333  58333.333333  0.0  83333.333333  0.0   \n",
       "\n",
       "              CA       CY  \n",
       "1  245983.816439  58125.0  \n",
       "2  302026.426037  58125.0  \n",
       "3  323659.531635  58125.0  \n",
       "4  340926.265698  58125.0  \n",
       "5  395458.304205  58125.0  "
      ]
     },
     "execution_count": 32,
     "metadata": {},
     "output_type": "execute_result"
    }
   ],
   "source": [
    "res_dur = HW.Effective_Duration(res_V0, res_V_plus, res_V_minus, dr)\n",
    "res_conv = HW.Effective_Convexity(res_V0, res_V_plus, res_V_minus, dr)\n",
    "\n",
    "# Cash Flows for all 8 bonds\n",
    "data_cashflow.head()"
   ]
  },
  {
   "cell_type": "markdown",
   "metadata": {},
   "source": [
    "# Price of Bonds, Duration and Convexity\n",
    "\n"
   ]
  },
  {
   "cell_type": "code",
   "execution_count": 33,
   "metadata": {
    "collapsed": true
   },
   "outputs": [],
   "source": [
    "# Calculate V+ and V-\n",
    "(cum_df_matrix_p, cum_df_anti_matrix_p, r_matrix_p, r_anti_matrix_p) = HW.Monte_Carlo_2(kappa, sigma, r0+dr, K, T, dt, coeff, num_sims)\n",
    "(cum_df_matrix_m, cum_df_anti_matrix_m, r_matrix_m, r_anti_matrix_m) = HW.Monte_Carlo_2(kappa, sigma, r0-dr, K, T, dt, coeff, num_sims)\n",
    "\n",
    "bond_price_matrix_p = 0.5 * ((cum_df_matrix_p * np.matrix(bonds)) + (cum_df_anti_matrix_p * np.matrix(bonds)))\n",
    "bond_prices_p = bond_price_matrix_p.mean(0).tolist()[0]\n",
    "bond_prices_p = [float('%.3f' % x) for x in bond_prices_p]\n",
    "\n",
    "bond_price_matrix_m = 0.5 * ((cum_df_matrix_m * np.matrix(bonds)) + (cum_df_anti_matrix_m * np.matrix(bonds)))\n",
    "bond_prices_m = bond_price_matrix_m.mean(0).tolist()[0]\n",
    "bond_prices_m = [float('%.3f' % x) for x in bond_prices_m]\n",
    "\n",
    "# Calculate effective duration\n",
    "eff_durs = HW.Effective_Duration(bond_prices, bond_prices_p, bond_prices_m, dr)\n",
    "eff_durs = [float('%.3f' % x) for x in eff_durs]\n",
    "\n",
    "# Calculate effective convexity\n",
    "eff_conv = HW.Effective_Convexity(bond_prices, bond_prices_p, bond_prices_m, dr)\n",
    "eff_conv = [float('%.3f' % x) for x in eff_conv]\n",
    "\n",
    "par_price = np.array((CG,VE,CM,GZ,TC,CZ,CA,CY))\n",
    "\n",
    "def oas_obj_func(oas,bond,i):\n",
    "    dt = 1/12\n",
    "    iterations = 240\n",
    "    r_matrix_new = r_matrix + oas\n",
    "    df_matrix_new = np.exp(-r_matrix_new*dt)\n",
    "    cum_df_matrix_new = np.zeros((num_sims, iterations))\n",
    "    for j in range(num_sims):\n",
    "        cum_df_matrix_new[j,:] = df_matrix_new[j,:].cumprod()\n",
    "    #return (cum_df_matrix_new * (np.matrix(bond).T)).mean()\n",
    "    return (((cum_df_matrix_new * (np.matrix(bond).T)).mean() - par_price[i])/1e7)**2 \n",
    "\n",
    "oas_arr = []\n",
    "for i in range(8):\n",
    "    oas_res = sp.optimize.minimize(lambda oas: oas_obj_func(oas, bonds.iloc[:,i],i),0.01)\n",
    "    oas_arr.append(oas_res.x[0])\n",
    "\n",
    "# merge results into dataframe\n",
    "df_non = pd.DataFrame([bond_prices, standard_errors, eff_durs, eff_conv, oas_arr],\n",
    "columns=data_cashflow.columns[1:], \n",
    "index=['Bond Prices', 'Standard Errors', 'Effective Duration', 'Effective Convexity','OAS'])\n",
    "\n",
    "# Add residual to final result\n",
    "df_non['R'] = [res_V0, res_std, res_dur, res_conv, np.nan]\n"
   ]
  },
  {
   "cell_type": "code",
   "execution_count": 34,
   "metadata": {
    "collapsed": false
   },
   "outputs": [
    {
     "data": {
      "text/html": [
       "<div>\n",
       "<table border=\"1\" class=\"dataframe\">\n",
       "  <thead>\n",
       "    <tr style=\"text-align: right;\">\n",
       "      <th></th>\n",
       "      <th>CG</th>\n",
       "      <th>VE</th>\n",
       "      <th>CM</th>\n",
       "      <th>GZ</th>\n",
       "      <th>TC</th>\n",
       "      <th>CZ</th>\n",
       "      <th>CA</th>\n",
       "      <th>CY</th>\n",
       "      <th>R</th>\n",
       "    </tr>\n",
       "  </thead>\n",
       "  <tbody>\n",
       "    <tr>\n",
       "      <th>Bond Prices</th>\n",
       "      <td>7.879372e+07</td>\n",
       "      <td>5.435898e+06</td>\n",
       "      <td>1.490424e+07</td>\n",
       "      <td>2.298818e+07</td>\n",
       "      <td>2.058220e+07</td>\n",
       "      <td>2.306526e+07</td>\n",
       "      <td>3.416260e+07</td>\n",
       "      <td>1.401416e+07</td>\n",
       "      <td>308145.284308</td>\n",
       "    </tr>\n",
       "    <tr>\n",
       "      <th>Standard Errors</th>\n",
       "      <td>5.111184e+03</td>\n",
       "      <td>1.198720e+02</td>\n",
       "      <td>3.297514e+03</td>\n",
       "      <td>1.297170e+04</td>\n",
       "      <td>1.257730e+04</td>\n",
       "      <td>3.596191e+04</td>\n",
       "      <td>7.288922e+03</td>\n",
       "      <td>1.220355e+04</td>\n",
       "      <td>4008.844020</td>\n",
       "    </tr>\n",
       "    <tr>\n",
       "      <th>Effective Duration</th>\n",
       "      <td>2.310000e+00</td>\n",
       "      <td>1.712000e+00</td>\n",
       "      <td>3.720000e+00</td>\n",
       "      <td>5.002000e+00</td>\n",
       "      <td>4.490000e+00</td>\n",
       "      <td>5.917000e+00</td>\n",
       "      <td>3.115000e+00</td>\n",
       "      <td>4.655000e+00</td>\n",
       "      <td>-19.730591</td>\n",
       "    </tr>\n",
       "    <tr>\n",
       "      <th>Effective Convexity</th>\n",
       "      <td>6.817000e+00</td>\n",
       "      <td>3.698000e+00</td>\n",
       "      <td>1.507000e+01</td>\n",
       "      <td>2.506900e+01</td>\n",
       "      <td>2.251500e+01</td>\n",
       "      <td>3.503500e+01</td>\n",
       "      <td>1.232000e+01</td>\n",
       "      <td>2.450400e+01</td>\n",
       "      <td>-60.079658</td>\n",
       "    </tr>\n",
       "    <tr>\n",
       "      <th>OAS</th>\n",
       "      <td>1.578645e-02</td>\n",
       "      <td>2.034123e-02</td>\n",
       "      <td>9.812337e-03</td>\n",
       "      <td>3.803438e-03</td>\n",
       "      <td>2.300002e-03</td>\n",
       "      <td>1.000000e-02</td>\n",
       "      <td>8.659682e-03</td>\n",
       "      <td>-2.757834e-04</td>\n",
       "      <td>NaN</td>\n",
       "    </tr>\n",
       "  </tbody>\n",
       "</table>\n",
       "</div>"
      ],
      "text/plain": [
       "                               CG            VE            CM            GZ  \\\n",
       "Bond Prices          7.879372e+07  5.435898e+06  1.490424e+07  2.298818e+07   \n",
       "Standard Errors      5.111184e+03  1.198720e+02  3.297514e+03  1.297170e+04   \n",
       "Effective Duration   2.310000e+00  1.712000e+00  3.720000e+00  5.002000e+00   \n",
       "Effective Convexity  6.817000e+00  3.698000e+00  1.507000e+01  2.506900e+01   \n",
       "OAS                  1.578645e-02  2.034123e-02  9.812337e-03  3.803438e-03   \n",
       "\n",
       "                               TC            CZ            CA            CY  \\\n",
       "Bond Prices          2.058220e+07  2.306526e+07  3.416260e+07  1.401416e+07   \n",
       "Standard Errors      1.257730e+04  3.596191e+04  7.288922e+03  1.220355e+04   \n",
       "Effective Duration   4.490000e+00  5.917000e+00  3.115000e+00  4.655000e+00   \n",
       "Effective Convexity  2.251500e+01  3.503500e+01  1.232000e+01  2.450400e+01   \n",
       "OAS                  2.300002e-03  1.000000e-02  8.659682e-03 -2.757834e-04   \n",
       "\n",
       "                                 R  \n",
       "Bond Prices          308145.284308  \n",
       "Standard Errors        4008.844020  \n",
       "Effective Duration      -19.730591  \n",
       "Effective Convexity     -60.079658  \n",
       "OAS                            NaN  "
      ]
     },
     "execution_count": 34,
     "metadata": {},
     "output_type": "execute_result"
    }
   ],
   "source": [
    "df_non"
   ]
  },
  {
   "cell_type": "code",
   "execution_count": 35,
   "metadata": {
    "collapsed": false
   },
   "outputs": [
    {
     "data": {
      "text/html": [
       "<div>\n",
       "<table border=\"1\" class=\"dataframe\">\n",
       "  <thead>\n",
       "    <tr style=\"text-align: right;\">\n",
       "      <th></th>\n",
       "      <th>CG</th>\n",
       "      <th>VE</th>\n",
       "      <th>CM</th>\n",
       "      <th>GZ</th>\n",
       "      <th>TC</th>\n",
       "      <th>CZ</th>\n",
       "      <th>CA</th>\n",
       "      <th>CY</th>\n",
       "      <th>R</th>\n",
       "    </tr>\n",
       "  </thead>\n",
       "  <tbody>\n",
       "    <tr>\n",
       "      <th>Bond Prices</th>\n",
       "      <td>7.700455e+07</td>\n",
       "      <td>5.379362e+06</td>\n",
       "      <td>1.459937e+07</td>\n",
       "      <td>2.317594e+07</td>\n",
       "      <td>2.115393e+07</td>\n",
       "      <td>2.562852e+07</td>\n",
       "      <td>3.371635e+07</td>\n",
       "      <td>1.480108e+07</td>\n",
       "      <td>308145.284308</td>\n",
       "    </tr>\n",
       "    <tr>\n",
       "      <th>Standard Errors</th>\n",
       "      <td>2.241570e+02</td>\n",
       "      <td>2.693700e+01</td>\n",
       "      <td>1.180980e+02</td>\n",
       "      <td>3.981780e+02</td>\n",
       "      <td>5.872720e+02</td>\n",
       "      <td>3.728435e+03</td>\n",
       "      <td>2.070600e+02</td>\n",
       "      <td>1.214866e+03</td>\n",
       "      <td>4008.844020</td>\n",
       "    </tr>\n",
       "    <tr>\n",
       "      <th>Effective Duration</th>\n",
       "      <td>9.950000e-01</td>\n",
       "      <td>1.185000e+00</td>\n",
       "      <td>1.488000e+00</td>\n",
       "      <td>1.925000e+00</td>\n",
       "      <td>2.165000e+00</td>\n",
       "      <td>3.410000e+00</td>\n",
       "      <td>1.241000e+00</td>\n",
       "      <td>2.720000e+00</td>\n",
       "      <td>-19.730591</td>\n",
       "    </tr>\n",
       "    <tr>\n",
       "      <th>Effective Convexity</th>\n",
       "      <td>1.113000e+00</td>\n",
       "      <td>1.580000e+00</td>\n",
       "      <td>2.281000e+00</td>\n",
       "      <td>3.711000e+00</td>\n",
       "      <td>4.893000e+00</td>\n",
       "      <td>1.219300e+01</td>\n",
       "      <td>1.762000e+00</td>\n",
       "      <td>8.330000e+00</td>\n",
       "      <td>-60.079658</td>\n",
       "    </tr>\n",
       "    <tr>\n",
       "      <th>OAS</th>\n",
       "      <td>2.589756e-02</td>\n",
       "      <td>2.478836e-02</td>\n",
       "      <td>2.385000e-02</td>\n",
       "      <td>2.183395e-02</td>\n",
       "      <td>2.006246e-02</td>\n",
       "      <td>1.199153e-02</td>\n",
       "      <td>2.433215e-02</td>\n",
       "      <td>1.476169e-02</td>\n",
       "      <td>NaN</td>\n",
       "    </tr>\n",
       "  </tbody>\n",
       "</table>\n",
       "</div>"
      ],
      "text/plain": [
       "                               CG            VE            CM            GZ  \\\n",
       "Bond Prices          7.700455e+07  5.379362e+06  1.459937e+07  2.317594e+07   \n",
       "Standard Errors      2.241570e+02  2.693700e+01  1.180980e+02  3.981780e+02   \n",
       "Effective Duration   9.950000e-01  1.185000e+00  1.488000e+00  1.925000e+00   \n",
       "Effective Convexity  1.113000e+00  1.580000e+00  2.281000e+00  3.711000e+00   \n",
       "OAS                  2.589756e-02  2.478836e-02  2.385000e-02  2.183395e-02   \n",
       "\n",
       "                               TC            CZ            CA            CY  \\\n",
       "Bond Prices          2.115393e+07  2.562852e+07  3.371635e+07  1.480108e+07   \n",
       "Standard Errors      5.872720e+02  3.728435e+03  2.070600e+02  1.214866e+03   \n",
       "Effective Duration   2.165000e+00  3.410000e+00  1.241000e+00  2.720000e+00   \n",
       "Effective Convexity  4.893000e+00  1.219300e+01  1.762000e+00  8.330000e+00   \n",
       "OAS                  2.006246e-02  1.199153e-02  2.433215e-02  1.476169e-02   \n",
       "\n",
       "                                 R  \n",
       "Bond Prices          308145.284308  \n",
       "Standard Errors        4008.844020  \n",
       "Effective Duration      -19.730591  \n",
       "Effective Convexity     -60.079658  \n",
       "OAS                            NaN  "
      ]
     },
     "execution_count": 35,
     "metadata": {},
     "output_type": "execute_result"
    }
   ],
   "source": [
    "df"
   ]
  }
 ],
 "metadata": {
  "anaconda-cloud": {},
  "kernelspec": {
   "display_name": "Python 3",
   "language": "python",
   "name": "python3"
  },
  "language_info": {
   "codemirror_mode": {
    "name": "ipython",
    "version": 3
   },
   "file_extension": ".py",
   "mimetype": "text/x-python",
   "name": "python",
   "nbconvert_exporter": "python",
   "pygments_lexer": "ipython3",
   "version": "3.5.1"
  }
 },
 "nbformat": 4,
 "nbformat_minor": 1
}
