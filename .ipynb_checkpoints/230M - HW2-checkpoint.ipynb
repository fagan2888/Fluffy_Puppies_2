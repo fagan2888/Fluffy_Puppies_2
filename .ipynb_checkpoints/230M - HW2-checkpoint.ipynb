{
 "cells": [
  {
   "cell_type": "code",
   "execution_count": 25,
   "metadata": {
    "collapsed": false
   },
   "outputs": [],
   "source": [
    "import pandas as pd\n",
    "import numpy as np\n",
    "import math\n",
    "import Hull_White as hw\n",
    "import Discount_Functions as disc_func\n",
    "\n",
    "%matplotlib inline"
   ]
  },
  {
   "cell_type": "markdown",
   "metadata": {},
   "source": [
    "#### All data given as of 8/28/2004"
   ]
  },
  {
   "cell_type": "code",
   "execution_count": 26,
   "metadata": {
    "collapsed": false
   },
   "outputs": [],
   "source": [
    "cap_rate = 0.0475      # given in HW2_Data file\n",
    "short_rate = 0.01816   # given in HW2_Data file\n",
    "dt = 0.25\n",
    "\n",
    "HW = hw.Hull_White()   #our Hull White class\n",
    "K = 1/(1+cap_rate*dt)  #strike in put model\n",
    "\n",
    "# from HW1 problem set\n",
    "kappa = 0.153\n",
    "sigma = 0.0153\n",
    "\n",
    "# from HW1 REMIC data file\n",
    "v = [5.402, 5.419]   # WAC values for two pools"
   ]
  },
  {
   "cell_type": "code",
   "execution_count": 27,
   "metadata": {
    "collapsed": true
   },
   "outputs": [],
   "source": [
    "df_stmat = pd.read_csv('stmat.csv')\n",
    "df_tvmat = pd.read_csv('tvmat.csv')\n",
    "df_disc_factors = pd.read_csv('discount factors.csv')\n",
    "df_caplet_vols = pd.read_csv('caplet vols.csv')\n",
    "df_mthly_10_yr_LIBOR_04 = pd.read_csv('monthly 10 year LIBOR spot rates for 2004.csv')\n",
    "\n",
    "df_stmat['Coupon Gap'] = df_stmat['Coupon Gap'] * 0.0001 # convert from basis points to decimal\n",
    "df_tvmat['Coupon Gap'] = df_tvmat['Coupon Gap'] * 0.0001 # convert from basis points to decimal"
   ]
  },
  {
   "cell_type": "markdown",
   "metadata": {},
   "source": [
    "#### Forward rates from dicsount functions"
   ]
  },
  {
   "cell_type": "code",
   "execution_count": 28,
   "metadata": {
    "collapsed": false
   },
   "outputs": [
    {
     "name": "stdout",
     "output_type": "stream",
     "text": [
      "my estimation of coefficients are:\n",
      "[ -2.32447481e-02  -3.81606103e-03   1.62964402e-04  -3.02679751e-06\n",
      "   2.09422571e-08]\n"
     ]
    }
   ],
   "source": [
    "## import and clean data\n",
    "data_z = pd.read_csv(\"discount factors.csv\", header = 0)\n",
    "\n",
    "## fit Z curve using OLS\n",
    "data_z[\"poly\"] = np.log(data_z[\"Price\"])\n",
    "z_OLS = disc_func.OLS(disc_func.power_5(data_z[\"Maturity\"]), data_z[\"poly\"])\n",
    "print(\"my estimation of coefficients are:\")\n",
    "print(z_OLS.beta)\n",
    "\n",
    "(a,b,c,d,e) = z_OLS.beta\n",
    "coeff = [a,b,c,d,e]"
   ]
  },
  {
   "cell_type": "code",
   "execution_count": 29,
   "metadata": {
    "collapsed": false
   },
   "outputs": [
    {
     "data": {
      "text/plain": [
       "0.050999999999999997"
      ]
     },
     "execution_count": 29,
     "metadata": {},
     "output_type": "execute_result"
    }
   ],
   "source": [
    "df_mthly_10_yr_LIBOR_04['Rate'][7]     # 8/1/2004 Libor rate"
   ]
  },
  {
   "cell_type": "code",
   "execution_count": 31,
   "metadata": {
    "collapsed": false
   },
   "outputs": [
    {
     "data": {
      "text/plain": [
       "array([[ 0.05907347,  0.06102295,  0.06550583,  0.07550889,  0.08373813,\n",
       "         0.07930016,  0.08343392,  0.0826526 ,  0.08209619,  0.08381854,\n",
       "         0.08434382,  0.09065144,  0.09381886,  0.09412398,  0.09585013,\n",
       "         0.09706944,  0.10340016,  0.10214681,  0.10319994,  0.09908618,\n",
       "         0.08752283,  0.09027109,  0.09391683,  0.09042149,  0.10027483,\n",
       "         0.09355533,  0.09354831,  0.09251364,  0.09908983,  0.10530305,\n",
       "         0.10563261,  0.10694474,  0.10264962,  0.09358253,  0.0918438 ,\n",
       "         0.09235511,  0.09760386,  0.10266301,  0.1006369 ,  0.09901266,\n",
       "         0.0941136 ,  0.08763677,  0.07997859,  0.08857056,  0.08618624,\n",
       "         0.0841487 ,  0.07853894,  0.0819681 ,  0.07479155,  0.07389512,\n",
       "         0.06999476,  0.07180801,  0.0696332 ,  0.06452761,  0.06457708,\n",
       "         0.06664209,  0.06708258,  0.06855939,  0.06587959,  0.06443318,\n",
       "         0.06163698,  0.06025813,  0.05689311,  0.04953753,  0.05068348,\n",
       "         0.04925617,  0.042421  ,  0.0449166 ,  0.04132858,  0.04202247,\n",
       "         0.04569769,  0.04667493,  0.05210182,  0.04697253,  0.04913888,\n",
       "         0.04647525,  0.04302338,  0.04090422,  0.03999188,  0.04071448,\n",
       "         0.03603282,  0.04053486,  0.04305663,  0.03670348,  0.0437888 ,\n",
       "         0.05258328,  0.0580974 ,  0.05753921,  0.05305261,  0.05800866,\n",
       "         0.05646254,  0.06211502,  0.06321507,  0.06769366,  0.06937449,\n",
       "         0.07257954,  0.07266824,  0.080596  ,  0.08109435,  0.08280013,\n",
       "         0.09102486,  0.08487347,  0.07914059,  0.08337254,  0.07808636,\n",
       "         0.08663215,  0.08465642,  0.08123015,  0.08964069,  0.09598862,\n",
       "         0.10396377,  0.10758917,  0.10336146,  0.11142636,  0.10976714,\n",
       "         0.11285564,  0.11654292,  0.11531342,  0.11749506,  0.12100841]])"
      ]
     },
     "execution_count": 31,
     "metadata": {},
     "output_type": "execute_result"
    }
   ],
   "source": [
    "dt = 1.0/12.0\n",
    "T=10\n",
    "r0 = df_mthly_10_yr_LIBOR_04['Rate'][7]\n",
    "num_sims = 1\n",
    "\n",
    "## Simlation:\n",
    "## cum_df_matrix = cumulative discount factor matrix\n",
    "## cum_df_anti_matrix = cumulative discount factor matrix with antithetic path\n",
    "(cum_df_matrix, cum_df_anti_matrix, r_matrix, r_anti_matrix) = HW.Monte_Carlo_2(kappa, sigma, r0, K, T, dt, coeff, num_sims)\n",
    "\n",
    "\n",
    "## Q2.a - Price bonds\n",
    "#bonds = data_cashflow.iloc[:,1:]\n",
    "#bond_price_matrix = 0.5 * ((cum_df_matrix * np.matrix(bonds)) + (cum_df_anti_matrix * np.matrix(bonds)))\n",
    "#bond_prices = bond_price_matrix.mean(0).tolist()[0]\n",
    "#bond_prices = [float('%.3f' % x) for x in bond_prices]\n",
    "#bond_prices\n",
    "\n",
    "r_matrix"
   ]
  },
  {
   "cell_type": "markdown",
   "metadata": {
    "collapsed": true
   },
   "source": [
    "#### Ouput results from matlab functions"
   ]
  },
  {
   "cell_type": "code",
   "execution_count": 6,
   "metadata": {
    "collapsed": true
   },
   "outputs": [],
   "source": [
    "gamma = 0.0568\n",
    "p = 2.9025\n",
    "beta_1 = -12.6051\n",
    "beta_2 = -2.0992"
   ]
  },
  {
   "cell_type": "markdown",
   "metadata": {},
   "source": [
    "#### Standard error results from matlab code"
   ]
  },
  {
   "cell_type": "code",
   "execution_count": 7,
   "metadata": {
    "collapsed": true
   },
   "outputs": [],
   "source": [
    "gamma_se = 0.0018\n",
    "p_se = 0.0750\n",
    "beta_1_se = 1.9998\n",
    "beta_2_se = 0.0495"
   ]
  },
  {
   "cell_type": "markdown",
   "metadata": {},
   "source": [
    "### Monte Carlo for LIBOR short rate evolution"
   ]
  },
  {
   "cell_type": "code",
   "execution_count": 8,
   "metadata": {
    "collapsed": true
   },
   "outputs": [],
   "source": [
    "num_sims = 1000\n"
   ]
  },
  {
   "cell_type": "markdown",
   "metadata": {},
   "source": [
    "# Q1"
   ]
  },
  {
   "cell_type": "markdown",
   "metadata": {},
   "source": [
    "#### hazard function"
   ]
  },
  {
   "cell_type": "code",
   "execution_count": 9,
   "metadata": {
    "collapsed": false
   },
   "outputs": [
    {
     "data": {
      "text/plain": [
       "[0.0,\n",
       " 6.2248067692838047e-06,\n",
       " 2.3272065929861078e-05,\n",
       " 5.0332355632212852e-05,\n",
       " 8.7004305819602629e-05,\n",
       " 0.00013301728903466624,\n",
       " 0.00018816750580522067,\n",
       " 0.00025229169354694879,\n",
       " 0.00032525367073230223,\n",
       " 0.00040693651106689881,\n",
       " 0.0004972375836795437,\n",
       " 0.00059606520721242116,\n",
       " 0.00070333628221208361,\n",
       " 0.00081897455098857246,\n",
       " 0.00094290927837023162,\n",
       " 0.0010750742252931035,\n",
       " 0.0012154068324198568,\n",
       " 0.001363847558331636,\n",
       " 0.0015203393340300672,\n",
       " 0.0016848271066666079,\n",
       " 0.0018572574529001397,\n",
       " 0.0020375782474215719,\n",
       " 0.002225738375791082,\n",
       " 0.0024216874833161688,\n",
       " 0.0026253757535807378,\n",
       " 0.0028367537116289953,\n",
       " 0.0030557720478546343,\n",
       " 0.003282381459442308,\n",
       " 0.0035165325068217861,\n",
       " 0.003758175483072731,\n",
       " 0.0040072602945934984,\n",
       " 0.0042637363516454243,\n",
       " 0.0045275524676225446,\n",
       " 0.0047986567660891063,\n",
       " 0.0050769965947836462,\n",
       " 0.0053625184459162815,\n",
       " 0.0056551678821911379,\n",
       " 0.0059548894680730765,\n",
       " 0.0062616267058904045,\n",
       " 0.0065753219764259005,\n",
       " 0.0068959164836994782,\n",
       " 0.0072233502036888261,\n",
       " 0.0075575618367705912,\n",
       " 0.0078984887636956748,\n",
       " 0.0082460670049383841,\n",
       " 0.0086002311832815079,\n",
       " 0.0089609144895186326,\n",
       " 0.0093280486511711641,\n",
       " 0.0097015639041315247,\n",
       " 0.010081388967155946,\n",
       " 0.010467451019140294,\n",
       " 0.010859675679121069,\n",
       " 0.011257986988950947,\n",
       " 0.011662307398604474,\n",
       " 0.012072557754074441,\n",
       " 0.012488657287823907,\n",
       " 0.01291052361176219,\n",
       " 0.013338072712715775,\n",
       " 0.013771218950367517,\n",
       " 0.014209875057638696,\n",
       " 0.014653952143489912,\n",
       " 0.01510335969811717,\n",
       " 0.015558005600520038,\n",
       " 0.016017796128418336,\n",
       " 0.016482635970493591,\n",
       " 0.016952428240930874,\n",
       " 0.0174270744962353,\n",
       " 0.017906474754296707,\n",
       " 0.018390527515674406,\n",
       " 0.018879129787072343,\n",
       " 0.019372177106973327,\n",
       " 0.019869563573399137,\n",
       " 0.020371181873761263,\n",
       " 0.020876923316764977,\n",
       " 0.02138667786632735,\n",
       " 0.021900334177467486,\n",
       " 0.022417779634124863,\n",
       " 0.022938900388859731,\n",
       " 0.023463581404386636,\n",
       " 0.023991706496890128,\n",
       " 0.024523158381069346,\n",
       " 0.02505781871685556,\n",
       " 0.025595568157744636,\n",
       " 0.026136286400684171,\n",
       " 0.026679852237452496,\n",
       " 0.027226143607464847,\n",
       " 0.027775037651939786,\n",
       " 0.028326410769356873,\n",
       " 0.028880138672134698,\n",
       " 0.029436096444456456,\n",
       " 0.029994158601168677,\n",
       " 0.03055419914767667,\n",
       " 0.031116091640759375,\n",
       " 0.031679709250224168,\n",
       " 0.032244924821321394,\n",
       " 0.032811610937837299,\n",
       " 0.033379639985782632,\n",
       " 0.033948884217593692,\n",
       " 0.034519215816761976,\n",
       " 0.03509050696280757,\n",
       " 0.035662629896511644,\n",
       " 0.036235456985322857,\n",
       " 0.036808860788852309,\n",
       " 0.037382714124372177,\n",
       " 0.037956890132233093,\n",
       " 0.038531262341115917,\n",
       " 0.039105704733034041,\n",
       " 0.039680091808003484,\n",
       " 0.040254298648298041,\n",
       " 0.040828200982209184,\n",
       " 0.041401675247230436,\n",
       " 0.041974598652587833,\n",
       " 0.042546849241039672,\n",
       " 0.043118305949870282,\n",
       " 0.043688848671004386,\n",
       " 0.044258358310170477,\n",
       " 0.044826716845043989,\n",
       " 0.045393807382302774,\n",
       " 0.045959514213530311,\n",
       " 0.046523722869903868]"
      ]
     },
     "execution_count": 9,
     "metadata": {},
     "output_type": "execute_result"
    }
   ],
   "source": [
    "t_range = np.arange(0, 10, dt)\n",
    "hazard_arr = []\n",
    "\n",
    "for t in t_range:\n",
    "    hazard_val = ((gamma*p * (gamma * t)**(p-1)) / (1 + (gamma * t)**p))\n",
    "                #math.exp(np.dot([beta_1, beta_2], )\n",
    "    hazard_arr.append(hazard_val)\n",
    "\n",
    "hazard_arr"
   ]
  },
  {
   "cell_type": "code",
   "execution_count": null,
   "metadata": {
    "collapsed": true
   },
   "outputs": [],
   "source": []
  }
 ],
 "metadata": {
  "kernelspec": {
   "display_name": "Python 3",
   "language": "python",
   "name": "python3"
  },
  "language_info": {
   "codemirror_mode": {
    "name": "ipython",
    "version": 3
   },
   "file_extension": ".py",
   "mimetype": "text/x-python",
   "name": "python",
   "nbconvert_exporter": "python",
   "pygments_lexer": "ipython3",
   "version": "3.5.1"
  }
 },
 "nbformat": 4,
 "nbformat_minor": 1
}
