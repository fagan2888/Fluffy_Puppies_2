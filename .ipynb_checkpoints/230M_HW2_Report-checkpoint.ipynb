{
 "cells": [
  {
   "cell_type": "markdown",
   "metadata": {},
   "source": [
    "# MFE 230M Homework 2\n",
    "## Alexander Damiani, Zhongnan Fang, Linshan Li, Kunming Wu"
   ]
  },
  {
   "cell_type": "code",
   "execution_count": 4,
   "metadata": {
    "collapsed": false
   },
   "outputs": [],
   "source": [
    "import pandas as pd\n",
    "import numpy as np\n",
    "import scipy as sp\n",
    "import math\n",
    "import Hull_White as hw\n",
    "import mortgage_np as m\n",
    "import Discount_Functions as disc_func\n",
    "import itertools\n",
    "import matplotlib.pyplot as plt\n",
    "\n",
    "import MFE230M_HW2_main as hw2_module\n",
    "import imp\n",
    "hw2_module = imp.reload(hw2_module)\n",
    "\n",
    "%matplotlib inline"
   ]
  },
  {
   "cell_type": "code",
   "execution_count": 5,
   "metadata": {
    "collapsed": true
   },
   "outputs": [],
   "source": [
    "r0 = 0.01816\n",
    "dr = 10e-5\n",
    "\n",
    "# increase the number of simulations to increase accuracy\n",
    "# 1000 path (actually it's 2000 because of antithetic paths) provides a fairly good estimate already\n",
    "hw2_module.num_sims = 1000\n",
    "num_sims = hw2_module.num_sims"
   ]
  },
  {
   "cell_type": "markdown",
   "metadata": {},
   "source": [
    "# Question a, b, c: \n",
    "### Using non-time-varying hazard model\n",
    "### The parameters estimated from MATLAB are:\n",
    "\n",
    "Values:\n",
    "- gamma = 0.0568\n",
    "- p = 2.9025\n",
    "- beta_1 = -12.6051\n",
    "- beta_2 = -2.0992\n",
    "\n",
    "SE:\n",
    "- gamma_se = 0.0018\n",
    "- p_se = 0.0750\n",
    "- beta_1_se = 1.9998\n",
    "- beta_2_se = 0.0495\n",
    "\n",
    "Given the matlab code (prop_haz.m) we can know that estimating hazard function follows the following formula:\n",
    "\n",
    "$$\n",
    "\\begin{align*}\n",
    "\\lambda(t) &= Pr(\\tau = t | \\tau>t-1,v)\\\\\n",
    "           &= \\frac{\\gamma p(\\gamma t)^{p-1}}{1+(\\gamma t)^p} e^{\\beta v}\\\\\n",
    "\\end{align*}\n",
    "$$\n",
    "\n",
    "where the covariates v are:\n",
    "- Difference between \"contract mortgage rate\" and \"the 3 month lag of the 10 year LIBOR rate\".\n",
    "- Indicator for summer months.\n",
    "\n",
    "From the formula, we know $\\gamma$ is the magnitude of the baseline hazard, and $p$ is the shape parameter for the baseline hazard. The last two parameters are coefficients for covariates, which are $\\beta_1$ and $\\beta_2$. \n",
    "\n",
    "$\\beta_1$ measures how borrowers react to coupoon gaps and $\\beta_2$ measures the sensitivity to the summer months."
   ]
  },
  {
   "cell_type": "markdown",
   "metadata": {},
   "source": [
    "## Get V, V+, V- "
   ]
  },
  {
   "cell_type": "code",
   "execution_count": 6,
   "metadata": {
    "collapsed": false
   },
   "outputs": [
    {
     "name": "stdout",
     "output_type": "stream",
     "text": [
      "..........\n",
      "..........\n",
      "..........\n",
      "..........\n",
      "..........\n",
      "..........\n"
     ]
    }
   ],
   "source": [
    "(bond_prices, standard_errors, summary_CF, summary_CF_anti, \n",
    " r_matrix, r_anti_matrix, cum_df_matrix, cum_df_anti_matrix,\n",
    " pricing_arr, pricing_arr_anti, r_matrix_original_part_abc, r_anti_matrix_original_part_abc) = hw2_module.get_V(r0)\n",
    "\n",
    "(bond_prices_p, standard_errors_p, summary_CF_p, summary_CF_anti_p,\n",
    " r_matrix_p, r_anti_matrix_p, cum_df_matrix_p, cum_df_anti_matrix_p,\n",
    " pricing_arr_p, pricing_arr_anti_p, r_matrix_original_p, r_anti_matrix_original_p)= hw2_module.get_V(r0+dr)\n",
    "\n",
    "(bond_prices_m, standard_errors_m, summary_CF_m, summary_CF_anti_m,\n",
    " r_matrix_m, r_anti_matrix_m, cum_df_matrix_m, cum_df_anti_matrix_m,\n",
    " pricing_arr_m, pricing_arr_anti_m, r_matrix_original_m, r_anti_matrix_original_m) = hw2_module.get_V(r0-dr)"
   ]
  },
  {
   "cell_type": "markdown",
   "metadata": {},
   "source": [
    "# Residual Class"
   ]
  },
  {
   "cell_type": "code",
   "execution_count": 7,
   "metadata": {
    "collapsed": false
   },
   "outputs": [],
   "source": [
    "residual_arr = hw2_module.get_residual_V(r0,summary_CF, summary_CF_anti, r_matrix, r_anti_matrix, cum_df_matrix, cum_df_anti_matrix)\n",
    "res_V0 = np.mean(residual_arr)\n",
    "res_std = np.std(residual_arr) / math.sqrt(num_sims)\n",
    "\n",
    "residual_arr_p = hw2_module.get_residual_V(r0+dr,summary_CF_p, summary_CF_anti_p, r_matrix_p, r_anti_matrix_p, cum_df_matrix_p, cum_df_anti_matrix_p)\n",
    "res_V_plus = np.mean(residual_arr_p)\n",
    "\n",
    "residual_arr_m = hw2_module.get_residual_V(r0-dr,summary_CF_m, summary_CF_anti_m, r_matrix_m, r_anti_matrix_m, cum_df_matrix_m, cum_df_anti_matrix_m)\n",
    "res_V_minus = np.mean(residual_arr_m)"
   ]
  },
  {
   "cell_type": "markdown",
   "metadata": {},
   "source": [
    "# Duration"
   ]
  },
  {
   "cell_type": "code",
   "execution_count": 8,
   "metadata": {
    "collapsed": false
   },
   "outputs": [],
   "source": [
    "HW = hw.Hull_White()\n",
    "bond_prices_p = [float('%.3f' % x) for x in bond_prices_p]\n",
    "bond_prices_m = [float('%.3f' % x) for x in bond_prices_m]\n",
    "\n",
    "# Calculate effective duration\n",
    "eff_durs = HW.Effective_Duration(bond_prices, bond_prices_p, bond_prices_m, dr)\n",
    "eff_durs = [float('%.3f' % x) for x in eff_durs]\n",
    "\n",
    "res_dur = HW.Effective_Duration(res_V0, res_V_plus, res_V_minus, dr)"
   ]
  },
  {
   "cell_type": "markdown",
   "metadata": {},
   "source": [
    "# Convexity"
   ]
  },
  {
   "cell_type": "code",
   "execution_count": 9,
   "metadata": {
    "collapsed": true
   },
   "outputs": [],
   "source": [
    "# Calculate effective convexity\n",
    "eff_conv = HW.Effective_Convexity(bond_prices, bond_prices_p, bond_prices_m, dr)\n",
    "eff_conv = [float('%.3f' % x) for x in eff_conv]\n",
    "res_conv = HW.Effective_Convexity(res_V0, res_V_plus, res_V_minus, dr)"
   ]
  },
  {
   "cell_type": "markdown",
   "metadata": {},
   "source": [
    "# OAS"
   ]
  },
  {
   "cell_type": "code",
   "execution_count": 10,
   "metadata": {
    "collapsed": false
   },
   "outputs": [
    {
     "name": "stdout",
     "output_type": "stream",
     "text": [
      "..........\n",
      "..........\n"
     ]
    }
   ],
   "source": [
    "final_oas_arr = hw2_module.get_OAS(pricing_arr, pricing_arr_anti, r_matrix, r_anti_matrix)"
   ]
  },
  {
   "cell_type": "markdown",
   "metadata": {},
   "source": [
    "# Build Dataframe for Results"
   ]
  },
  {
   "cell_type": "code",
   "execution_count": 11,
   "metadata": {
    "collapsed": false
   },
   "outputs": [
    {
     "data": {
      "text/html": [
       "<div>\n",
       "<table border=\"1\" class=\"dataframe\">\n",
       "  <thead>\n",
       "    <tr style=\"text-align: right;\">\n",
       "      <th></th>\n",
       "      <th>CG</th>\n",
       "      <th>VE</th>\n",
       "      <th>CM</th>\n",
       "      <th>GZ</th>\n",
       "      <th>TC</th>\n",
       "      <th>CZ</th>\n",
       "      <th>CA</th>\n",
       "      <th>CY</th>\n",
       "      <th>R</th>\n",
       "    </tr>\n",
       "  </thead>\n",
       "  <tbody>\n",
       "    <tr>\n",
       "      <th>Bond Prices</th>\n",
       "      <td>76734463.502</td>\n",
       "      <td>5366275.582</td>\n",
       "      <td>14546011.784</td>\n",
       "      <td>22994210.732</td>\n",
       "      <td>20951907.688</td>\n",
       "      <td>25213116.675</td>\n",
       "      <td>33568386.840</td>\n",
       "      <td>14618977.831</td>\n",
       "      <td>274430.598</td>\n",
       "    </tr>\n",
       "    <tr>\n",
       "      <th>Standard Errors</th>\n",
       "      <td>186110.713</td>\n",
       "      <td>19723.954</td>\n",
       "      <td>86278.526</td>\n",
       "      <td>180120.637</td>\n",
       "      <td>188388.267</td>\n",
       "      <td>486037.352</td>\n",
       "      <td>131534.703</td>\n",
       "      <td>171731.846</td>\n",
       "      <td>3312.757</td>\n",
       "    </tr>\n",
       "    <tr>\n",
       "      <th>Effective Duration</th>\n",
       "      <td>0.892</td>\n",
       "      <td>1.110</td>\n",
       "      <td>1.368</td>\n",
       "      <td>1.675</td>\n",
       "      <td>1.929</td>\n",
       "      <td>2.947</td>\n",
       "      <td>1.106</td>\n",
       "      <td>2.381</td>\n",
       "      <td>-23.495</td>\n",
       "    </tr>\n",
       "    <tr>\n",
       "      <th>Effective Convexity</th>\n",
       "      <td>1.926</td>\n",
       "      <td>2.409</td>\n",
       "      <td>3.300</td>\n",
       "      <td>5.297</td>\n",
       "      <td>5.874</td>\n",
       "      <td>11.168</td>\n",
       "      <td>2.769</td>\n",
       "      <td>8.247</td>\n",
       "      <td>-54.857</td>\n",
       "    </tr>\n",
       "    <tr>\n",
       "      <th>OAS</th>\n",
       "      <td>0.027</td>\n",
       "      <td>0.010</td>\n",
       "      <td>0.019</td>\n",
       "      <td>0.024</td>\n",
       "      <td>0.022</td>\n",
       "      <td>0.015</td>\n",
       "      <td>0.025</td>\n",
       "      <td>0.017</td>\n",
       "      <td>nan</td>\n",
       "    </tr>\n",
       "  </tbody>\n",
       "</table>\n",
       "</div>"
      ],
      "text/plain": [
       "                              CG          VE           CM           GZ  \\\n",
       "Bond Prices         76734463.502 5366275.582 14546011.784 22994210.732   \n",
       "Standard Errors       186110.713   19723.954    86278.526   180120.637   \n",
       "Effective Duration         0.892       1.110        1.368        1.675   \n",
       "Effective Convexity        1.926       2.409        3.300        5.297   \n",
       "OAS                        0.027       0.010        0.019        0.024   \n",
       "\n",
       "                              TC           CZ           CA           CY  \\\n",
       "Bond Prices         20951907.688 25213116.675 33568386.840 14618977.831   \n",
       "Standard Errors       188388.267   486037.352   131534.703   171731.846   \n",
       "Effective Duration         1.929        2.947        1.106        2.381   \n",
       "Effective Convexity        5.874       11.168        2.769        8.247   \n",
       "OAS                        0.022        0.015        0.025        0.017   \n",
       "\n",
       "                             R  \n",
       "Bond Prices         274430.598  \n",
       "Standard Errors       3312.757  \n",
       "Effective Duration     -23.495  \n",
       "Effective Convexity    -54.857  \n",
       "OAS                        nan  "
      ]
     },
     "execution_count": 11,
     "metadata": {},
     "output_type": "execute_result"
    }
   ],
   "source": [
    "# merge results into dataframe\n",
    "cols = (pricing_arr[0]).columns\n",
    "cols = cols[:len(cols)-1]\n",
    "df = pd.DataFrame([bond_prices, standard_errors, eff_durs, eff_conv, final_oas_arr], columns = cols,\n",
    "                  index=['Bond Prices', 'Standard Errors', 'Effective Duration', 'Effective Convexity','OAS'])\n",
    "df['R'] = [res_V0, res_std, res_dur, res_conv, np.nan]\n",
    "pd.set_option('display.float_format', lambda x: '%.3f' % x)\n",
    "df"
   ]
  },
  {
   "cell_type": "markdown",
   "metadata": {},
   "source": [
    "## Discussion for part c: interpretation  for duration and convexity\n",
    "\n",
    "Tjhey are generally in the same range as that of HW1. It makes sense that all duration and convexity are postive except the residual class and the residual class should have negative duration and convexity."
   ]
  },
  {
   "cell_type": "markdown",
   "metadata": {},
   "source": [
    "# Question d, e, f: \n",
    "### Using time-varying hazard model\n",
    "### The parameters estimated from MATLAB are:\n",
    "\n",
    "Values:\n",
    "- gamma = 0.0048375\n",
    "- p = 1.31377\n",
    "- beta_1 = 69.75265\n",
    "- beta_2 = -0.4082\n",
    "\n",
    "SE:\n",
    "- gamma_se = 0.00044725\n",
    "- p_se = 0.029356\n",
    "- beta_1 = 3.00396\n",
    "- beta_2 = 0.04584\n",
    "\n",
    "The economics ideas are quite similar after considering the time-varying feature of the hazard model.\n",
    "\n",
    "From the formula, we know $\\gamma$ is the magnitude of the baseline hazard, and $p$ is the shape parameter for the baseline hazard. The last two parameters are coefficients for covariates, which are $\\beta_1$ and $\\beta_2$.\n",
    "\n",
    "$\\beta_1$ measures how borrowers react to coupoon gaps and $\\beta_2$ measures the sensitivity to the summer months.\n",
    "\n",
    "Now, we use time-varying data to estimate the time-varying hazard model using log-logistic baseline hazard method. Compared to the result in question a, the magnitude of hazard function is 0.0048 which is slightly smaller than the non-varying model. The shape parameter $(p)$ is 1.31 which is much smaller than the shape coefficient in question a. \n",
    "\n",
    "The $\\beta$ parameters behave quite different from question a, within time-varying model, the reaction to coupon gaps $(\\beta_1)$ is strongly positive while in non-time varying model, there is a negative relation. For $\\beta_2$, summer indicator used to have a negative impact on hazard rate, however, the effect diminish to zero when we use time-varying model.\n",
    "\n",
    "### Main Difference\n",
    "\n",
    "The main difference between the time-varying and non-varying model is that likelihood fucntion of MLE:\n",
    "\n",
    "- non varying model\n",
    "\n",
    "$$ \\ln L(\\theta) = \\sum_{i \\in observed} \\ln \\lambda(t_i | \\theta) + \\sum_{i \\in all} \\ln S(t_i| \\theta) $$\n",
    "\n",
    "- time varying model\n",
    "\n",
    "$$ \\ln L(\\theta) = \\sum_{i \\in observed} \\ln \\lambda(t_i) + \\sum_{i \\in all} \\sum_{k=1}^{N_i} \\ln S(t_{ik} | t_{ik-1}) $$"
   ]
  },
  {
   "cell_type": "markdown",
   "metadata": {},
   "source": [
    "# Changing Parameters"
   ]
  },
  {
   "cell_type": "code",
   "execution_count": 12,
   "metadata": {
    "collapsed": false
   },
   "outputs": [],
   "source": [
    "hw2_module.gamma = 0.0048375\n",
    "hw2_module.p = 1.31377\n",
    "hw2_module.beta_1 = 69.75265\n",
    "hw2_module.beta_2 = -0.4082\n",
    "hw2_module.beta = np.array([hw2_module.beta_1, hw2_module.beta_2])\n",
    "\n",
    "hw2_module.num_sims = 1000\n",
    "num_sims = hw2_module.num_sims"
   ]
  },
  {
   "cell_type": "markdown",
   "metadata": {},
   "source": [
    "# Get V, V+, V-"
   ]
  },
  {
   "cell_type": "code",
   "execution_count": 13,
   "metadata": {
    "collapsed": false
   },
   "outputs": [
    {
     "name": "stdout",
     "output_type": "stream",
     "text": [
      "..........\n",
      "..........\n",
      "..........\n",
      "..........\n",
      "..........\n",
      "..........\n"
     ]
    }
   ],
   "source": [
    "(bond_prices, standard_errors, summary_CF, summary_CF_anti, \n",
    " r_matrix, r_anti_matrix, cum_df_matrix, cum_df_anti_matrix,\n",
    " pricing_arr, pricing_arr_anti, r_matrix_original, r_anti_matrix_original) = hw2_module.get_V(r0)\n",
    "\n",
    "(bond_prices_p, standard_errors_p, summary_CF_p, summary_CF_anti_p,\n",
    " r_matrix_p, r_anti_matrix_p, cum_df_matrix_p, cum_df_anti_matrix_p,\n",
    " pricing_arr_p, pricing_arr_anti_p, r_matrix_original_p, r_anti_matrix_original_p)= hw2_module.get_V(r0+dr)\n",
    "\n",
    "(bond_prices_m, standard_errors_m, summary_CF_m, summary_CF_anti_m,\n",
    " r_matrix_m, r_anti_matrix_m, cum_df_matrix_m, cum_df_anti_matrix_m,\n",
    " pricing_arr_m, pricing_arr_anti_m, r_matrix_original_m, r_anti_matrix_original_m) = hw2_module.get_V(r0-dr)"
   ]
  },
  {
   "cell_type": "markdown",
   "metadata": {},
   "source": [
    "# Residual Class"
   ]
  },
  {
   "cell_type": "code",
   "execution_count": 14,
   "metadata": {
    "collapsed": false
   },
   "outputs": [],
   "source": [
    "residual_arr = hw2_module.get_residual_V(r0,summary_CF, summary_CF_anti, r_matrix, r_anti_matrix, cum_df_matrix, cum_df_anti_matrix)\n",
    "res_V0 = np.mean(residual_arr)\n",
    "res_std = np.std(residual_arr) / math.sqrt(num_sims)\n",
    "\n",
    "residual_arr_p = hw2_module.get_residual_V(r0+dr,summary_CF_p, summary_CF_anti_p, r_matrix_p, r_anti_matrix_p, cum_df_matrix_p, cum_df_anti_matrix_p)\n",
    "res_V_plus = np.mean(residual_arr_p)\n",
    "\n",
    "residual_arr_m = hw2_module.get_residual_V(r0-dr,summary_CF_m, summary_CF_anti_m, r_matrix_m, r_anti_matrix_m, cum_df_matrix_m, cum_df_anti_matrix_m)\n",
    "res_V_minus = np.mean(residual_arr_m)"
   ]
  },
  {
   "cell_type": "markdown",
   "metadata": {},
   "source": [
    "# Duration"
   ]
  },
  {
   "cell_type": "code",
   "execution_count": 15,
   "metadata": {
    "collapsed": true
   },
   "outputs": [],
   "source": [
    "bond_prices_p = [float('%.3f' % x) for x in bond_prices_p]\n",
    "bond_prices_m = [float('%.3f' % x) for x in bond_prices_m]\n",
    "\n",
    "# Calculate effective duration\n",
    "eff_durs = HW.Effective_Duration(bond_prices, bond_prices_p, bond_prices_m, dr)\n",
    "eff_durs = [float('%.3f' % x) for x in eff_durs]\n",
    "\n",
    "res_dur = HW.Effective_Duration(res_V0, res_V_plus, res_V_minus, dr)"
   ]
  },
  {
   "cell_type": "markdown",
   "metadata": {},
   "source": [
    "# Convexity"
   ]
  },
  {
   "cell_type": "code",
   "execution_count": 16,
   "metadata": {
    "collapsed": true
   },
   "outputs": [],
   "source": [
    "# Calculate effective convexity\n",
    "eff_conv = HW.Effective_Convexity(bond_prices, bond_prices_p, bond_prices_m, dr)\n",
    "eff_conv = [float('%.3f' % x) for x in eff_conv]\n",
    "res_conv = HW.Effective_Convexity(res_V0, res_V_plus, res_V_minus, dr)"
   ]
  },
  {
   "cell_type": "markdown",
   "metadata": {},
   "source": [
    "# OAS"
   ]
  },
  {
   "cell_type": "code",
   "execution_count": 17,
   "metadata": {
    "collapsed": false
   },
   "outputs": [
    {
     "name": "stdout",
     "output_type": "stream",
     "text": [
      "..........\n",
      "..........\n"
     ]
    }
   ],
   "source": [
    "final_oas_arr = hw2_module.get_OAS(pricing_arr, pricing_arr_anti, r_matrix, r_anti_matrix)"
   ]
  },
  {
   "cell_type": "markdown",
   "metadata": {},
   "source": [
    "# Build Dataframe for Results"
   ]
  },
  {
   "cell_type": "code",
   "execution_count": 18,
   "metadata": {
    "collapsed": false
   },
   "outputs": [
    {
     "data": {
      "text/html": [
       "<div>\n",
       "<table border=\"1\" class=\"dataframe\">\n",
       "  <thead>\n",
       "    <tr style=\"text-align: right;\">\n",
       "      <th></th>\n",
       "      <th>CG</th>\n",
       "      <th>VE</th>\n",
       "      <th>CM</th>\n",
       "      <th>GZ</th>\n",
       "      <th>TC</th>\n",
       "      <th>CZ</th>\n",
       "      <th>CA</th>\n",
       "      <th>CY</th>\n",
       "      <th>R</th>\n",
       "    </tr>\n",
       "  </thead>\n",
       "  <tbody>\n",
       "    <tr>\n",
       "      <th>Bond Prices</th>\n",
       "      <td>79425051.325</td>\n",
       "      <td>5440586.275</td>\n",
       "      <td>15062604.596</td>\n",
       "      <td>23691161.002</td>\n",
       "      <td>21124751.338</td>\n",
       "      <td>24050406.680</td>\n",
       "      <td>34694799.277</td>\n",
       "      <td>14361120.076</td>\n",
       "      <td>462242.353</td>\n",
       "    </tr>\n",
       "    <tr>\n",
       "      <th>Standard Errors</th>\n",
       "      <td>739257.298</td>\n",
       "      <td>14803.036</td>\n",
       "      <td>270181.838</td>\n",
       "      <td>990946.217</td>\n",
       "      <td>729378.671</td>\n",
       "      <td>1296110.639</td>\n",
       "      <td>619725.807</td>\n",
       "      <td>460720.153</td>\n",
       "      <td>6464.237</td>\n",
       "    </tr>\n",
       "    <tr>\n",
       "      <th>Effective Duration</th>\n",
       "      <td>2.423</td>\n",
       "      <td>1.681</td>\n",
       "      <td>3.503</td>\n",
       "      <td>4.597</td>\n",
       "      <td>4.189</td>\n",
       "      <td>5.481</td>\n",
       "      <td>3.061</td>\n",
       "      <td>4.415</td>\n",
       "      <td>-4.568</td>\n",
       "    </tr>\n",
       "    <tr>\n",
       "      <th>Effective Convexity</th>\n",
       "      <td>4.856</td>\n",
       "      <td>2.224</td>\n",
       "      <td>13.419</td>\n",
       "      <td>22.224</td>\n",
       "      <td>20.141</td>\n",
       "      <td>32.523</td>\n",
       "      <td>10.151</td>\n",
       "      <td>22.715</td>\n",
       "      <td>-27.984</td>\n",
       "    </tr>\n",
       "    <tr>\n",
       "      <th>OAS</th>\n",
       "      <td>0.016</td>\n",
       "      <td>0.010</td>\n",
       "      <td>0.011</td>\n",
       "      <td>0.007</td>\n",
       "      <td>0.006</td>\n",
       "      <td>0.000</td>\n",
       "      <td>0.011</td>\n",
       "      <td>0.003</td>\n",
       "      <td>nan</td>\n",
       "    </tr>\n",
       "  </tbody>\n",
       "</table>\n",
       "</div>"
      ],
      "text/plain": [
       "                              CG          VE           CM           GZ  \\\n",
       "Bond Prices         79425051.325 5440586.275 15062604.596 23691161.002   \n",
       "Standard Errors       739257.298   14803.036   270181.838   990946.217   \n",
       "Effective Duration         2.423       1.681        3.503        4.597   \n",
       "Effective Convexity        4.856       2.224       13.419       22.224   \n",
       "OAS                        0.016       0.010        0.011        0.007   \n",
       "\n",
       "                              TC           CZ           CA           CY  \\\n",
       "Bond Prices         21124751.338 24050406.680 34694799.277 14361120.076   \n",
       "Standard Errors       729378.671  1296110.639   619725.807   460720.153   \n",
       "Effective Duration         4.189        5.481        3.061        4.415   \n",
       "Effective Convexity       20.141       32.523       10.151       22.715   \n",
       "OAS                        0.006        0.000        0.011        0.003   \n",
       "\n",
       "                             R  \n",
       "Bond Prices         462242.353  \n",
       "Standard Errors       6464.237  \n",
       "Effective Duration      -4.568  \n",
       "Effective Convexity    -27.984  \n",
       "OAS                        nan  "
      ]
     },
     "execution_count": 18,
     "metadata": {},
     "output_type": "execute_result"
    }
   ],
   "source": [
    "# merge results into dataframe\n",
    "cols = (pricing_arr[0]).columns\n",
    "cols = cols[:len(cols)-1]\n",
    "df = pd.DataFrame([bond_prices, standard_errors, eff_durs, eff_conv, final_oas_arr], columns = cols,\n",
    "                  index=['Bond Prices', 'Standard Errors', 'Effective Duration', 'Effective Convexity','OAS'])\n",
    "df['R'] = [res_V0, res_std, res_dur, res_conv, np.nan]\n",
    "pd.set_option('display.float_format', lambda x: '%.3f' % x)\n",
    "df"
   ]
  },
  {
   "cell_type": "markdown",
   "metadata": {},
   "source": [
    "## Discussion:\n",
    "\n",
    "Both the duration and the convexity are higher than the ones in the non time varying model. This is because the time varying model depends heavily (very high beta value) on the coupon gap, which is related to the libor rate."
   ]
  },
  {
   "cell_type": "markdown",
   "metadata": {},
   "source": [
    "# Question g"
   ]
  },
  {
   "cell_type": "markdown",
   "metadata": {},
   "source": [
    "The OAS value is the option adjusted spread for the bond defined as an average spread to the riskless rate measured across all simulated cash flow trials. To get the present value of the discounted cash flows to equal the observed current market price, a constant spread is added. We are simulating future rates, but they are uncertain. Therefore, the MBS spread will be less because the homeowner’s option to prepay is valuable. The OAS reflects the spread after adjusting for this option. The option adjusted spread then equals:\n",
    "            \n",
    "            Option cost = static spread – option adjusted spread\n",
    "\n",
    "The OAS for our results was positive, indicating there is an uncertainty about future interest rates. However, it is small indicating the uncertainty is not so high as to drive up costs significantly for the option of the homeowner to prepay."
   ]
  },
  {
   "cell_type": "markdown",
   "metadata": {},
   "source": [
    "# Question h"
   ]
  },
  {
   "cell_type": "markdown",
   "metadata": {},
   "source": [
    "When calculating the hazard function for the non-time varying valuation, the covariates are assumed to be static over the life of the “individual” mortgage (contract). However, the hazard function for the time-varying valuation assumed the observed covariates vary over time. In terms of the non-time varying hazard function, the covariate is only evaluated at the termination period. For the time-varying covariate the covariate is evaluated at the beginning of every month.\n",
    "Thus the risk period for the non-time varying mortgage is only the termination date, but there are multiple risk periods for the time-varying case. Therefore, for the time-varying hazard model is no longer a proportional model because the covariates vary differently for different mortgages.\n",
    "For example, the non-time varying covariate appears like this:\n",
    "\n",
    "\n",
    "\n",
    "\n",
    "| Loan ID | Summer Month | Coupon Gap|\n",
    "| -- |:-:| ---:|\n",
    "| 1  | 0 | 123 |\n",
    "\n",
    "\n",
    " \n",
    "The time-varying covariate appears like this though:\n",
    "\n",
    "| Loan ID | Summer Month | Coupon Gap|\n",
    "| -- |:-:| ---:|\n",
    "| 1  | 0 | 134 |\n",
    "| 1  | 0 | 153 |\n",
    "| 1  | 0 | 122 |\n",
    "| 1  | 0 | 191 |\n",
    "\n",
    "The “prop hatz.m” function uses MLE estimation to get the parameters for the hazard function for time varying and non-time varying inputs. For the non-time varying hazard function, the likelihood of payment in period t is not affected by past values of the covariates, but in the time varying case the likelihood of payment depends on the entire history of covariates. The solution to the time-varying case is to estimate the condition of survivability at the beginning of each month. So there will be one episode per loan, per month. Thus, as explained before as well there are much more inputs influencing the value of the parameters given by the MLE estimation. These parameters determine the hazard function and therefore result in different hazard functions for time varying and non-time varying inputs. "
   ]
  },
  {
   "cell_type": "markdown",
   "metadata": {},
   "source": [
    "# Non-Time-Varying Avg Hazard Rate Plots"
   ]
  },
  {
   "cell_type": "code",
   "execution_count": 19,
   "metadata": {
    "collapsed": false
   },
   "outputs": [],
   "source": [
    "hw2_module.gamma = 0.0568\n",
    "hw2_module.p = 2.9025\n",
    "hw2_module.beta_1 = -12.6051\n",
    "hw2_module.beta_2 = -2.0992\n",
    "hw2_module.beta = np.array([hw2_module.beta_1, hw2_module.beta_2])"
   ]
  },
  {
   "cell_type": "code",
   "execution_count": 20,
   "metadata": {
    "collapsed": false,
    "scrolled": false
   },
   "outputs": [
    {
     "data": {
      "text/plain": [
       "<matplotlib.legend.Legend at 0x1172ea320>"
      ]
     },
     "execution_count": 20,
     "metadata": {},
     "output_type": "execute_result"
    },
    {
     "data": {
      "image/png": "[encoded data removed]",
      "text/plain": [
       "<matplotlib.figure.Figure at 0x112f479b0>"
      ]
     },
     "metadata": {},
     "output_type": "display_data"
    }
   ],
   "source": [
    "avg_hazard_rate_arr_pool1 = hw2_module.avg_hazard_rate(0, r_matrix_original_part_abc, r_anti_matrix_original_part_abc, num_sims)\n",
    "avg_hazard_rate_arr_pool2 = hw2_module.avg_hazard_rate(1, r_matrix_original_part_abc, r_anti_matrix_original_part_abc, num_sims)\n",
    "plt.plot(avg_hazard_rate_arr_pool1[0],label='Pool 1')\n",
    "plt.plot(avg_hazard_rate_arr_pool2[0],label='Pool 2')\n",
    "plt.legend()"
   ]
  },
  {
   "cell_type": "markdown",
   "metadata": {},
   "source": [
    "# Time-Varying Avg Hazard Rate Plots"
   ]
  },
  {
   "cell_type": "code",
   "execution_count": 21,
   "metadata": {
    "collapsed": false
   },
   "outputs": [],
   "source": [
    "import imp\n",
    "hw2_module = imp.reload(hw2_module)"
   ]
  },
  {
   "cell_type": "code",
   "execution_count": 22,
   "metadata": {
    "collapsed": false
   },
   "outputs": [],
   "source": [
    "hw2_module.gamma = 0.0048375\n",
    "hw2_module.p = 1.31377\n",
    "hw2_module.beta_1 = 69.75265\n",
    "hw2_module.beta_2 = -0.4082\n",
    "hw2_module.beta = np.array([hw2_module.beta_1, hw2_module.beta_2])"
   ]
  },
  {
   "cell_type": "code",
   "execution_count": 23,
   "metadata": {
    "collapsed": false
   },
   "outputs": [
    {
     "data": {
      "text/plain": [
       "<matplotlib.legend.Legend at 0x116776cf8>"
      ]
     },
     "execution_count": 23,
     "metadata": {},
     "output_type": "execute_result"
    },
    {
     "data": {
      "image/png": "[encoded data removed]",
      "text/plain": [
       "<matplotlib.figure.Figure at 0x1165c8c18>"
      ]
     },
     "metadata": {},
     "output_type": "display_data"
    }
   ],
   "source": [
    "avg_hazard_rate_arr_pool1 = hw2_module.avg_hazard_rate(0, r_matrix_original, r_anti_matrix_original, num_sims)\n",
    "avg_hazard_rate_arr_pool2 = hw2_module.avg_hazard_rate(1, r_matrix_original, r_anti_matrix_original, num_sims)\n",
    "plt.plot(avg_hazard_rate_arr_pool1[0],label='Pool 1')\n",
    "plt.plot(avg_hazard_rate_arr_pool2[0],label='Pool 2')\n",
    "plt.legend(loc='upper left')"
   ]
  },
  {
   "cell_type": "markdown",
   "metadata": {},
   "source": [
    "## Showing First 120 Months"
   ]
  },
  {
   "cell_type": "code",
   "execution_count": 24,
   "metadata": {
    "collapsed": false
   },
   "outputs": [
    {
     "data": {
      "text/plain": [
       "<matplotlib.legend.Legend at 0x117345f98>"
      ]
     },
     "execution_count": 24,
     "metadata": {},
     "output_type": "execute_result"
    },
    {
     "data": {
      "image/png": "[encoded data removed]",
      "text/plain": [
       "<matplotlib.figure.Figure at 0x117e04cf8>"
      ]
     },
     "metadata": {},
     "output_type": "display_data"
    }
   ],
   "source": [
    "plt.plot(avg_hazard_rate_arr_pool1[0][:120],label='Pool 1')\n",
    "plt.plot(avg_hazard_rate_arr_pool2[0][:120],label='Pool 2')\n",
    "plt.legend(loc='upper left')"
   ]
  },
  {
   "cell_type": "markdown",
   "metadata": {},
   "source": [
    "# Discussion\n",
    "\n",
    "The non time varying model does a good job in modeling, and the plot makes sense to us. It shows low hazard rate in summer months. Since the model is non time varying, its simplicity requires less data and depends less on the data.\n",
    "\n",
    "The out-of-sample situations in the time-varying model is very bad, this may due to the fact that we are using the reduced-form valuation model and also the fact that the time-varying model needs more data to train in order to achieve a better estimate. The hazard rate explore to a very large number after 7-10 years.\n"
   ]
  },
  {
   "cell_type": "markdown",
   "metadata": {},
   "source": [
    "# Appendix"
   ]
  },
  {
   "cell_type": "markdown",
   "metadata": {},
   "source": [
    "# Average 10yr 3m lagged LIBOR rates"
   ]
  },
  {
   "cell_type": "code",
   "execution_count": 25,
   "metadata": {
    "collapsed": false
   },
   "outputs": [
    {
     "data": {
      "text/plain": [
       "[<matplotlib.lines.Line2D at 0x1157363c8>]"
      ]
     },
     "execution_count": 25,
     "metadata": {},
     "output_type": "execute_result"
    },
    {
     "data": {
      "image/png": "[encoded data removed]",
      "text/plain": [
       "<matplotlib.figure.Figure at 0x117e29390>"
      ]
     },
     "metadata": {},
     "output_type": "display_data"
    }
   ],
   "source": [
    "libor_rate_matrix = hw2_module.get_libor_rate_matrix(r_matrix_original, num_sims)\n",
    "libor_rate_matrix_anti = hw2_module.get_libor_rate_matrix(r_anti_matrix_original, num_sims)\n",
    "final_libor_rate_matrix = 0.5 * (libor_rate_matrix + libor_rate_matrix_anti)\n",
    "plt.plot(np.asarray(final_libor_rate_matrix.mean(0))[0])\n",
    "#including anti paths"
   ]
  },
  {
   "cell_type": "markdown",
   "metadata": {},
   "source": [
    "# Average short rate"
   ]
  },
  {
   "cell_type": "code",
   "execution_count": 26,
   "metadata": {
    "collapsed": false
   },
   "outputs": [
    {
     "data": {
      "text/plain": [
       "[<matplotlib.lines.Line2D at 0x1157e5eb8>]"
      ]
     },
     "execution_count": 26,
     "metadata": {},
     "output_type": "execute_result"
    },
    {
     "data": {
      "image/png": "[encoded data removed]",
      "text/plain": [
       "<matplotlib.figure.Figure at 0x1157dc668>"
      ]
     },
     "metadata": {},
     "output_type": "display_data"
    }
   ],
   "source": [
    "plt.plot(np.asarray((0.5*(r_matrix + r_anti_matrix)).mean(0)))\n",
    "#including anti paths"
   ]
  },
  {
   "cell_type": "markdown",
   "metadata": {},
   "source": [
    "# Average discount factor"
   ]
  },
  {
   "cell_type": "code",
   "execution_count": 27,
   "metadata": {
    "collapsed": false
   },
   "outputs": [
    {
     "data": {
      "text/plain": [
       "[<matplotlib.lines.Line2D at 0x116e92940>]"
      ]
     },
     "execution_count": 27,
     "metadata": {},
     "output_type": "execute_result"
    },
    {
     "data": {
      "image/png": "[encoded data removed]",
      "text/plain": [
       "<matplotlib.figure.Figure at 0x116e702b0>"
      ]
     },
     "metadata": {},
     "output_type": "display_data"
    }
   ],
   "source": [
    "plt.plot(np.asarray((0.5*(cum_df_matrix+cum_df_anti_matrix)).mean(0)))"
   ]
  },
  {
   "cell_type": "code",
   "execution_count": null,
   "metadata": {
    "collapsed": true
   },
   "outputs": [],
   "source": []
  },
  {
   "cell_type": "code",
   "execution_count": null,
   "metadata": {
    "collapsed": true
   },
   "outputs": [],
   "source": []
  },
  {
   "cell_type": "code",
   "execution_count": null,
   "metadata": {
    "collapsed": true
   },
   "outputs": [],
   "source": []
  },
  {
   "cell_type": "code",
   "execution_count": null,
   "metadata": {
    "collapsed": true
   },
   "outputs": [],
   "source": []
  },
  {
   "cell_type": "code",
   "execution_count": null,
   "metadata": {
    "collapsed": true
   },
   "outputs": [],
   "source": []
  }
 ],
 "metadata": {
  "anaconda-cloud": {},
  "kernelspec": {
   "display_name": "Python [Root]",
   "language": "python",
   "name": "Python [Root]"
  },
  "language_info": {
   "codemirror_mode": {
    "name": "ipython",
    "version": 3
   },
   "file_extension": ".py",
   "mimetype": "text/x-python",
   "name": "python",
   "nbconvert_exporter": "python",
   "pygments_lexer": "ipython3",
   "version": "3.5.1"
  }
 },
 "nbformat": 4,
 "nbformat_minor": 0
}
