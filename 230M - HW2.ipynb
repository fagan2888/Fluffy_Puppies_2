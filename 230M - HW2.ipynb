{
 "cells": [
  {
   "cell_type": "code",
   "execution_count": 95,
   "metadata": {
    "collapsed": false
   },
   "outputs": [],
   "source": [
    "import pandas as pd\n",
    "import numpy as np\n",
    "import scipy as sp\n",
    "import math\n",
    "import Hull_White as hw\n",
    "import Discount_Functions as disc_func\n",
    "import itertools\n",
    "import matplotlib.pyplot as plt\n",
    "\n",
    "%matplotlib inline"
   ]
  },
  {
   "cell_type": "markdown",
   "metadata": {},
   "source": [
    "#### All data given as of 8/28/2004"
   ]
  },
  {
   "cell_type": "code",
   "execution_count": 53,
   "metadata": {
    "collapsed": false
   },
   "outputs": [],
   "source": [
    "cap_rate = 0.0475      # given in HW2_Data file\n",
    "short_rate = 0.01816   # given in HW2_Data file\n",
    "dt = 0.25\n",
    "\n",
    "HW = hw.Hull_White()   #our Hull White class\n",
    "K = 1/(1+cap_rate*dt)  #strike in put model\n",
    "\n",
    "# from HW1 problem set\n",
    "kappa = 0.153\n",
    "sigma = 0.0153\n",
    "\n",
    "# from HW1 REMIC data file\n",
    "WACs = [0.05402, 0.05419]   # WAC values for two pools"
   ]
  },
  {
   "cell_type": "code",
   "execution_count": 54,
   "metadata": {
    "collapsed": true
   },
   "outputs": [],
   "source": [
    "df_stmat = pd.read_csv('stmat.csv')\n",
    "df_tvmat = pd.read_csv('tvmat.csv')\n",
    "df_disc_factors = pd.read_csv('discount factors.csv')\n",
    "df_caplet_vols = pd.read_csv('caplet vols.csv')\n",
    "df_mthly_10_yr_LIBOR_04 = pd.read_csv('monthly 10 year LIBOR spot rates for 2004.csv')\n",
    "\n",
    "df_stmat['Coupon Gap'] = df_stmat['Coupon Gap'] * 0.0001 # convert from basis points to decimal\n",
    "df_tvmat['Coupon Gap'] = df_tvmat['Coupon Gap'] * 0.0001 # convert from basis points to decimal"
   ]
  },
  {
   "cell_type": "markdown",
   "metadata": {},
   "source": [
    "#### Forward rates from dicsount functions"
   ]
  },
  {
   "cell_type": "code",
   "execution_count": 55,
   "metadata": {
    "collapsed": false
   },
   "outputs": [
    {
     "name": "stdout",
     "output_type": "stream",
     "text": [
      "my estimation of coefficients are:\n",
      "[ -2.32447481e-02  -3.81606103e-03   1.62964402e-04  -3.02679751e-06\n",
      "   2.09422571e-08]\n"
     ]
    }
   ],
   "source": [
    "## import and clean data\n",
    "data_z = pd.read_csv(\"discount factors.csv\", header = 0)\n",
    "\n",
    "## fit Z curve using OLS\n",
    "data_z[\"poly\"] = np.log(data_z[\"Price\"])\n",
    "z_OLS = disc_func.OLS(disc_func.power_5(data_z[\"Maturity\"]), data_z[\"poly\"])\n",
    "print(\"my estimation of coefficients are:\")\n",
    "print(z_OLS.beta)\n",
    "\n",
    "(a,b,c,d,e) = z_OLS.beta\n",
    "coeff = [a,b,c,d,e]"
   ]
  },
  {
   "cell_type": "markdown",
   "metadata": {
    "collapsed": false
   },
   "source": []
  },
  {
   "cell_type": "code",
   "execution_count": 117,
   "metadata": {
    "collapsed": false
   },
   "outputs": [
    {
     "name": "stdout",
     "output_type": "stream",
     "text": [
      "[0.053900000000000003, 0.052200000000000003, 0.050999999999999997, 0.045674035220837447, 0.046020573113347139, 0.046362208952240143, 0.046698982429263, 0.047030933048741258]\n",
      "240\n"
     ]
    },
    {
     "data": {
      "image/png": "[encoded data removed]",
      "text/plain": [
       "<matplotlib.figure.Figure at 0x11900e240>"
      ]
     },
     "metadata": {},
     "output_type": "display_data"
    }
   ],
   "source": [
    "# Comment by Kunming: Ignore this for now\n",
    "'''\n",
    "t_range = np.arange(1,241-3)/12\n",
    "r0 = short_rate\n",
    "#r0 = df_mthly_10_yr_LIBOR_04['Rate'][8]\n",
    "libor_rate_arr = [df_mthly_10_yr_LIBOR_04['Rate'][i] for i in range(5,8)]\n",
    "Z_arr = []\n",
    "r_arr = []\n",
    "\n",
    "for t in t_range:\n",
    "    Z_10 = HW.Z(0, t+10, r0, kappa, sigma, coeff)\n",
    "    Z_1 = HW.Z(0, t, r0, kappa, sigma, coeff)\n",
    "    \n",
    "    r_10 = HW.r_t(0, t+10, r0, kappa, sigma, coeff)\n",
    "    r_1 = HW.r_t(0, t, r0, kappa, sigma, coeff)\n",
    "    r_arr.append(HW.r_t(0, t+10, r0, kappa, sigma, coeff))\n",
    "   \n",
    "    # r(t1, t2) = (1/(t2 - t1)) * ( ln(DF(0,t1)) - ln(DF(0,t2)) )\n",
    "    #libor_rate_arr.append((np.log(Z_1) - np.log(Z_10)) / (t+10 - t))\n",
    "    libor_rate_arr.append((r_10*(t+10) - r_1*(t)) / (t+10 - t))\n",
    "    \n",
    "#plt.plot(libor_rate_arr[3:])\n",
    "#plt.plot(r_arr)\n",
    "plt.plot(libor_rate_arr)\n",
    "print(libor_rate_arr[:8])\n",
    "print(len(libor_rate_arr))\n",
    "'''\n"
   ]
  },
  {
   "cell_type": "markdown",
   "metadata": {
    "collapsed": true
   },
   "source": [
    "#### Ouput results from matlab functions"
   ]
  },
  {
   "cell_type": "code",
   "execution_count": 78,
   "metadata": {
    "collapsed": true
   },
   "outputs": [],
   "source": [
    "gamma = 0.0568\n",
    "p = 2.9025\n",
    "beta_1 = -12.6051\n",
    "beta_2 = -2.0992"
   ]
  },
  {
   "cell_type": "markdown",
   "metadata": {},
   "source": [
    "#### Standard error results from matlab code"
   ]
  },
  {
   "cell_type": "code",
   "execution_count": 79,
   "metadata": {
    "collapsed": true
   },
   "outputs": [],
   "source": [
    "gamma_se = 0.0018\n",
    "p_se = 0.0750\n",
    "beta_1_se = 1.9998\n",
    "beta_2_se = 0.0495"
   ]
  },
  {
   "cell_type": "markdown",
   "metadata": {},
   "source": [
    "# Q1"
   ]
  },
  {
   "cell_type": "markdown",
   "metadata": {},
   "source": [
    "#### hazard function"
   ]
  },
  {
   "cell_type": "code",
   "execution_count": 127,
   "metadata": {
    "collapsed": false
   },
   "outputs": [],
   "source": [
    "beta = np.array([beta_1, beta_2])\n",
    "\n",
    "def libor_rate_10yr_lag3(t):\n",
    "    #here the time input t should be integer month\n",
    "    if t==1:\n",
    "        return 0.0539\n",
    "    elif t==2:\n",
    "        return 0.0522\n",
    "    elif t==3:\n",
    "        return 0.0510\n",
    "    else:\n",
    "        t = (t-3)/12\n",
    "        r_10 = HW.r_t(0, t+10, r0, kappa, sigma, coeff)\n",
    "        r_1 = HW.r_t(0, t, r0, kappa, sigma, coeff)\n",
    "        return((r_10*(t+10) - r_1*(t)) / (t+10 - t))\n",
    "\n",
    "def summer_index_func(t):\n",
    "    # starting from Sept. plus 8\n",
    "    t = t + 8\n",
    "    return 1 if t%12 in [5,6,7,8] else 0\n",
    "\n",
    "def hazard_func(t, gamma, p, beta, pool):\n",
    "    #here the time input t should be integer month\n",
    "    t = int(t)\n",
    "    v = np.array([WACs[pool] - libor_rate_10yr_lag3(t), summer_index_func(t)])\n",
    "    exp_val = np.dot(v, beta)\n",
    "    return ((gamma*p * (gamma * t)**(p-1)) / (1 + (gamma * t)**p)) * np.exp(exp_val)\n",
    "\n",
    "def SMM_func(tminus, tplus, gamma, p, beta, pool):\n",
    "    int_res = sp.integrate.quad(lambda s: hazard_func(s, gamma, p, beta, pool), tminus, tplus)[0]\n",
    "    return(1-np.exp(-int_res))\n"
   ]
  },
  {
   "cell_type": "code",
   "execution_count": 124,
   "metadata": {
    "collapsed": false
   },
   "outputs": [
    {
     "data": {
      "text/plain": [
       "[<matplotlib.lines.Line2D at 0x1197d9668>]"
      ]
     },
     "execution_count": 124,
     "metadata": {},
     "output_type": "execute_result"
    },
    {
     "data": {
      "image/png": "[encoded data removed]",
      "text/plain": [
       "<matplotlib.figure.Figure at 0x11a10fc18>"
      ]
     },
     "metadata": {},
     "output_type": "display_data"
    }
   ],
   "source": [
    "libor_rate_10yr_lag3_arr = []\n",
    "t_range = np.arange(1,241)\n",
    "for t in t_range:\n",
    "    libor_rate_10yr_lag3_arr.append(libor_rate_10yr_lag3(t))\n",
    "plt.plot(libor_rate_10yr_lag3_arr)"
   ]
  },
  {
   "cell_type": "code",
   "execution_count": 129,
   "metadata": {
    "collapsed": false
   },
   "outputs": [],
   "source": [
    "hazard_arr_1 = []\n",
    "hazard_arr_2 = []\n",
    "SMM_arr_1 = []\n",
    "SMM_arr_2 = []\n",
    "\n",
    "for t in range(240):\n",
    "    hazard_arr_1.append(hazard_func(t, gamma, p, beta, 0))\n",
    "    hazard_arr_2.append(hazard_func(t, gamma, p, beta, 1))\n",
    "    SMM_arr_1.append(SMM_func(t, t+1, gamma, p, beta, 0))\n",
    "    SMM_arr_2.append(SMM_func(t, t+1, gamma, p, beta, 1))"
   ]
  },
  {
   "cell_type": "code",
   "execution_count": 130,
   "metadata": {
    "collapsed": false
   },
   "outputs": [
    {
     "name": "stdout",
     "output_type": "stream",
     "text": [
      "240\n"
     ]
    },
    {
     "data": {
      "image/png": "[encoded data removed]",
      "text/plain": [
       "<matplotlib.figure.Figure at 0x1197c4be0>"
      ]
     },
     "metadata": {},
     "output_type": "display_data"
    }
   ],
   "source": [
    "plt.plot(SMM_arr_1)\n",
    "plt.plot(SMM_arr_2)\n",
    "print(len(SMM_arr_1))"
   ]
  },
  {
   "cell_type": "code",
   "execution_count": 46,
   "metadata": {
    "collapsed": false
   },
   "outputs": [
    {
     "data": {
      "text/plain": [
       "[<matplotlib.lines.Line2D at 0x9b465f8>]"
      ]
     },
     "execution_count": 46,
     "metadata": {},
     "output_type": "execute_result"
    },
    {
     "data": {
      "image/png": "[encoded data removed]",
      "text/plain": [
       "<matplotlib.figure.Figure at 0x9c02748>"
      ]
     },
     "metadata": {},
     "output_type": "display_data"
    }
   ],
   "source": [
    "ave_hazard_arr_1 = np.cumsum(hazard_arr_1) / (t_range + 10)\n",
    "ave_hazard_arr_2 = np.cumsum(hazard_arr_2) / (t_range + 10)\n",
    "plt.plot(ave_hazard_arr_1)"
   ]
  },
  {
   "cell_type": "markdown",
   "metadata": {
    "collapsed": true
   },
   "source": [
    "# Qc"
   ]
  },
  {
   "cell_type": "markdown",
   "metadata": {},
   "source": [
    "### Effective Duration"
   ]
  },
  {
   "cell_type": "code",
   "execution_count": 11,
   "metadata": {
    "collapsed": false
   },
   "outputs": [
    {
     "data": {
      "text/plain": [
       "<Hull_White.Hull_White at 0x868dac8>"
      ]
     },
     "execution_count": 11,
     "metadata": {},
     "output_type": "execute_result"
    }
   ],
   "source": [
    "HW"
   ]
  }
 ],
 "metadata": {
  "kernelspec": {
   "display_name": "Python [Root]",
   "language": "python",
   "name": "Python [Root]"
  },
  "language_info": {
   "codemirror_mode": {
    "name": "ipython",
    "version": 3
   },
   "file_extension": ".py",
   "mimetype": "text/x-python",
   "name": "python",
   "nbconvert_exporter": "python",
   "pygments_lexer": "ipython3",
   "version": "3.5.1"
  }
 },
 "nbformat": 4,
 "nbformat_minor": 1
}
