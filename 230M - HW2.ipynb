{
 "cells": [
  {
   "cell_type": "code",
   "execution_count": 11,
   "metadata": {
    "collapsed": false
   },
   "outputs": [],
   "source": [
    "import pandas as pd\n",
    "import numpy as np\n",
    "import scipy as sp\n",
    "import math\n",
    "import Hull_White as hw\n",
    "import mortgage as m\n",
    "import Discount_Functions as disc_func\n",
    "import itertools\n",
    "import matplotlib.pyplot as plt\n",
    "from __future__ import absolute_import, division, print_function\n",
    "%matplotlib inline"
   ]
  },
  {
   "cell_type": "code",
   "execution_count": 12,
   "metadata": {
    "collapsed": false
   },
   "outputs": [],
   "source": [
    "cap_rate = 0.0475      # given in HW2_Data file\n",
    "short_rate = 0.01816   # given in HW2_Data file\n",
    "dt = 0.25\n",
    "\n",
    "HW = hw.Hull_White()   #our Hull White class\n",
    "K = 1/(1+cap_rate*dt)  #strike in put model\n",
    "\n",
    "# from HW1 problem set\n",
    "kappa = 0.153\n",
    "sigma = 0.0153\n",
    "\n",
    "# from HW1 REMIC data file\n",
    "WACs = [0.05402, 0.05419]   # WAC values for two pools"
   ]
  },
  {
   "cell_type": "code",
   "execution_count": 13,
   "metadata": {
    "collapsed": true
   },
   "outputs": [],
   "source": [
    "df_stmat = pd.read_csv('stmat.csv')\n",
    "df_tvmat = pd.read_csv('tvmat.csv')\n",
    "df_disc_factors = pd.read_csv('discount factors.csv')\n",
    "df_caplet_vols = pd.read_csv('caplet vols.csv')\n",
    "df_mthly_10_yr_LIBOR_04 = pd.read_csv('monthly 10 year LIBOR spot rates for 2004.csv')\n",
    "\n",
    "df_stmat['Coupon Gap'] = df_stmat['Coupon Gap'] * 0.0001 # convert from basis points to decimal\n",
    "df_tvmat['Coupon Gap'] = df_tvmat['Coupon Gap'] * 0.0001 # convert from basis points to decimal"
   ]
  },
  {
   "cell_type": "markdown",
   "metadata": {},
   "source": [
    "#### Forward rates from dicsount functions"
   ]
  },
  {
   "cell_type": "code",
   "execution_count": 14,
   "metadata": {
    "collapsed": false
   },
   "outputs": [
    {
     "name": "stdout",
     "output_type": "stream",
     "text": [
      "my estimation of coefficients are:\n",
      "[ -2.32447481e-02  -3.81606103e-03   1.62964402e-04  -3.02679751e-06\n",
      "   2.09422571e-08]\n"
     ]
    }
   ],
   "source": [
    "## import and clean data\n",
    "data_z = pd.read_csv(\"discount factors.csv\", header = 0)\n",
    "\n",
    "## fit Z curve using OLS\n",
    "data_z[\"poly\"] = np.log(data_z[\"Price\"])\n",
    "z_OLS = disc_func.OLS(disc_func.power_5(data_z[\"Maturity\"]), data_z[\"poly\"])\n",
    "print(\"my estimation of coefficients are:\")\n",
    "print(z_OLS.beta)\n",
    "\n",
    "(a,b,c,d,e) = z_OLS.beta\n",
    "coeff = [a,b,c,d,e]"
   ]
  },
  {
   "cell_type": "code",
   "execution_count": 15,
   "metadata": {
    "collapsed": false
   },
   "outputs": [],
   "source": [
    "r0 = short_rate"
   ]
  },
  {
   "cell_type": "markdown",
   "metadata": {
    "collapsed": true
   },
   "source": [
    "#### Ouput results from matlab functions"
   ]
  },
  {
   "cell_type": "code",
   "execution_count": 16,
   "metadata": {
    "collapsed": true
   },
   "outputs": [],
   "source": [
    "gamma = 0.0568\n",
    "p = 2.9025\n",
    "beta_1 = -12.6051\n",
    "beta_2 = -2.0992"
   ]
  },
  {
   "cell_type": "markdown",
   "metadata": {},
   "source": [
    "#### Standard error results from matlab code"
   ]
  },
  {
   "cell_type": "code",
   "execution_count": 17,
   "metadata": {
    "collapsed": true
   },
   "outputs": [],
   "source": [
    "gamma_se = 0.0018\n",
    "p_se = 0.0750\n",
    "beta_1_se = 1.9998\n",
    "beta_2_se = 0.0495"
   ]
  },
  {
   "cell_type": "markdown",
   "metadata": {},
   "source": [
    "# Q(a)"
   ]
  },
  {
   "cell_type": "markdown",
   "metadata": {},
   "source": [
    "#### hazard function"
   ]
  },
  {
   "cell_type": "code",
   "execution_count": 18,
   "metadata": {
    "collapsed": false
   },
   "outputs": [],
   "source": [
    "beta = np.array([beta_1, beta_2])\n",
    "\n",
    "def libor_rate_10yr_lag3_from_MC(r_arr):\n",
    "    libor_arr = [0.0539, 0.0522, 0.0510]\n",
    "    t_range = np.arange(1,361-3-12*10)\n",
    "    for t in t_range:\n",
    "        r_1 = r_arr[t]\n",
    "        r_10 = r_arr[t+12*10]\n",
    "        libor_arr.append((r_10*(t+10*12) - r_1*(t)) / (t+10*12 - t))\n",
    "    return libor_arr\n",
    "\n",
    "# DO NOT USE THIS FUNCTION!!\n",
    "def libor_rate_10yr_lag3(t):\n",
    "    #here the time input t should be integer month\n",
    "    if t==1:\n",
    "        return 0.0539\n",
    "    elif t==2:\n",
    "        return 0.0522\n",
    "    elif t==3:\n",
    "        return 0.0510\n",
    "    else:\n",
    "        t = (t-3)/12\n",
    "        r_10 = HW.r_t(0, t+10, r0, kappa, sigma, coeff)\n",
    "        r_1 = HW.r_t(0, t, r0, kappa, sigma, coeff)\n",
    "        return((r_10*(t+10) - r_1*(t)) / (t+10 - t))\n",
    "\n",
    "def summer_index_func(t):\n",
    "    # starting from Sept. plus 8\n",
    "    t = t + 8\n",
    "    return 1 if t%12 in [5,6,7,8] else 0\n",
    "\n",
    "def hazard_func(t, gamma, p, beta, pool, libor_arr):\n",
    "    #here the time input t should be integer month\n",
    "    t = int(t)\n",
    "    v = np.array([WACs[pool] - libor_arr[t-1], summer_index_func(t)])\n",
    "    exp_val = np.dot(v, beta)\n",
    "    return ((gamma*p * (gamma * t)**(p-1)) / (1 + (gamma * t)**p)) * np.exp(exp_val)\n",
    "\n",
    "def hazard_func_arr(gamma, p, beta, pool, libor_arr):\n",
    "    #here the time input t should be integer month\n",
    "    t_range = np.arange(1,241)\n",
    "    summer_index_arr = [summer_index_func(t) for t in t_range]\n",
    "    v = np.array([WACs[pool] - libor_arr, summer_index_arr])\n",
    "    v = np.transpose(v)\n",
    "    exp_val = np.dot(v, beta)\n",
    "    return ((gamma*p * (gamma * t_range)**(p-1)) / (1 + (gamma * t_range)**p)) * np.exp(exp_val) \n",
    "\n",
    "def SMM_func(tminus, tplus, gamma, p, beta, pool, libor_arr):\n",
    "    int_res = sp.integrate.quad(lambda s: hazard_func(s, gamma, p, beta, pool, libor_arr), tminus, tplus)[0]\n",
    "    return(1-np.exp(-int_res))\n",
    "\n",
    "def SMM_func_arr(gamma, p, beta, pool, libor_arr):\n",
    "    return (1-np.exp(-hazard_func_arr(gamma, p, beta, pool, libor_arr) * 1))\n"
   ]
  },
  {
   "cell_type": "code",
   "execution_count": null,
   "metadata": {
    "collapsed": false
   },
   "outputs": [],
   "source": []
  },
  {
   "cell_type": "code",
   "execution_count": 99,
   "metadata": {
    "collapsed": false
   },
   "outputs": [],
   "source": [
    "# 5,000 simulation, so that the total number of paths is 10,000\n",
    "num_sims = 5\n",
    "T = 20\n",
    "dt = 1.0/12.0\n",
    "dr = 10e-5  # dr taken to be arbitrarily small\n",
    "## Simlation:\n",
    "## cum_df_matrix = cumulative discount factor matrix\n",
    "## cum_df_anti_matrix = cumulative discount factor matrix with antithetic path\n",
    "\n",
    "## T=30 since we need to calculate 10yr libor rate (20+10=30)\n",
    "(cum_df_matrix, cum_df_anti_matrix, r_matrix, r_anti_matrix) = HW.Monte_Carlo_2(kappa, sigma, r0, 30, dt, coeff, num_sims)\n",
    "\n",
    "# we only need 240 period discount factor, using 360 to get short rate -> to get libor later\n",
    "cum_df_matrix = cum_df_matrix[:,:240]\n",
    "cum_df_anti_matrix = cum_df_anti_matrix[:,:240]"
   ]
  },
  {
   "cell_type": "code",
   "execution_count": 100,
   "metadata": {
    "collapsed": false
   },
   "outputs": [],
   "source": [
    "def get_libor_rate_matrix(r_matrix, num_sims):\n",
    "    libor_rate_matrix = []\n",
    "    libor_rate_matrix_anti = []\n",
    "    for i in range(num_sims):\n",
    "        libor_rate_matrix.append(libor_rate_10yr_lag3_from_MC(r_matrix[i,:]))\n",
    "        libor_rate_matrix_anti.append(libor_rate_10yr_lag3_from_MC(r_anti_matrix[i,:]))\n",
    "    #libor_rate_matrix = 0.5 * (np.matrix(libor_rate_matrix) + np.matrix(libor_rate_matrix_anti))\n",
    "    libor_rate_matrix = np.matrix(libor_rate_matrix)\n",
    "    return libor_rate_matrix\n",
    "\n",
    "libor_rate_matrix = get_libor_rate_matrix(r_matrix, num_sims)\n",
    "#After we are done with LIBOR, get rid of the remaining r_matrix\n",
    "r_matrix = r_matrix[:,:240]\n",
    "r_anti_matrix = r_anti_matrix[:,:240]"
   ]
  },
  {
   "cell_type": "code",
   "execution_count": 101,
   "metadata": {
    "collapsed": false
   },
   "outputs": [
    {
     "data": {
      "text/plain": [
       "matrix([[ 0.0539    ,  0.0522    ,  0.051     , ..., -0.05955978,\n",
       "         -0.0956231 , -0.08243489],\n",
       "        [ 0.0539    ,  0.0522    ,  0.051     , ...,  0.07705076,\n",
       "          0.07044118,  0.06613309],\n",
       "        [ 0.0539    ,  0.0522    ,  0.051     , ...,  0.073531  ,\n",
       "          0.0736541 ,  0.06656126],\n",
       "        [ 0.0539    ,  0.0522    ,  0.051     , ...,  0.02302859,\n",
       "          0.04096695,  0.02987601],\n",
       "        [ 0.0539    ,  0.0522    ,  0.051     , ...,  0.01680127,\n",
       "          0.02616569,  0.02789479]])"
      ]
     },
     "execution_count": 101,
     "metadata": {},
     "output_type": "execute_result"
    },
    {
     "data": {
      "image/png": "[encoded data removed]",
      "text/plain": [
       "<matplotlib.figure.Figure at 0x11bb60550>"
      ]
     },
     "metadata": {},
     "output_type": "display_data"
    }
   ],
   "source": [
    "for i in range(num_sims):\n",
    "    plt.plot(np.asarray(libor_rate_matrix[i,:])[0])\n",
    "libor_rate_matrix"
   ]
  },
  {
   "cell_type": "code",
   "execution_count": 102,
   "metadata": {
    "collapsed": false
   },
   "outputs": [
    {
     "data": {
      "text/plain": [
       "[<matplotlib.lines.Line2D at 0x11c50d710>]"
      ]
     },
     "execution_count": 102,
     "metadata": {},
     "output_type": "execute_result"
    },
    {
     "data": {
      "image/png": "[encoded data removed]",
      "text/plain": [
       "<matplotlib.figure.Figure at 0x11d33d278>"
      ]
     },
     "metadata": {},
     "output_type": "display_data"
    }
   ],
   "source": [
    "plt.plot(np.asarray(libor_rate_matrix.mean(0))[0])"
   ]
  },
  {
   "cell_type": "code",
   "execution_count": null,
   "metadata": {
    "collapsed": false
   },
   "outputs": [],
   "source": []
  },
  {
   "cell_type": "code",
   "execution_count": 103,
   "metadata": {
    "collapsed": false
   },
   "outputs": [],
   "source": [
    "def get_SMM_matrices(gamma, p, beta, libor_rate_matrix, num_sims):\n",
    "    SMM_matrix_1 = []\n",
    "    SMM_matrix_2 = []\n",
    "\n",
    "    for i in range(num_sims):\n",
    "        hazard_arr_1 = []\n",
    "        hazard_arr_2 = []\n",
    "        SMM_arr_1 = []\n",
    "        SMM_arr_2 = []\n",
    "        libor_arr = np.asarray(libor_rate_matrix[i,:])[0]\n",
    "\n",
    "        SMM_matrix_1.append(pd.Series(SMM_func_arr(gamma, p, beta, 0, libor_arr)))\n",
    "        SMM_matrix_2.append(pd.Series(SMM_func_arr(gamma, p, beta, 1, libor_arr)))\n",
    "    return (SMM_matrix_1, SMM_matrix_2)\n",
    "\n",
    "(SMM_matrix_1, SMM_matrix_2) = get_SMM_matrices(gamma, p, beta, libor_rate_matrix, num_sims)"
   ]
  },
  {
   "cell_type": "code",
   "execution_count": null,
   "metadata": {
    "collapsed": false
   },
   "outputs": [],
   "source": []
  },
  {
   "cell_type": "code",
   "execution_count": null,
   "metadata": {
    "collapsed": false
   },
   "outputs": [],
   "source": []
  },
  {
   "cell_type": "markdown",
   "metadata": {},
   "source": [
    "# Qb"
   ]
  },
  {
   "cell_type": "code",
   "execution_count": 104,
   "metadata": {
    "collapsed": true
   },
   "outputs": [],
   "source": [
    "# basic information of two mortgage, for mortgage package\n",
    "principal_1 = 77657656.75\n",
    "monthly_interest_1 = 5.402/1200\n",
    "payment_number_1 = 236\n",
    "PSA_1 = 1.5\n",
    "maturity_1 = 20\n",
    "age_1 = 3\n",
    "\n",
    "principal_2 = 128842343.35\n",
    "monthly_interest_2 = 5.419/1200\n",
    "payment_number_2 = 237\n",
    "PSA_2 = 1.5\n",
    "maturity_2 = 20\n",
    "age_2 = 3\n",
    "\n",
    "CG = 74800000\n",
    "VE = 5200000\n",
    "CM = 14000000\n",
    "GZ = 22000000\n",
    "TC = 20000000\n",
    "CZ = 24000000\n",
    "CA = 32550000\n",
    "CY = 13950000\n",
    "tranche_coupon = 5/(12*100)"
   ]
  },
  {
   "cell_type": "code",
   "execution_count": 105,
   "metadata": {
    "collapsed": false
   },
   "outputs": [],
   "source": [
    "#import imp\n",
    "#m = imp.reload(m)"
   ]
  },
  {
   "cell_type": "code",
   "execution_count": 106,
   "metadata": {
    "collapsed": false,
    "scrolled": true
   },
   "outputs": [
    {
     "name": "stdout",
     "output_type": "stream",
     "text": [
      "0\n",
      "1\n",
      "2\n",
      "3\n",
      "4\n",
      "[ 76490902.40540001   5344715.5376      14471813.1696      22952122.085\n",
      "  21035945.9676      25948282.6176      33459531.776       14855067.3044    ]\n",
      "[  826099.93914081    82265.35864421   290581.89832975   638115.58221783\n",
      "   728796.83481132  1697970.41116566   507477.49199849   724359.19683696]\n"
     ]
    },
    {
     "data": {
      "text/plain": [
       "(array([ 76490902.40540001,   5344715.5376    ,  14471813.1696    ,\n",
       "         22952122.085     ,  21035945.9676    ,  25948282.6176    ,\n",
       "         33459531.776     ,  14855067.3044    ]),\n",
       " array([  826099.93914081,    82265.35864421,   290581.89832975,\n",
       "          638115.58221783,   728796.83481132,  1697970.41116566,\n",
       "          507477.49199849,   724359.19683696]))"
      ]
     },
     "execution_count": 106,
     "metadata": {},
     "output_type": "execute_result"
    }
   ],
   "source": [
    "def get_p_and_se(num_sims, SMM_matrix_1, SMM_matrix_2):\n",
    "    pricing_arr = []\n",
    "    for i in range(num_sims):\n",
    "        print(i)\n",
    "        SMM_arr_1 = SMM_matrix_1[i]\n",
    "        SMM_arr_2 = SMM_matrix_2[i]\n",
    "        pool_CF_1 = m.pool_CF(principal_1, monthly_interest_1, payment_number_1, PSA_1, maturity_1, age_1, SMM_arr_1)\n",
    "        pool_CF_2 = m.pool_CF(principal_2, monthly_interest_2, payment_number_2, PSA_2, maturity_2, age_2, SMM_arr_2)\n",
    "        summary_CF = m.summary_CF(pool_CF_1, pool_CF_2)\n",
    "        principal_CF_Alloc = m.Principal_CF_Alloc(summary_CF,tranche_coupon,CG,VE,CM,GZ,TC,CZ,CA,CY)\n",
    "        principal = m.Principal(principal_CF_Alloc)\n",
    "        balance = m.Balance(summary_CF,principal_CF_Alloc)\n",
    "        interest = m.Interest(balance,principal_CF_Alloc,summary_CF,tranche_coupon)\n",
    "        pricing = m.Pricing(principal,interest)\n",
    "        pricing_arr.append(pricing)\n",
    "\n",
    "    bond_prices_matrix = []\n",
    "    standard_errors_matrix = []\n",
    "    for i in range(num_sims):\n",
    "        pricing = pricing_arr[i]\n",
    "        # Adjsut the order of column \n",
    "        cols = pricing.columns.tolist()\n",
    "        cols = [cols[6], cols[1], cols[8], cols[2], cols[5], cols[7], cols[4], cols[0], cols[3]]\n",
    "        data_cashflow = pricing[cols]\n",
    "\n",
    "        # Price bonds\n",
    "        bonds = data_cashflow.iloc[:,1:]\n",
    "        # bond_prices = 0.5 * ((cum_df_matrix[i] * np.matrix(bonds)) + (cum_df_anti_matrix[i] * np.matrix(bonds)))\n",
    "        bond_prices = cum_df_matrix[i] * np.matrix(bonds)\n",
    "        bond_prices = np.asarray(bond_prices)[0]\n",
    "        bond_prices = [float('%.3f' % x) for x in bond_prices]\n",
    "\n",
    "\n",
    "        bond_prices_matrix.append(bond_prices)\n",
    "    bond_prices_matrix = np.matrix(bond_prices_matrix)\n",
    "    bond_prices = np.asarray(bond_prices_matrix.mean(0))[0]\n",
    "    standard_errors = np.asarray(bond_prices_matrix.std(0))[0]\n",
    "    print(bond_prices)\n",
    "    print(standard_errors)\n",
    "    return (bond_prices, standard_errors)\n",
    "\n",
    "get_p_and_se(num_sims, SMM_matrix_1, SMM_matrix_2)"
   ]
  },
  {
   "cell_type": "code",
   "execution_count": null,
   "metadata": {
    "collapsed": false
   },
   "outputs": [],
   "source": []
  },
  {
   "cell_type": "code",
   "execution_count": null,
   "metadata": {
    "collapsed": false
   },
   "outputs": [],
   "source": []
  },
  {
   "cell_type": "code",
   "execution_count": null,
   "metadata": {
    "collapsed": false
   },
   "outputs": [],
   "source": []
  },
  {
   "cell_type": "markdown",
   "metadata": {},
   "source": [
    "# Residual"
   ]
  },
  {
   "cell_type": "markdown",
   "metadata": {},
   "source": [
    "### V0"
   ]
  },
  {
   "cell_type": "code",
   "execution_count": 29,
   "metadata": {
    "collapsed": false
   },
   "outputs": [],
   "source": [
    "resid_tranche = summary_CF['Total_Interest'] + summary_CF['Total_Principal']\n",
    "residual_cashflow = []\n",
    "\n",
    "for r in r_matrix:\n",
    "    residual_cashflow.append(r * resid_tranche/24)\n",
    "residual_cashflow = np.matrix(residual_cashflow)\n",
    "\n",
    "residual_arr = []\n",
    "for d in cum_df_matrix:\n",
    "    residual_arr.append(np.dot(residual_cashflow,np.matrix(d).T))\n",
    "res_V0 = np.mean(residual_arr)\n",
    "res_std = np.std(residual_arr) / math.sqrt(num_sims)"
   ]
  },
  {
   "cell_type": "markdown",
   "metadata": {},
   "source": [
    "### V+ and V-"
   ]
  },
  {
   "cell_type": "code",
   "execution_count": 30,
   "metadata": {
    "collapsed": false
   },
   "outputs": [],
   "source": [
    "# Calculate V+ and V-\n",
    "(cum_df_matrix_p, cum_df_anti_matrix_p, r_matrix_p, r_anti_matrix_p) = HW.Monte_Carlo_2(kappa, sigma, r0+dr, T, dt, coeff, num_sims)\n",
    "(cum_df_matrix_m, cum_df_anti_matrix_m, r_matrix_m, r_anti_matrix_m) = HW.Monte_Carlo_2(kappa, sigma, r0-dr, T, dt, coeff, num_sims)\n",
    "\n",
    "# V+\n",
    "residual_cashflow = []\n",
    "for r in r_matrix_p:\n",
    "    residual_cashflow.append(r * resid_tranche/24)\n",
    "residual_cashflow = np.matrix(residual_cashflow)\n",
    "\n",
    "residual_arr = []\n",
    "for d in cum_df_matrix_p:\n",
    "    residual_arr.append(np.dot(residual_cashflow,np.matrix(d).T))\n",
    "res_V_plus = np.mean(residual_arr)\n",
    "\n",
    "# V-\n",
    "residual_cashflow = []\n",
    "for r in r_matrix_m:\n",
    "    residual_cashflow.append(r * resid_tranche/24)\n",
    "residual_cashflow = np.matrix(residual_cashflow)\n",
    "\n",
    "residual_arr = []\n",
    "for d in cum_df_matrix_m:\n",
    "    residual_arr.append(np.dot(residual_cashflow,np.matrix(d).T))\n",
    "res_V_minus = np.mean(residual_arr)"
   ]
  },
  {
   "cell_type": "markdown",
   "metadata": {},
   "source": [
    "# Residual Duration"
   ]
  },
  {
   "cell_type": "code",
   "execution_count": 31,
   "metadata": {
    "collapsed": true
   },
   "outputs": [],
   "source": [
    "res_dur = HW.Effective_Duration(res_V0, res_V_plus, res_V_minus, dr)"
   ]
  },
  {
   "cell_type": "markdown",
   "metadata": {},
   "source": [
    "# Residual Convexity"
   ]
  },
  {
   "cell_type": "code",
   "execution_count": 32,
   "metadata": {
    "collapsed": true
   },
   "outputs": [],
   "source": [
    "res_conv = HW.Effective_Convexity(res_V0, res_V_plus, res_V_minus, dr)"
   ]
  },
  {
   "cell_type": "markdown",
   "metadata": {},
   "source": [
    "# Cash Flows for all 8 bonds"
   ]
  },
  {
   "cell_type": "code",
   "execution_count": 33,
   "metadata": {
    "collapsed": false
   },
   "outputs": [
    {
     "data": {
      "text/html": [
       "<div>\n",
       "<table border=\"1\" class=\"dataframe\">\n",
       "  <thead>\n",
       "    <tr style=\"text-align: right;\">\n",
       "      <th></th>\n",
       "      <th>Period</th>\n",
       "      <th>CG</th>\n",
       "      <th>VE</th>\n",
       "      <th>CM</th>\n",
       "      <th>GZ</th>\n",
       "      <th>TC</th>\n",
       "      <th>CZ</th>\n",
       "      <th>CA</th>\n",
       "      <th>CY</th>\n",
       "    </tr>\n",
       "  </thead>\n",
       "  <tbody>\n",
       "    <tr>\n",
       "      <th>1</th>\n",
       "      <td>1.0</td>\n",
       "      <td>9.033040e+05</td>\n",
       "      <td>113333.333333</td>\n",
       "      <td>58333.333333</td>\n",
       "      <td>0.0</td>\n",
       "      <td>83333.333333</td>\n",
       "      <td>0.0</td>\n",
       "      <td>2.785071e+05</td>\n",
       "      <td>58125.0</td>\n",
       "    </tr>\n",
       "    <tr>\n",
       "      <th>2</th>\n",
       "      <td>2.0</td>\n",
       "      <td>1.198019e+06</td>\n",
       "      <td>113333.333333</td>\n",
       "      <td>58333.333333</td>\n",
       "      <td>0.0</td>\n",
       "      <td>83333.333333</td>\n",
       "      <td>0.0</td>\n",
       "      <td>3.641587e+05</td>\n",
       "      <td>58125.0</td>\n",
       "    </tr>\n",
       "    <tr>\n",
       "      <th>3</th>\n",
       "      <td>3.0</td>\n",
       "      <td>1.646742e+06</td>\n",
       "      <td>113333.333333</td>\n",
       "      <td>58333.333333</td>\n",
       "      <td>0.0</td>\n",
       "      <td>83333.333333</td>\n",
       "      <td>0.0</td>\n",
       "      <td>4.945689e+05</td>\n",
       "      <td>58125.0</td>\n",
       "    </tr>\n",
       "    <tr>\n",
       "      <th>4</th>\n",
       "      <td>4.0</td>\n",
       "      <td>2.940639e+06</td>\n",
       "      <td>113333.333333</td>\n",
       "      <td>58333.333333</td>\n",
       "      <td>0.0</td>\n",
       "      <td>83333.333333</td>\n",
       "      <td>0.0</td>\n",
       "      <td>8.706077e+05</td>\n",
       "      <td>58125.0</td>\n",
       "    </tr>\n",
       "    <tr>\n",
       "      <th>5</th>\n",
       "      <td>5.0</td>\n",
       "      <td>3.781112e+06</td>\n",
       "      <td>113333.333333</td>\n",
       "      <td>58333.333333</td>\n",
       "      <td>0.0</td>\n",
       "      <td>83333.333333</td>\n",
       "      <td>0.0</td>\n",
       "      <td>1.114870e+06</td>\n",
       "      <td>58125.0</td>\n",
       "    </tr>\n",
       "  </tbody>\n",
       "</table>\n",
       "</div>"
      ],
      "text/plain": [
       "   Period            CG             VE            CM   GZ            TC   CZ  \\\n",
       "1     1.0  9.033040e+05  113333.333333  58333.333333  0.0  83333.333333  0.0   \n",
       "2     2.0  1.198019e+06  113333.333333  58333.333333  0.0  83333.333333  0.0   \n",
       "3     3.0  1.646742e+06  113333.333333  58333.333333  0.0  83333.333333  0.0   \n",
       "4     4.0  2.940639e+06  113333.333333  58333.333333  0.0  83333.333333  0.0   \n",
       "5     5.0  3.781112e+06  113333.333333  58333.333333  0.0  83333.333333  0.0   \n",
       "\n",
       "             CA       CY  \n",
       "1  2.785071e+05  58125.0  \n",
       "2  3.641587e+05  58125.0  \n",
       "3  4.945689e+05  58125.0  \n",
       "4  8.706077e+05  58125.0  \n",
       "5  1.114870e+06  58125.0  "
      ]
     },
     "execution_count": 33,
     "metadata": {},
     "output_type": "execute_result"
    }
   ],
   "source": [
    "data_cashflow.head()"
   ]
  },
  {
   "cell_type": "markdown",
   "metadata": {},
   "source": [
    "# Price of Bonds, Duration and Convexity"
   ]
  },
  {
   "cell_type": "code",
   "execution_count": 34,
   "metadata": {
    "collapsed": false
   },
   "outputs": [],
   "source": [
    "# Calculate V+ and V-\n",
    "(cum_df_matrix_p, cum_df_anti_matrix_p, r_matrix_p, r_anti_matrix_p) = HW.Monte_Carlo_2(kappa, sigma, r0+dr, T, dt, coeff, num_sims)\n",
    "(cum_df_matrix_m, cum_df_anti_matrix_m, r_matrix_m, r_anti_matrix_m) = HW.Monte_Carlo_2(kappa, sigma, r0-dr, T, dt, coeff, num_sims)\n",
    "\n",
    "bond_price_matrix_p = 0.5 * ((cum_df_matrix_p * np.matrix(bonds)) + (cum_df_anti_matrix_p * np.matrix(bonds)))\n",
    "bond_prices_p = bond_price_matrix_p.mean(0).tolist()[0]\n",
    "bond_prices_p = [float('%.3f' % x) for x in bond_prices_p]\n",
    "\n",
    "bond_price_matrix_m = 0.5 * ((cum_df_matrix_m * np.matrix(bonds)) + (cum_df_anti_matrix_m * np.matrix(bonds)))\n",
    "bond_prices_m = bond_price_matrix_m.mean(0).tolist()[0]\n",
    "bond_prices_m = [float('%.3f' % x) for x in bond_prices_m]\n",
    "\n",
    "# Calculate effective duration\n",
    "eff_durs = HW.Effective_Duration(bond_prices, bond_prices_p, bond_prices_m, dr)\n",
    "eff_durs = [float('%.3f' % x) for x in eff_durs]\n",
    "\n",
    "# Calculate effective convexity\n",
    "eff_conv = HW.Effective_Convexity(bond_prices, bond_prices_p, bond_prices_m, dr)\n",
    "eff_conv = [float('%.3f' % x) for x in eff_conv]\n",
    "\n",
    "par_price = np.array((CG,VE,CM,GZ,TC,CZ,CA,CY))\n",
    "\n",
    "def oas_obj_func(oas,bond,i):\n",
    "    dt = 1/12\n",
    "    iterations = 240\n",
    "    r_matrix_new = r_matrix + oas\n",
    "    df_matrix_new = np.exp(-r_matrix_new*dt)\n",
    "    cum_df_matrix_new = np.zeros((num_sims, iterations))\n",
    "    for j in range(num_sims):\n",
    "        cum_df_matrix_new[j,:] = df_matrix_new[j,:].cumprod()\n",
    "    #return (cum_df_matrix_new * (np.matrix(bond).T)).mean()\n",
    "    return (((cum_df_matrix_new * (np.matrix(bond).T)).mean() - par_price[i])/1e7)**2 \n",
    "\n",
    "oas_arr = []\n",
    "for i in range(8):\n",
    "    oas_res = sp.optimize.minimize(lambda oas: oas_obj_func(oas, bonds.iloc[:,i],i),0.01)\n",
    "    oas_arr.append(oas_res.x[0])\n",
    "\n",
    "# merge results into dataframe\n",
    "df = pd.DataFrame([bond_prices, standard_errors, eff_durs, eff_conv, oas_arr],\n",
    "columns=data_cashflow.columns[1:], \n",
    "index=['Bond Prices', 'Standard Errors', 'Effective Duration', 'Effective Convexity','OAS'])"
   ]
  },
  {
   "cell_type": "markdown",
   "metadata": {},
   "source": [
    "### Add residual to final results"
   ]
  },
  {
   "cell_type": "code",
   "execution_count": 35,
   "metadata": {
    "collapsed": false
   },
   "outputs": [],
   "source": [
    "df['R'] = [res_V0, res_std, res_dur, res_conv, np.nan]"
   ]
  },
  {
   "cell_type": "markdown",
   "metadata": {},
   "source": [
    "### The bond price"
   ]
  },
  {
   "cell_type": "code",
   "execution_count": 36,
   "metadata": {
    "collapsed": false
   },
   "outputs": [
    {
     "data": {
      "text/html": [
       "<div>\n",
       "<table border=\"1\" class=\"dataframe\">\n",
       "  <thead>\n",
       "    <tr style=\"text-align: right;\">\n",
       "      <th></th>\n",
       "      <th>CG</th>\n",
       "      <th>VE</th>\n",
       "      <th>CM</th>\n",
       "      <th>GZ</th>\n",
       "      <th>TC</th>\n",
       "      <th>CZ</th>\n",
       "      <th>CA</th>\n",
       "      <th>CY</th>\n",
       "      <th>R</th>\n",
       "    </tr>\n",
       "  </thead>\n",
       "  <tbody>\n",
       "    <tr>\n",
       "      <th>Bond Prices</th>\n",
       "      <td>7.663557e+07</td>\n",
       "      <td>5.358330e+06</td>\n",
       "      <td>1.451004e+07</td>\n",
       "      <td>2.294843e+07</td>\n",
       "      <td>2.095859e+07</td>\n",
       "      <td>2.548817e+07</td>\n",
       "      <td>3.351446e+07</td>\n",
       "      <td>1.469998e+07</td>\n",
       "      <td>2.818838e+05</td>\n",
       "    </tr>\n",
       "    <tr>\n",
       "      <th>Standard Errors</th>\n",
       "      <td>1.333047e+05</td>\n",
       "      <td>8.065901e+03</td>\n",
       "      <td>3.272515e+04</td>\n",
       "      <td>1.063423e+05</td>\n",
       "      <td>1.181294e+05</td>\n",
       "      <td>1.113387e+05</td>\n",
       "      <td>7.647957e+04</td>\n",
       "      <td>6.804543e+04</td>\n",
       "      <td>7.740535e+04</td>\n",
       "    </tr>\n",
       "    <tr>\n",
       "      <th>Effective Duration</th>\n",
       "      <td>8.320000e-01</td>\n",
       "      <td>1.062000e+00</td>\n",
       "      <td>1.270000e+00</td>\n",
       "      <td>1.523000e+00</td>\n",
       "      <td>1.814000e+00</td>\n",
       "      <td>2.649000e+00</td>\n",
       "      <td>1.022000e+00</td>\n",
       "      <td>2.186000e+00</td>\n",
       "      <td>-2.331479e+01</td>\n",
       "    </tr>\n",
       "    <tr>\n",
       "      <th>Effective Convexity</th>\n",
       "      <td>8.284522e+04</td>\n",
       "      <td>1.914725e+05</td>\n",
       "      <td>1.895393e+05</td>\n",
       "      <td>2.014261e+05</td>\n",
       "      <td>6.003210e+05</td>\n",
       "      <td>7.466229e+05</td>\n",
       "      <td>1.165061e+05</td>\n",
       "      <td>6.509243e+05</td>\n",
       "      <td>2.473509e+07</td>\n",
       "    </tr>\n",
       "    <tr>\n",
       "      <th>OAS</th>\n",
       "      <td>2.452776e-02</td>\n",
       "      <td>2.327958e-02</td>\n",
       "      <td>2.272965e-02</td>\n",
       "      <td>2.223861e-02</td>\n",
       "      <td>2.220318e-02</td>\n",
       "      <td>1.764880e-02</td>\n",
       "      <td>2.356204e-02</td>\n",
       "      <td>1.934957e-02</td>\n",
       "      <td>NaN</td>\n",
       "    </tr>\n",
       "  </tbody>\n",
       "</table>\n",
       "</div>"
      ],
      "text/plain": [
       "                               CG            VE            CM            GZ  \\\n",
       "Bond Prices          7.663557e+07  5.358330e+06  1.451004e+07  2.294843e+07   \n",
       "Standard Errors      1.333047e+05  8.065901e+03  3.272515e+04  1.063423e+05   \n",
       "Effective Duration   8.320000e-01  1.062000e+00  1.270000e+00  1.523000e+00   \n",
       "Effective Convexity  8.284522e+04  1.914725e+05  1.895393e+05  2.014261e+05   \n",
       "OAS                  2.452776e-02  2.327958e-02  2.272965e-02  2.223861e-02   \n",
       "\n",
       "                               TC            CZ            CA            CY  \\\n",
       "Bond Prices          2.095859e+07  2.548817e+07  3.351446e+07  1.469998e+07   \n",
       "Standard Errors      1.181294e+05  1.113387e+05  7.647957e+04  6.804543e+04   \n",
       "Effective Duration   1.814000e+00  2.649000e+00  1.022000e+00  2.186000e+00   \n",
       "Effective Convexity  6.003210e+05  7.466229e+05  1.165061e+05  6.509243e+05   \n",
       "OAS                  2.220318e-02  1.764880e-02  2.356204e-02  1.934957e-02   \n",
       "\n",
       "                                R  \n",
       "Bond Prices          2.818838e+05  \n",
       "Standard Errors      7.740535e+04  \n",
       "Effective Duration  -2.331479e+01  \n",
       "Effective Convexity  2.473509e+07  \n",
       "OAS                           NaN  "
      ]
     },
     "execution_count": 36,
     "metadata": {},
     "output_type": "execute_result"
    }
   ],
   "source": [
    "df"
   ]
  },
  {
   "cell_type": "markdown",
   "metadata": {},
   "source": [
    "# Q(c)"
   ]
  },
  {
   "cell_type": "markdown",
   "metadata": {},
   "source": [
    "### Ouput results from matlab functions"
   ]
  },
  {
   "cell_type": "code",
   "execution_count": 37,
   "metadata": {
    "collapsed": true
   },
   "outputs": [],
   "source": [
    "gamma_non = 0.0048375\n",
    "p_non = 1.31377\n",
    "beta_1_non = 69.75265\n",
    "beta_2_non = -0.4082"
   ]
  },
  {
   "cell_type": "code",
   "execution_count": 39,
   "metadata": {
    "collapsed": false
   },
   "outputs": [],
   "source": [
    "\n",
    "'''\n",
    "hazard_arr_1_non = []\n",
    "hazard_arr_2_non = []\n",
    "SMM_arr_1_non = []\n",
    "SMM_arr_2_non = []\n",
    "\n",
    "for t in range(1,241):\n",
    "    hazard_arr_1_non.append(hazard_func(t, gamma_non, p_non, beta_non, 0))\n",
    "    hazard_arr_2.append(hazard_func(t, gamma_non, p_non, beta_non, 1))\n",
    "    SMM_arr_1_non.append(SMM_func(t-1, t, gamma_non, p_non, beta_non, 0))\n",
    "    SMM_arr_2_non.append(SMM_func(t-1, t, gamma_non, p_non, beta_non, 1))\n",
    "    \n",
    "SMM_arr_1_non = pd.Series(SMM_arr_1_non)\n",
    "SMM_arr_2_non = pd.Series(SMM_arr_2_non)\n",
    "\n",
    "'''\n",
    "\n",
    "\n",
    "beta_non = np.array([beta_1_non, beta_2_non])\n",
    "\n",
    "SMM_matrix_1_non = []\n",
    "SMM_matrix_2_non = []\n",
    "\n",
    "for i in range(num_sims):\n",
    "    hazard_arr_1_non = []\n",
    "    hazard_arr_2_non = []\n",
    "    SMM_arr_1_non = []\n",
    "    SMM_arr_2_non = []\n",
    "    libor_arr = np.asarray(libor_rate_matrix[i,:])[0]\n",
    "    SMM_matrix_1_non.append(pd.Series(SMM_func_arr(gamma_non, p_non, beta_non, 0, libor_arr)))\n",
    "    SMM_matrix_2_non.append(pd.Series(SMM_func_arr(gamma_non, p_non, beta_non, 1, libor_arr)))\n"
   ]
  },
  {
   "cell_type": "code",
   "execution_count": null,
   "metadata": {
    "collapsed": false
   },
   "outputs": [],
   "source": [
    "'''\n",
    "plt.plot(SMM_arr_1_non)\n",
    "plt.plot(SMM_arr_2_non)\n",
    "a_non = len(SMM_arr_1_non)\n",
    "print(a_non)\n",
    "print(len(SMM_arr_1_non))\n",
    "'''\n",
    "\n",
    "pricing_arr_non = []\n",
    "for i in range(num_sims):\n",
    "    print(i)\n",
    "    SMM_arr_1_non = SMM_matrix_1_non[i]\n",
    "    SMM_arr_2_non = SMM_matrix_2_non[i]\n",
    "    pool_CF_1 = m.pool_CF(principal_1, monthly_interest_1, payment_number_1, PSA_1, maturity_1, age_1, SMM_arr_1_non)\n",
    "    pool_CF_2 = m.pool_CF(principal_2, monthly_interest_2, payment_number_2, PSA_2, maturity_2, age_2, SMM_arr_2_non)\n",
    "    summary_CF = m.summary_CF(pool_CF_1, pool_CF_2)\n",
    "    principal_CF_Alloc = m.Principal_CF_Alloc(summary_CF,tranche_coupon,CG,VE,CM,GZ,TC,CZ,CA,CY)\n",
    "    principal = m.Principal(principal_CF_Alloc)\n",
    "    balance = m.Balance(summary_CF,principal_CF_Alloc)\n",
    "    interest = m.Interest(balance,principal_CF_Alloc,summary_CF,tranche_coupon)\n",
    "    pricing = m.Pricing(principal,interest)\n",
    "    pricing_arr_non.append(pricing)"
   ]
  },
  {
   "cell_type": "code",
   "execution_count": null,
   "metadata": {
    "collapsed": true
   },
   "outputs": [],
   "source": [
    "\n",
    "'''\n",
    "pool_CF_1 = m.pool_CF(principal_1, monthly_interest_1, payment_number_1, PSA_1, maturity_1, age_1, SMM_arr_1_non)\n",
    "pool_CF_2 = m.pool_CF(principal_2, monthly_interest_2, payment_number_2, PSA_2, maturity_2, age_2, SMM_arr_2_non)\n",
    "summary_CF = m.summary_CF(pool_CF_1, pool_CF_2)\n",
    "principal_CF_Alloc = m.Principal_CF_Alloc(summary_CF,tranche_coupon,CG,VE,CM,GZ,TC,CZ,CA,CY)\n",
    "principal = m.Principal(principal_CF_Alloc)\n",
    "balance = m.Balance(summary_CF,principal_CF_Alloc)\n",
    "interest = m.Interest(balance,principal_CF_Alloc,summary_CF,tranche_coupon)\n",
    "pricing = m.Pricing(principal,interest)\n",
    "'''"
   ]
  },
  {
   "cell_type": "code",
   "execution_count": null,
   "metadata": {
    "collapsed": false
   },
   "outputs": [],
   "source": [
    "# Adjsut the order of column \n",
    "cols = pricing.columns.tolist()\n",
    "cols = cols[6:7] + cols[1:2] + cols[8:9] + cols[2:3] + cols[5:6] + cols[7:8] + cols[4:5] + cols[0:1] + cols[3:4]\n",
    "data_cashflow = pricing[cols]\n",
    "data_cashflow.head()"
   ]
  },
  {
   "cell_type": "code",
   "execution_count": null,
   "metadata": {
    "collapsed": true
   },
   "outputs": [],
   "source": [
    "# 5,000 simulation, so that the total number of paths is 10,000\n",
    "num_sims = 1000\n",
    "T = 20\n",
    "dt = 1.0/12.0\n",
    "dr = 10e-5  # dr taken to be arbitrarily small\n",
    "## Simlation:\n",
    "## cum_df_matrix = cumulative discount factor matrix\n",
    "## cum_df_anti_matrix = cumulative discount factor matrix with antithetic path\n",
    "(cum_df_matrix, cum_df_anti_matrix, r_matrix, r_anti_matrix) = HW.Monte_Carlo_2(kappa, sigma, r0, K, T, dt, coeff, num_sims)\n",
    "\n",
    "\n",
    "# Price bonds\n",
    "bonds = data_cashflow.iloc[:,1:]\n",
    "bond_price_matrix = 0.5 * ((cum_df_matrix * np.matrix(bonds)) + (cum_df_anti_matrix * np.matrix(bonds)))\n",
    "bond_prices = bond_price_matrix.mean(0).tolist()[0]\n",
    "bond_prices = [float('%.3f' % x) for x in bond_prices]\n",
    "\n",
    "# Get standard errors of bonds\n",
    "standard_errors = HW.Std_Err(bond_price_matrix, num_sims)"
   ]
  },
  {
   "cell_type": "markdown",
   "metadata": {},
   "source": [
    "### V+ and V-"
   ]
  },
  {
   "cell_type": "code",
   "execution_count": null,
   "metadata": {
    "collapsed": true
   },
   "outputs": [],
   "source": [
    "# Calculate V+ and V-\n",
    "(cum_df_matrix_p, cum_df_anti_matrix_p, r_matrix_p, r_anti_matrix_p) = HW.Monte_Carlo_2(kappa, sigma, r0+dr, K, T, dt, coeff, num_sims)\n",
    "(cum_df_matrix_m, cum_df_anti_matrix_m, r_matrix_m, r_anti_matrix_m) = HW.Monte_Carlo_2(kappa, sigma, r0-dr, K, T, dt, coeff, num_sims)\n",
    "\n",
    "# V+\n",
    "residual_cashflow = []\n",
    "for r in r_matrix_p:\n",
    "    residual_cashflow.append(r * resid_tranche/24)\n",
    "residual_cashflow = np.matrix(residual_cashflow)\n",
    "\n",
    "residual_arr = []\n",
    "for d in cum_df_matrix_p:\n",
    "    residual_arr.append(np.dot(residual_cashflow,np.matrix(d).T))\n",
    "res_V_plus = np.mean(residual_arr)\n",
    "\n",
    "# V-\n",
    "residual_cashflow = []\n",
    "for r in r_matrix_m:\n",
    "    residual_cashflow.append(r * resid_tranche/24)\n",
    "residual_cashflow = np.matrix(residual_cashflow)\n",
    "\n",
    "residual_arr = []\n",
    "for d in cum_df_matrix_m:\n",
    "    residual_arr.append(np.dot(residual_cashflow,np.matrix(d).T))\n",
    "res_V_minus = np.mean(residual_arr)"
   ]
  },
  {
   "cell_type": "markdown",
   "metadata": {},
   "source": [
    "### Residual Duration and Convexity"
   ]
  },
  {
   "cell_type": "code",
   "execution_count": null,
   "metadata": {
    "collapsed": false
   },
   "outputs": [],
   "source": [
    "res_dur = HW.Effective_Duration(res_V0, res_V_plus, res_V_minus, dr)\n",
    "res_conv = HW.Effective_Convexity(res_V0, res_V_plus, res_V_minus, dr)\n",
    "\n",
    "# Cash Flows for all 8 bonds\n",
    "data_cashflow.head()"
   ]
  },
  {
   "cell_type": "markdown",
   "metadata": {},
   "source": [
    "# Price of Bonds, Duration and Convexity\n",
    "\n"
   ]
  },
  {
   "cell_type": "code",
   "execution_count": null,
   "metadata": {
    "collapsed": true
   },
   "outputs": [],
   "source": [
    "# Calculate V+ and V-\n",
    "(cum_df_matrix_p, cum_df_anti_matrix_p, r_matrix_p, r_anti_matrix_p) = HW.Monte_Carlo_2(kappa, sigma, r0+dr, K, T, dt, coeff, num_sims)\n",
    "(cum_df_matrix_m, cum_df_anti_matrix_m, r_matrix_m, r_anti_matrix_m) = HW.Monte_Carlo_2(kappa, sigma, r0-dr, K, T, dt, coeff, num_sims)\n",
    "\n",
    "bond_price_matrix_p = 0.5 * ((cum_df_matrix_p * np.matrix(bonds)) + (cum_df_anti_matrix_p * np.matrix(bonds)))\n",
    "bond_prices_p = bond_price_matrix_p.mean(0).tolist()[0]\n",
    "bond_prices_p = [float('%.3f' % x) for x in bond_prices_p]\n",
    "\n",
    "bond_price_matrix_m = 0.5 * ((cum_df_matrix_m * np.matrix(bonds)) + (cum_df_anti_matrix_m * np.matrix(bonds)))\n",
    "bond_prices_m = bond_price_matrix_m.mean(0).tolist()[0]\n",
    "bond_prices_m = [float('%.3f' % x) for x in bond_prices_m]\n",
    "\n",
    "# Calculate effective duration\n",
    "eff_durs = HW.Effective_Duration(bond_prices, bond_prices_p, bond_prices_m, dr)\n",
    "eff_durs = [float('%.3f' % x) for x in eff_durs]\n",
    "\n",
    "# Calculate effective convexity\n",
    "eff_conv = HW.Effective_Convexity(bond_prices, bond_prices_p, bond_prices_m, dr)\n",
    "eff_conv = [float('%.3f' % x) for x in eff_conv]\n",
    "\n",
    "par_price = np.array((CG,VE,CM,GZ,TC,CZ,CA,CY))\n",
    "\n",
    "def oas_obj_func(oas,bond,i):\n",
    "    dt = 1/12\n",
    "    iterations = 240\n",
    "    r_matrix_new = r_matrix + oas\n",
    "    df_matrix_new = np.exp(-r_matrix_new*dt)\n",
    "    cum_df_matrix_new = np.zeros((num_sims, iterations))\n",
    "    for j in range(num_sims):\n",
    "        cum_df_matrix_new[j,:] = df_matrix_new[j,:].cumprod()\n",
    "    #return (cum_df_matrix_new * (np.matrix(bond).T)).mean()\n",
    "    return (((cum_df_matrix_new * (np.matrix(bond).T)).mean() - par_price[i])/1e7)**2 \n",
    "\n",
    "oas_arr = []\n",
    "for i in range(8):\n",
    "    oas_res = sp.optimize.minimize(lambda oas: oas_obj_func(oas, bonds.iloc[:,i],i),0.01)\n",
    "    oas_arr.append(oas_res.x[0])\n",
    "\n",
    "# merge results into dataframe\n",
    "df = pd.DataFrame([bond_prices, standard_errors, eff_durs, eff_conv, oas_arr],\n",
    "columns=data_cashflow.columns[1:], \n",
    "index=['Bond Prices', 'Standard Errors', 'Effective Duration', 'Effective Convexity','OAS'])\n",
    "\n",
    "# Add residual to final result\n",
    "df['R'] = [res_V0, res_std, res_dur, res_conv, np.nan]\n"
   ]
  },
  {
   "cell_type": "code",
   "execution_count": null,
   "metadata": {
    "collapsed": false
   },
   "outputs": [],
   "source": [
    "df"
   ]
  }
 ],
 "metadata": {
  "anaconda-cloud": {},
  "kernelspec": {
   "display_name": "Python [Root]",
   "language": "python",
   "name": "Python [Root]"
  },
  "language_info": {
   "codemirror_mode": {
    "name": "ipython",
    "version": 3
   },
   "file_extension": ".py",
   "mimetype": "text/x-python",
   "name": "python",
   "nbconvert_exporter": "python",
   "pygments_lexer": "ipython3",
   "version": "3.5.1"
  }
 },
 "nbformat": 4,
 "nbformat_minor": 1
}
